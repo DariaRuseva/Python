{
 "cells": [
  {
   "cell_type": "code",
   "execution_count": 9,
   "metadata": {},
   "outputs": [],
   "source": [
    "import pandas as pd\n",
    "import numpy as np\n",
    "import seaborn  as sns\n",
    "import matplotlib.pyplot as plt "
   ]
  },
  {
   "cell_type": "code",
   "execution_count": 10,
   "metadata": {},
   "outputs": [
    {
     "ename": "FileNotFoundError",
     "evalue": "[Errno 2] No such file or directory: 'C:\\\\Users\\\\dariy\\\\OneDrive\\\\Работен плот\\\\Code Academy\\\\SQL\\\\Superstore.csv'",
     "output_type": "error",
     "traceback": [
      "\u001b[1;31m---------------------------------------------------------------------------\u001b[0m",
      "\u001b[1;31mFileNotFoundError\u001b[0m                         Traceback (most recent call last)",
      "\u001b[1;32mc:\\Users\\dariy\\OneDrive\\Работен плот\\Code Academy\\SQL\\E-Commerce Project.ipynb Cell 2\u001b[0m line \u001b[0;36m1\n\u001b[1;32m----> <a href='vscode-notebook-cell:/c%3A/Users/dariy/OneDrive/%D0%A0%D0%B0%D0%B1%D0%BE%D1%82%D0%B5%D0%BD%20%D0%BF%D0%BB%D0%BE%D1%82/Code%20Academy/SQL/E-Commerce%20Project.ipynb#W1sZmlsZQ%3D%3D?line=0'>1</a>\u001b[0m vsstore \u001b[39m=\u001b[39m pd\u001b[39m.\u001b[39mread_csv(\u001b[39m\"\u001b[39m\u001b[39mC:\u001b[39m\u001b[39m\\\\\u001b[39;00m\u001b[39mUsers\u001b[39m\u001b[39m\\\\\u001b[39;00m\u001b[39mdariy\u001b[39m\u001b[39m\\\\\u001b[39;00m\u001b[39mOneDrive\u001b[39m\u001b[39m\\\\\u001b[39;00m\u001b[39mРаботен плот\u001b[39m\u001b[39m\\\\\u001b[39;00m\u001b[39mCode Academy\u001b[39m\u001b[39m\\\\\u001b[39;00m\u001b[39mSQL\u001b[39m\u001b[39m\\\\\u001b[39;00m\u001b[39mSuperstore.csv\u001b[39m\u001b[39m\"\u001b[39m, encoding\u001b[39m=\u001b[39m\u001b[39m'\u001b[39m\u001b[39mlatin1\u001b[39m\u001b[39m'\u001b[39m)\n",
      "File \u001b[1;32mc:\\Users\\dariy\\anaconda3\\Lib\\site-packages\\pandas\\io\\parsers\\readers.py:948\u001b[0m, in \u001b[0;36mread_csv\u001b[1;34m(filepath_or_buffer, sep, delimiter, header, names, index_col, usecols, dtype, engine, converters, true_values, false_values, skipinitialspace, skiprows, skipfooter, nrows, na_values, keep_default_na, na_filter, verbose, skip_blank_lines, parse_dates, infer_datetime_format, keep_date_col, date_parser, date_format, dayfirst, cache_dates, iterator, chunksize, compression, thousands, decimal, lineterminator, quotechar, quoting, doublequote, escapechar, comment, encoding, encoding_errors, dialect, on_bad_lines, delim_whitespace, low_memory, memory_map, float_precision, storage_options, dtype_backend)\u001b[0m\n\u001b[0;32m    935\u001b[0m kwds_defaults \u001b[39m=\u001b[39m _refine_defaults_read(\n\u001b[0;32m    936\u001b[0m     dialect,\n\u001b[0;32m    937\u001b[0m     delimiter,\n\u001b[1;32m   (...)\u001b[0m\n\u001b[0;32m    944\u001b[0m     dtype_backend\u001b[39m=\u001b[39mdtype_backend,\n\u001b[0;32m    945\u001b[0m )\n\u001b[0;32m    946\u001b[0m kwds\u001b[39m.\u001b[39mupdate(kwds_defaults)\n\u001b[1;32m--> 948\u001b[0m \u001b[39mreturn\u001b[39;00m _read(filepath_or_buffer, kwds)\n",
      "File \u001b[1;32mc:\\Users\\dariy\\anaconda3\\Lib\\site-packages\\pandas\\io\\parsers\\readers.py:611\u001b[0m, in \u001b[0;36m_read\u001b[1;34m(filepath_or_buffer, kwds)\u001b[0m\n\u001b[0;32m    608\u001b[0m _validate_names(kwds\u001b[39m.\u001b[39mget(\u001b[39m\"\u001b[39m\u001b[39mnames\u001b[39m\u001b[39m\"\u001b[39m, \u001b[39mNone\u001b[39;00m))\n\u001b[0;32m    610\u001b[0m \u001b[39m# Create the parser.\u001b[39;00m\n\u001b[1;32m--> 611\u001b[0m parser \u001b[39m=\u001b[39m TextFileReader(filepath_or_buffer, \u001b[39m*\u001b[39m\u001b[39m*\u001b[39mkwds)\n\u001b[0;32m    613\u001b[0m \u001b[39mif\u001b[39;00m chunksize \u001b[39mor\u001b[39;00m iterator:\n\u001b[0;32m    614\u001b[0m     \u001b[39mreturn\u001b[39;00m parser\n",
      "File \u001b[1;32mc:\\Users\\dariy\\anaconda3\\Lib\\site-packages\\pandas\\io\\parsers\\readers.py:1448\u001b[0m, in \u001b[0;36mTextFileReader.__init__\u001b[1;34m(self, f, engine, **kwds)\u001b[0m\n\u001b[0;32m   1445\u001b[0m     \u001b[39mself\u001b[39m\u001b[39m.\u001b[39moptions[\u001b[39m\"\u001b[39m\u001b[39mhas_index_names\u001b[39m\u001b[39m\"\u001b[39m] \u001b[39m=\u001b[39m kwds[\u001b[39m\"\u001b[39m\u001b[39mhas_index_names\u001b[39m\u001b[39m\"\u001b[39m]\n\u001b[0;32m   1447\u001b[0m \u001b[39mself\u001b[39m\u001b[39m.\u001b[39mhandles: IOHandles \u001b[39m|\u001b[39m \u001b[39mNone\u001b[39;00m \u001b[39m=\u001b[39m \u001b[39mNone\u001b[39;00m\n\u001b[1;32m-> 1448\u001b[0m \u001b[39mself\u001b[39m\u001b[39m.\u001b[39m_engine \u001b[39m=\u001b[39m \u001b[39mself\u001b[39m\u001b[39m.\u001b[39m_make_engine(f, \u001b[39mself\u001b[39m\u001b[39m.\u001b[39mengine)\n",
      "File \u001b[1;32mc:\\Users\\dariy\\anaconda3\\Lib\\site-packages\\pandas\\io\\parsers\\readers.py:1705\u001b[0m, in \u001b[0;36mTextFileReader._make_engine\u001b[1;34m(self, f, engine)\u001b[0m\n\u001b[0;32m   1703\u001b[0m     \u001b[39mif\u001b[39;00m \u001b[39m\"\u001b[39m\u001b[39mb\u001b[39m\u001b[39m\"\u001b[39m \u001b[39mnot\u001b[39;00m \u001b[39min\u001b[39;00m mode:\n\u001b[0;32m   1704\u001b[0m         mode \u001b[39m+\u001b[39m\u001b[39m=\u001b[39m \u001b[39m\"\u001b[39m\u001b[39mb\u001b[39m\u001b[39m\"\u001b[39m\n\u001b[1;32m-> 1705\u001b[0m \u001b[39mself\u001b[39m\u001b[39m.\u001b[39mhandles \u001b[39m=\u001b[39m get_handle(\n\u001b[0;32m   1706\u001b[0m     f,\n\u001b[0;32m   1707\u001b[0m     mode,\n\u001b[0;32m   1708\u001b[0m     encoding\u001b[39m=\u001b[39m\u001b[39mself\u001b[39m\u001b[39m.\u001b[39moptions\u001b[39m.\u001b[39mget(\u001b[39m\"\u001b[39m\u001b[39mencoding\u001b[39m\u001b[39m\"\u001b[39m, \u001b[39mNone\u001b[39;00m),\n\u001b[0;32m   1709\u001b[0m     compression\u001b[39m=\u001b[39m\u001b[39mself\u001b[39m\u001b[39m.\u001b[39moptions\u001b[39m.\u001b[39mget(\u001b[39m\"\u001b[39m\u001b[39mcompression\u001b[39m\u001b[39m\"\u001b[39m, \u001b[39mNone\u001b[39;00m),\n\u001b[0;32m   1710\u001b[0m     memory_map\u001b[39m=\u001b[39m\u001b[39mself\u001b[39m\u001b[39m.\u001b[39moptions\u001b[39m.\u001b[39mget(\u001b[39m\"\u001b[39m\u001b[39mmemory_map\u001b[39m\u001b[39m\"\u001b[39m, \u001b[39mFalse\u001b[39;00m),\n\u001b[0;32m   1711\u001b[0m     is_text\u001b[39m=\u001b[39mis_text,\n\u001b[0;32m   1712\u001b[0m     errors\u001b[39m=\u001b[39m\u001b[39mself\u001b[39m\u001b[39m.\u001b[39moptions\u001b[39m.\u001b[39mget(\u001b[39m\"\u001b[39m\u001b[39mencoding_errors\u001b[39m\u001b[39m\"\u001b[39m, \u001b[39m\"\u001b[39m\u001b[39mstrict\u001b[39m\u001b[39m\"\u001b[39m),\n\u001b[0;32m   1713\u001b[0m     storage_options\u001b[39m=\u001b[39m\u001b[39mself\u001b[39m\u001b[39m.\u001b[39moptions\u001b[39m.\u001b[39mget(\u001b[39m\"\u001b[39m\u001b[39mstorage_options\u001b[39m\u001b[39m\"\u001b[39m, \u001b[39mNone\u001b[39;00m),\n\u001b[0;32m   1714\u001b[0m )\n\u001b[0;32m   1715\u001b[0m \u001b[39massert\u001b[39;00m \u001b[39mself\u001b[39m\u001b[39m.\u001b[39mhandles \u001b[39mis\u001b[39;00m \u001b[39mnot\u001b[39;00m \u001b[39mNone\u001b[39;00m\n\u001b[0;32m   1716\u001b[0m f \u001b[39m=\u001b[39m \u001b[39mself\u001b[39m\u001b[39m.\u001b[39mhandles\u001b[39m.\u001b[39mhandle\n",
      "File \u001b[1;32mc:\\Users\\dariy\\anaconda3\\Lib\\site-packages\\pandas\\io\\common.py:863\u001b[0m, in \u001b[0;36mget_handle\u001b[1;34m(path_or_buf, mode, encoding, compression, memory_map, is_text, errors, storage_options)\u001b[0m\n\u001b[0;32m    858\u001b[0m \u001b[39melif\u001b[39;00m \u001b[39misinstance\u001b[39m(handle, \u001b[39mstr\u001b[39m):\n\u001b[0;32m    859\u001b[0m     \u001b[39m# Check whether the filename is to be opened in binary mode.\u001b[39;00m\n\u001b[0;32m    860\u001b[0m     \u001b[39m# Binary mode does not support 'encoding' and 'newline'.\u001b[39;00m\n\u001b[0;32m    861\u001b[0m     \u001b[39mif\u001b[39;00m ioargs\u001b[39m.\u001b[39mencoding \u001b[39mand\u001b[39;00m \u001b[39m\"\u001b[39m\u001b[39mb\u001b[39m\u001b[39m\"\u001b[39m \u001b[39mnot\u001b[39;00m \u001b[39min\u001b[39;00m ioargs\u001b[39m.\u001b[39mmode:\n\u001b[0;32m    862\u001b[0m         \u001b[39m# Encoding\u001b[39;00m\n\u001b[1;32m--> 863\u001b[0m         handle \u001b[39m=\u001b[39m \u001b[39mopen\u001b[39m(\n\u001b[0;32m    864\u001b[0m             handle,\n\u001b[0;32m    865\u001b[0m             ioargs\u001b[39m.\u001b[39mmode,\n\u001b[0;32m    866\u001b[0m             encoding\u001b[39m=\u001b[39mioargs\u001b[39m.\u001b[39mencoding,\n\u001b[0;32m    867\u001b[0m             errors\u001b[39m=\u001b[39merrors,\n\u001b[0;32m    868\u001b[0m             newline\u001b[39m=\u001b[39m\u001b[39m\"\u001b[39m\u001b[39m\"\u001b[39m,\n\u001b[0;32m    869\u001b[0m         )\n\u001b[0;32m    870\u001b[0m     \u001b[39melse\u001b[39;00m:\n\u001b[0;32m    871\u001b[0m         \u001b[39m# Binary mode\u001b[39;00m\n\u001b[0;32m    872\u001b[0m         handle \u001b[39m=\u001b[39m \u001b[39mopen\u001b[39m(handle, ioargs\u001b[39m.\u001b[39mmode)\n",
      "\u001b[1;31mFileNotFoundError\u001b[0m: [Errno 2] No such file or directory: 'C:\\\\Users\\\\dariy\\\\OneDrive\\\\Работен плот\\\\Code Academy\\\\SQL\\\\Superstore.csv'"
     ]
    }
   ],
   "source": [
    "vsstore = pd.read_csv(\"C:\\\\Users\\\\dariy\\\\OneDrive\\\\Работен плот\\\\Code Academy\\\\SQL\\\\Superstore.csv\", encoding='latin1')\n"
   ]
  },
  {
   "cell_type": "markdown",
   "metadata": {},
   "source": [
    "# EDA of the df"
   ]
  },
  {
   "cell_type": "code",
   "execution_count": null,
   "metadata": {},
   "outputs": [
    {
     "name": "stdout",
     "output_type": "stream",
     "text": [
      "<class 'pandas.core.frame.DataFrame'>\n",
      "RangeIndex: 9994 entries, 0 to 9993\n",
      "Data columns (total 21 columns):\n",
      " #   Column         Non-Null Count  Dtype  \n",
      "---  ------         --------------  -----  \n",
      " 0   Row ID         9994 non-null   int64  \n",
      " 1   Order ID       9994 non-null   object \n",
      " 2   Order Date     9994 non-null   object \n",
      " 3   Ship Date      9994 non-null   object \n",
      " 4   Ship Mode      9994 non-null   object \n",
      " 5   Customer ID    9994 non-null   object \n",
      " 6   Customer Name  9994 non-null   object \n",
      " 7   Segment        9994 non-null   object \n",
      " 8   Country        9994 non-null   object \n",
      " 9   City           9994 non-null   object \n",
      " 10  State          9994 non-null   object \n",
      " 11  Postal Code    9994 non-null   int64  \n",
      " 12  Region         9994 non-null   object \n",
      " 13  Product ID     9994 non-null   object \n",
      " 14  Category       9994 non-null   object \n",
      " 15  Sub-Category   9994 non-null   object \n",
      " 16  Product Name   9994 non-null   object \n",
      " 17  Sales          9994 non-null   float64\n",
      " 18  Quantity       9994 non-null   int64  \n",
      " 19  Discount       9994 non-null   float64\n",
      " 20  Profit         9994 non-null   float64\n",
      "dtypes: float64(3), int64(3), object(15)\n",
      "memory usage: 1.6+ MB\n"
     ]
    }
   ],
   "source": [
    "vsstore.info()"
   ]
  },
  {
   "cell_type": "code",
   "execution_count": null,
   "metadata": {},
   "outputs": [
    {
     "data": {
      "text/plain": [
       "Country\n",
       "United States    9994\n",
       "Name: count, dtype: int64"
      ]
     },
     "execution_count": 178,
     "metadata": {},
     "output_type": "execute_result"
    }
   ],
   "source": [
    "vsstore['Country'].value_counts()"
   ]
  },
  {
   "cell_type": "code",
   "execution_count": null,
   "metadata": {},
   "outputs": [
    {
     "data": {
      "text/html": [
       "<div>\n",
       "<style scoped>\n",
       "    .dataframe tbody tr th:only-of-type {\n",
       "        vertical-align: middle;\n",
       "    }\n",
       "\n",
       "    .dataframe tbody tr th {\n",
       "        vertical-align: top;\n",
       "    }\n",
       "\n",
       "    .dataframe thead th {\n",
       "        text-align: right;\n",
       "    }\n",
       "</style>\n",
       "<table border=\"1\" class=\"dataframe\">\n",
       "  <thead>\n",
       "    <tr style=\"text-align: right;\">\n",
       "      <th></th>\n",
       "      <th>Row ID</th>\n",
       "      <th>Order ID</th>\n",
       "      <th>Order Date</th>\n",
       "      <th>Ship Date</th>\n",
       "      <th>Ship Mode</th>\n",
       "      <th>Customer ID</th>\n",
       "      <th>Customer Name</th>\n",
       "      <th>Segment</th>\n",
       "      <th>Country</th>\n",
       "      <th>City</th>\n",
       "      <th>...</th>\n",
       "      <th>Postal Code</th>\n",
       "      <th>Region</th>\n",
       "      <th>Product ID</th>\n",
       "      <th>Category</th>\n",
       "      <th>Sub-Category</th>\n",
       "      <th>Product Name</th>\n",
       "      <th>Sales</th>\n",
       "      <th>Quantity</th>\n",
       "      <th>Discount</th>\n",
       "      <th>Profit</th>\n",
       "    </tr>\n",
       "  </thead>\n",
       "  <tbody>\n",
       "    <tr>\n",
       "      <th>0</th>\n",
       "      <td>1</td>\n",
       "      <td>CA-2016-152156</td>\n",
       "      <td>11/8/2016</td>\n",
       "      <td>11/11/2016</td>\n",
       "      <td>Second Class</td>\n",
       "      <td>CG-12520</td>\n",
       "      <td>Claire Gute</td>\n",
       "      <td>Consumer</td>\n",
       "      <td>United States</td>\n",
       "      <td>Henderson</td>\n",
       "      <td>...</td>\n",
       "      <td>42420</td>\n",
       "      <td>South</td>\n",
       "      <td>FUR-BO-10001798</td>\n",
       "      <td>Furniture</td>\n",
       "      <td>Bookcases</td>\n",
       "      <td>Bush Somerset Collection Bookcase</td>\n",
       "      <td>261.9600</td>\n",
       "      <td>2</td>\n",
       "      <td>0.00</td>\n",
       "      <td>41.9136</td>\n",
       "    </tr>\n",
       "    <tr>\n",
       "      <th>1</th>\n",
       "      <td>2</td>\n",
       "      <td>CA-2016-152156</td>\n",
       "      <td>11/8/2016</td>\n",
       "      <td>11/11/2016</td>\n",
       "      <td>Second Class</td>\n",
       "      <td>CG-12520</td>\n",
       "      <td>Claire Gute</td>\n",
       "      <td>Consumer</td>\n",
       "      <td>United States</td>\n",
       "      <td>Henderson</td>\n",
       "      <td>...</td>\n",
       "      <td>42420</td>\n",
       "      <td>South</td>\n",
       "      <td>FUR-CH-10000454</td>\n",
       "      <td>Furniture</td>\n",
       "      <td>Chairs</td>\n",
       "      <td>Hon Deluxe Fabric Upholstered Stacking Chairs,...</td>\n",
       "      <td>731.9400</td>\n",
       "      <td>3</td>\n",
       "      <td>0.00</td>\n",
       "      <td>219.5820</td>\n",
       "    </tr>\n",
       "    <tr>\n",
       "      <th>2</th>\n",
       "      <td>3</td>\n",
       "      <td>CA-2016-138688</td>\n",
       "      <td>6/12/2016</td>\n",
       "      <td>6/16/2016</td>\n",
       "      <td>Second Class</td>\n",
       "      <td>DV-13045</td>\n",
       "      <td>Darrin Van Huff</td>\n",
       "      <td>Corporate</td>\n",
       "      <td>United States</td>\n",
       "      <td>Los Angeles</td>\n",
       "      <td>...</td>\n",
       "      <td>90036</td>\n",
       "      <td>West</td>\n",
       "      <td>OFF-LA-10000240</td>\n",
       "      <td>Office Supplies</td>\n",
       "      <td>Labels</td>\n",
       "      <td>Self-Adhesive Address Labels for Typewriters b...</td>\n",
       "      <td>14.6200</td>\n",
       "      <td>2</td>\n",
       "      <td>0.00</td>\n",
       "      <td>6.8714</td>\n",
       "    </tr>\n",
       "    <tr>\n",
       "      <th>3</th>\n",
       "      <td>4</td>\n",
       "      <td>US-2015-108966</td>\n",
       "      <td>10/11/2015</td>\n",
       "      <td>10/18/2015</td>\n",
       "      <td>Standard Class</td>\n",
       "      <td>SO-20335</td>\n",
       "      <td>Sean O'Donnell</td>\n",
       "      <td>Consumer</td>\n",
       "      <td>United States</td>\n",
       "      <td>Fort Lauderdale</td>\n",
       "      <td>...</td>\n",
       "      <td>33311</td>\n",
       "      <td>South</td>\n",
       "      <td>FUR-TA-10000577</td>\n",
       "      <td>Furniture</td>\n",
       "      <td>Tables</td>\n",
       "      <td>Bretford CR4500 Series Slim Rectangular Table</td>\n",
       "      <td>957.5775</td>\n",
       "      <td>5</td>\n",
       "      <td>0.45</td>\n",
       "      <td>-383.0310</td>\n",
       "    </tr>\n",
       "    <tr>\n",
       "      <th>4</th>\n",
       "      <td>5</td>\n",
       "      <td>US-2015-108966</td>\n",
       "      <td>10/11/2015</td>\n",
       "      <td>10/18/2015</td>\n",
       "      <td>Standard Class</td>\n",
       "      <td>SO-20335</td>\n",
       "      <td>Sean O'Donnell</td>\n",
       "      <td>Consumer</td>\n",
       "      <td>United States</td>\n",
       "      <td>Fort Lauderdale</td>\n",
       "      <td>...</td>\n",
       "      <td>33311</td>\n",
       "      <td>South</td>\n",
       "      <td>OFF-ST-10000760</td>\n",
       "      <td>Office Supplies</td>\n",
       "      <td>Storage</td>\n",
       "      <td>Eldon Fold 'N Roll Cart System</td>\n",
       "      <td>22.3680</td>\n",
       "      <td>2</td>\n",
       "      <td>0.20</td>\n",
       "      <td>2.5164</td>\n",
       "    </tr>\n",
       "  </tbody>\n",
       "</table>\n",
       "<p>5 rows × 21 columns</p>\n",
       "</div>"
      ],
      "text/plain": [
       "   Row ID        Order ID  Order Date   Ship Date       Ship Mode Customer ID  \\\n",
       "0       1  CA-2016-152156   11/8/2016  11/11/2016    Second Class    CG-12520   \n",
       "1       2  CA-2016-152156   11/8/2016  11/11/2016    Second Class    CG-12520   \n",
       "2       3  CA-2016-138688   6/12/2016   6/16/2016    Second Class    DV-13045   \n",
       "3       4  US-2015-108966  10/11/2015  10/18/2015  Standard Class    SO-20335   \n",
       "4       5  US-2015-108966  10/11/2015  10/18/2015  Standard Class    SO-20335   \n",
       "\n",
       "     Customer Name    Segment        Country             City  ...  \\\n",
       "0      Claire Gute   Consumer  United States        Henderson  ...   \n",
       "1      Claire Gute   Consumer  United States        Henderson  ...   \n",
       "2  Darrin Van Huff  Corporate  United States      Los Angeles  ...   \n",
       "3   Sean O'Donnell   Consumer  United States  Fort Lauderdale  ...   \n",
       "4   Sean O'Donnell   Consumer  United States  Fort Lauderdale  ...   \n",
       "\n",
       "  Postal Code  Region       Product ID         Category Sub-Category  \\\n",
       "0       42420   South  FUR-BO-10001798        Furniture    Bookcases   \n",
       "1       42420   South  FUR-CH-10000454        Furniture       Chairs   \n",
       "2       90036    West  OFF-LA-10000240  Office Supplies       Labels   \n",
       "3       33311   South  FUR-TA-10000577        Furniture       Tables   \n",
       "4       33311   South  OFF-ST-10000760  Office Supplies      Storage   \n",
       "\n",
       "                                        Product Name     Sales  Quantity  \\\n",
       "0                  Bush Somerset Collection Bookcase  261.9600         2   \n",
       "1  Hon Deluxe Fabric Upholstered Stacking Chairs,...  731.9400         3   \n",
       "2  Self-Adhesive Address Labels for Typewriters b...   14.6200         2   \n",
       "3      Bretford CR4500 Series Slim Rectangular Table  957.5775         5   \n",
       "4                     Eldon Fold 'N Roll Cart System   22.3680         2   \n",
       "\n",
       "   Discount    Profit  \n",
       "0      0.00   41.9136  \n",
       "1      0.00  219.5820  \n",
       "2      0.00    6.8714  \n",
       "3      0.45 -383.0310  \n",
       "4      0.20    2.5164  \n",
       "\n",
       "[5 rows x 21 columns]"
      ]
     },
     "execution_count": 9,
     "metadata": {},
     "output_type": "execute_result"
    }
   ],
   "source": [
    "vsstore.head()\n"
   ]
  },
  {
   "cell_type": "markdown",
   "metadata": {},
   "source": [
    "# Checks for null values"
   ]
  },
  {
   "cell_type": "code",
   "execution_count": null,
   "metadata": {},
   "outputs": [
    {
     "data": {
      "text/plain": [
       "Row ID           0\n",
       "Order ID         0\n",
       "Order Date       0\n",
       "Ship Date        0\n",
       "Ship Mode        0\n",
       "Customer ID      0\n",
       "Customer Name    0\n",
       "Segment          0\n",
       "Country          0\n",
       "City             0\n",
       "State            0\n",
       "Postal Code      0\n",
       "Region           0\n",
       "Product ID       0\n",
       "Category         0\n",
       "Sub-Category     0\n",
       "Product Name     0\n",
       "Sales            0\n",
       "Quantity         0\n",
       "Discount         0\n",
       "Profit           0\n",
       "dtype: int64"
      ]
     },
     "execution_count": 10,
     "metadata": {},
     "output_type": "execute_result"
    }
   ],
   "source": [
    "vsstore.isnull().sum()"
   ]
  },
  {
   "cell_type": "markdown",
   "metadata": {},
   "source": [
    "# checks for duplicates\n"
   ]
  },
  {
   "cell_type": "code",
   "execution_count": null,
   "metadata": {},
   "outputs": [
    {
     "name": "stdout",
     "output_type": "stream",
     "text": [
      "Column Row ID: False\n",
      "Column Order ID: True\n",
      "Column Order Date: True\n",
      "Column Ship Date: True\n",
      "Column Ship Mode: True\n",
      "Column Customer ID: True\n",
      "Column Customer Name: True\n",
      "Column Segment: True\n",
      "Column Country: True\n",
      "Column City: True\n",
      "Column State: True\n",
      "Column Postal Code: True\n",
      "Column Region: True\n",
      "Column Product ID: True\n",
      "Column Category: True\n",
      "Column Sub-Category: True\n",
      "Column Product Name: True\n",
      "Column Sales: True\n",
      "Column Quantity: True\n",
      "Column Discount: True\n",
      "Column Profit: True\n"
     ]
    }
   ],
   "source": [
    "for column in vsstore.columns:\n",
    "    duplicates = vsstore[column].duplicated()\n",
    "    print(f\"Column {column}: {duplicates.any()}\")"
   ]
  },
  {
   "cell_type": "markdown",
   "metadata": {},
   "source": [
    "# Creates a Product table from the original one"
   ]
  },
  {
   "cell_type": "code",
   "execution_count": null,
   "metadata": {},
   "outputs": [
    {
     "ename": "NameError",
     "evalue": "name 'vsstore' is not defined",
     "output_type": "error",
     "traceback": [
      "\u001b[1;31m---------------------------------------------------------------------------\u001b[0m",
      "\u001b[1;31mNameError\u001b[0m                                 Traceback (most recent call last)",
      "\u001b[1;32mc:\\Users\\dariy\\OneDrive\\Работен плот\\Code Academy\\SQL\\E-Commerce Project.ipynb Cell 11\u001b[0m line \u001b[0;36m1\n\u001b[1;32m----> <a href='vscode-notebook-cell:/c%3A/Users/dariy/OneDrive/%D0%A0%D0%B0%D0%B1%D0%BE%D1%82%D0%B5%D0%BD%20%D0%BF%D0%BB%D0%BE%D1%82/Code%20Academy/SQL/E-Commerce%20Project.ipynb#X11sZmlsZQ%3D%3D?line=0'>1</a>\u001b[0m product_table \u001b[39m=\u001b[39m vsstore[[\u001b[39m\"\u001b[39m\u001b[39mProduct ID\u001b[39m\u001b[39m\"\u001b[39m, \u001b[39m\"\u001b[39m\u001b[39mProduct Name\u001b[39m\u001b[39m\"\u001b[39m,  \u001b[39m\"\u001b[39m\u001b[39mCategory\u001b[39m\u001b[39m\"\u001b[39m, \u001b[39m\"\u001b[39m\u001b[39mSub-Category\u001b[39m\u001b[39m\"\u001b[39m]]\n",
      "\u001b[1;31mNameError\u001b[0m: name 'vsstore' is not defined"
     ]
    }
   ],
   "source": [
    "product_table = vsstore[[\"Product ID\", \"Product Name\",  \"Category\", \"Sub-Category\"]]"
   ]
  },
  {
   "cell_type": "code",
   "execution_count": null,
   "metadata": {},
   "outputs": [
    {
     "name": "stdout",
     "output_type": "stream",
     "text": [
      "<class 'pandas.core.frame.DataFrame'>\n",
      "Index: 1894 entries, 0 to 9935\n",
      "Data columns (total 4 columns):\n",
      " #   Column        Non-Null Count  Dtype \n",
      "---  ------        --------------  ----- \n",
      " 0   Product ID    1894 non-null   object\n",
      " 1   Product Name  1894 non-null   object\n",
      " 2   Category      1894 non-null   object\n",
      " 3   Sub-Category  1894 non-null   object\n",
      "dtypes: object(4)\n",
      "memory usage: 74.0+ KB\n"
     ]
    }
   ],
   "source": [
    "product_table.info()"
   ]
  },
  {
   "cell_type": "markdown",
   "metadata": {},
   "source": [
    "# checks for duplicates"
   ]
  },
  {
   "cell_type": "code",
   "execution_count": null,
   "metadata": {},
   "outputs": [
    {
     "data": {
      "text/html": [
       "<div>\n",
       "<style scoped>\n",
       "    .dataframe tbody tr th:only-of-type {\n",
       "        vertical-align: middle;\n",
       "    }\n",
       "\n",
       "    .dataframe tbody tr th {\n",
       "        vertical-align: top;\n",
       "    }\n",
       "\n",
       "    .dataframe thead th {\n",
       "        text-align: right;\n",
       "    }\n",
       "</style>\n",
       "<table border=\"1\" class=\"dataframe\">\n",
       "  <thead>\n",
       "    <tr style=\"text-align: right;\">\n",
       "      <th></th>\n",
       "      <th>Product ID</th>\n",
       "      <th>Product Name</th>\n",
       "      <th>Category</th>\n",
       "      <th>Sub-Category</th>\n",
       "    </tr>\n",
       "  </thead>\n",
       "  <tbody>\n",
       "  </tbody>\n",
       "</table>\n",
       "</div>"
      ],
      "text/plain": [
       "Empty DataFrame\n",
       "Columns: [Product ID, Product Name, Category, Sub-Category]\n",
       "Index: []"
      ]
     },
     "execution_count": 226,
     "metadata": {},
     "output_type": "execute_result"
    }
   ],
   "source": [
    "product_table[product_table.duplicated(keep=False)].sort_values(\"Product ID\")"
   ]
  },
  {
   "cell_type": "code",
   "execution_count": null,
   "metadata": {},
   "outputs": [
    {
     "name": "stderr",
     "output_type": "stream",
     "text": [
      "C:\\Users\\dariy\\AppData\\Local\\Temp\\ipykernel_45880\\4168409171.py:1: SettingWithCopyWarning: \n",
      "A value is trying to be set on a copy of a slice from a DataFrame\n",
      "\n",
      "See the caveats in the documentation: https://pandas.pydata.org/pandas-docs/stable/user_guide/indexing.html#returning-a-view-versus-a-copy\n",
      "  product_table.drop_duplicates(subset=[\"Product ID\", \"Product Name\"], inplace=True)\n"
     ]
    }
   ],
   "source": [
    "product_table.drop_duplicates(subset=[\"Product ID\", \"Product Name\"], inplace=True)\n"
   ]
  },
  {
   "cell_type": "code",
   "execution_count": null,
   "metadata": {},
   "outputs": [
    {
     "data": {
      "text/plain": [
       "0       False\n",
       "1       False\n",
       "2       False\n",
       "3       False\n",
       "4       False\n",
       "        ...  \n",
       "9521    False\n",
       "9562    False\n",
       "9604    False\n",
       "9673    False\n",
       "9935    False\n",
       "Name: Product ID, Length: 1894, dtype: bool"
      ]
     },
     "execution_count": 228,
     "metadata": {},
     "output_type": "execute_result"
    }
   ],
   "source": [
    "product_table[\"Product ID\"].duplicated()"
   ]
  },
  {
   "cell_type": "code",
   "execution_count": null,
   "metadata": {},
   "outputs": [
    {
     "data": {
      "text/html": [
       "<div>\n",
       "<style scoped>\n",
       "    .dataframe tbody tr th:only-of-type {\n",
       "        vertical-align: middle;\n",
       "    }\n",
       "\n",
       "    .dataframe tbody tr th {\n",
       "        vertical-align: top;\n",
       "    }\n",
       "\n",
       "    .dataframe thead th {\n",
       "        text-align: right;\n",
       "    }\n",
       "</style>\n",
       "<table border=\"1\" class=\"dataframe\">\n",
       "  <thead>\n",
       "    <tr style=\"text-align: right;\">\n",
       "      <th></th>\n",
       "      <th>Product ID</th>\n",
       "      <th>Product Name</th>\n",
       "      <th>Category</th>\n",
       "      <th>Sub-Category</th>\n",
       "    </tr>\n",
       "  </thead>\n",
       "  <tbody>\n",
       "    <tr>\n",
       "      <th>0</th>\n",
       "      <td>FUR-BO-10001798</td>\n",
       "      <td>Bush Somerset Collection Bookcase</td>\n",
       "      <td>Furniture</td>\n",
       "      <td>Bookcases</td>\n",
       "    </tr>\n",
       "    <tr>\n",
       "      <th>1</th>\n",
       "      <td>FUR-CH-10000454</td>\n",
       "      <td>Hon Deluxe Fabric Upholstered Stacking Chairs,...</td>\n",
       "      <td>Furniture</td>\n",
       "      <td>Chairs</td>\n",
       "    </tr>\n",
       "    <tr>\n",
       "      <th>2</th>\n",
       "      <td>OFF-LA-10000240</td>\n",
       "      <td>Self-Adhesive Address Labels for Typewriters b...</td>\n",
       "      <td>Office Supplies</td>\n",
       "      <td>Labels</td>\n",
       "    </tr>\n",
       "    <tr>\n",
       "      <th>3</th>\n",
       "      <td>FUR-TA-10000577</td>\n",
       "      <td>Bretford CR4500 Series Slim Rectangular Table</td>\n",
       "      <td>Furniture</td>\n",
       "      <td>Tables</td>\n",
       "    </tr>\n",
       "    <tr>\n",
       "      <th>4</th>\n",
       "      <td>OFF-ST-10000760</td>\n",
       "      <td>Eldon Fold 'N Roll Cart System</td>\n",
       "      <td>Office Supplies</td>\n",
       "      <td>Storage</td>\n",
       "    </tr>\n",
       "    <tr>\n",
       "      <th>...</th>\n",
       "      <td>...</td>\n",
       "      <td>...</td>\n",
       "      <td>...</td>\n",
       "      <td>...</td>\n",
       "    </tr>\n",
       "    <tr>\n",
       "      <th>9521</th>\n",
       "      <td>TEC-PH-10002817</td>\n",
       "      <td>RCA ViSYS 25425RE1 Corded phone</td>\n",
       "      <td>Technology</td>\n",
       "      <td>Phones</td>\n",
       "    </tr>\n",
       "    <tr>\n",
       "      <th>9562</th>\n",
       "      <td>TEC-MA-10003589</td>\n",
       "      <td>Cisco 8961 IP Phone Charcoal</td>\n",
       "      <td>Technology</td>\n",
       "      <td>Machines</td>\n",
       "    </tr>\n",
       "    <tr>\n",
       "      <th>9604</th>\n",
       "      <td>OFF-AP-10003099</td>\n",
       "      <td>Eureka Hand Vacuum, Bagless</td>\n",
       "      <td>Office Supplies</td>\n",
       "      <td>Appliances</td>\n",
       "    </tr>\n",
       "    <tr>\n",
       "      <th>9673</th>\n",
       "      <td>TEC-PH-10002645</td>\n",
       "      <td>LG G2</td>\n",
       "      <td>Technology</td>\n",
       "      <td>Phones</td>\n",
       "    </tr>\n",
       "    <tr>\n",
       "      <th>9935</th>\n",
       "      <td>OFF-ST-10001627</td>\n",
       "      <td>Eldon Jumbo ProFile Portable File Boxes Graphi...</td>\n",
       "      <td>Office Supplies</td>\n",
       "      <td>Storage</td>\n",
       "    </tr>\n",
       "  </tbody>\n",
       "</table>\n",
       "<p>1894 rows × 4 columns</p>\n",
       "</div>"
      ],
      "text/plain": [
       "           Product ID                                       Product Name  \\\n",
       "0     FUR-BO-10001798                  Bush Somerset Collection Bookcase   \n",
       "1     FUR-CH-10000454  Hon Deluxe Fabric Upholstered Stacking Chairs,...   \n",
       "2     OFF-LA-10000240  Self-Adhesive Address Labels for Typewriters b...   \n",
       "3     FUR-TA-10000577      Bretford CR4500 Series Slim Rectangular Table   \n",
       "4     OFF-ST-10000760                     Eldon Fold 'N Roll Cart System   \n",
       "...               ...                                                ...   \n",
       "9521  TEC-PH-10002817                    RCA ViSYS 25425RE1 Corded phone   \n",
       "9562  TEC-MA-10003589                       Cisco 8961 IP Phone Charcoal   \n",
       "9604  OFF-AP-10003099                        Eureka Hand Vacuum, Bagless   \n",
       "9673  TEC-PH-10002645                                              LG G2   \n",
       "9935  OFF-ST-10001627  Eldon Jumbo ProFile Portable File Boxes Graphi...   \n",
       "\n",
       "             Category Sub-Category  \n",
       "0           Furniture    Bookcases  \n",
       "1           Furniture       Chairs  \n",
       "2     Office Supplies       Labels  \n",
       "3           Furniture       Tables  \n",
       "4     Office Supplies      Storage  \n",
       "...               ...          ...  \n",
       "9521       Technology       Phones  \n",
       "9562       Technology     Machines  \n",
       "9604  Office Supplies   Appliances  \n",
       "9673       Technology       Phones  \n",
       "9935  Office Supplies      Storage  \n",
       "\n",
       "[1894 rows x 4 columns]"
      ]
     },
     "metadata": {},
     "output_type": "display_data"
    }
   ],
   "source": [
    "display(product_table)"
   ]
  },
  {
   "cell_type": "markdown",
   "metadata": {},
   "source": [
    "# checks for non unique values in the product table"
   ]
  },
  {
   "cell_type": "code",
   "execution_count": null,
   "metadata": {},
   "outputs": [
    {
     "data": {
      "text/plain": [
       "Product ID      1862\n",
       "Product Name    1850\n",
       "Category           3\n",
       "Sub-Category      17\n",
       "dtype: int64"
      ]
     },
     "execution_count": 232,
     "metadata": {},
     "output_type": "execute_result"
    }
   ],
   "source": [
    "product_table.nunique()"
   ]
  },
  {
   "cell_type": "code",
   "execution_count": null,
   "metadata": {},
   "outputs": [
    {
     "name": "stdout",
     "output_type": "stream",
     "text": [
      "Empty DataFrame\n",
      "Columns: [Product ID, Product Name, Category, Sub-Category]\n",
      "Index: []\n"
     ]
    }
   ],
   "source": [
    "ids = vsstore[\"Product ID\"]\n",
    "result = product_table[ids.isin(ids.duplicated())].sort_values(\"Product ID\")\n",
    "print(result)\n"
   ]
  },
  {
   "cell_type": "markdown",
   "metadata": {},
   "source": [
    " # Checks if any \"Product ID\"  corresponds to more than one \"Product Name\" in the product table; prints the mismatches"
   ]
  },
  {
   "cell_type": "code",
   "execution_count": null,
   "metadata": {},
   "outputs": [
    {
     "name": "stdout",
     "output_type": "stream",
     "text": [
      "Product ID - Product Name mismatches:\n",
      "           Product ID                                       Product Name  \\\n",
      "29    FUR-FU-10004848  Howard Miller 13-3/4\" Diameter Brushed Chrome ...   \n",
      "66    FUR-CH-10001146        Global Value Mid-Back Manager's Chair, Gray   \n",
      "70    OFF-BI-10004654  Avery Binding System Hidden Tab Executive Styl...   \n",
      "128   FUR-CH-10001146                           Global Task Chair, Black   \n",
      "131   OFF-PA-10002377                                         Xerox 1916   \n",
      "...               ...                                                ...   \n",
      "4791  OFF-PA-10001166                                         Xerox 1932   \n",
      "5317  FUR-FU-10004864                   Eldon 500 Class Desk Accessories   \n",
      "5407  OFF-PA-10003022  Standard Line While You Were Out Hardbound T...   \n",
      "5513  TEC-PH-10001795  RCA H5401RE1 DECT 6.0 4-Line Cordless Handset ...   \n",
      "5951  OFF-BI-10002026                  Ibico Recycled Linen-Style Covers   \n",
      "\n",
      "             Category Sub-Category  \n",
      "29          Furniture  Furnishings  \n",
      "66          Furniture       Chairs  \n",
      "70    Office Supplies      Binders  \n",
      "128         Furniture       Chairs  \n",
      "131   Office Supplies        Paper  \n",
      "...               ...          ...  \n",
      "4791  Office Supplies        Paper  \n",
      "5317        Furniture  Furnishings  \n",
      "5407  Office Supplies        Paper  \n",
      "5513       Technology       Phones  \n",
      "5951  Office Supplies      Binders  \n",
      "\n",
      "[64 rows x 4 columns]\n"
     ]
    }
   ],
   "source": [
    "def check_product_id_name_correspondence(product_table):\n",
    "    is_unique_mapping = product_table.groupby('Product ID')['Product Name'].nunique() == 1\n",
    "    mismatches = product_table[~product_table['Product ID'].isin(is_unique_mapping[is_unique_mapping].index)]\n",
    "    return mismatches\n",
    "\n",
    "mismatched_rows = check_product_id_name_correspondence(product_table)\n",
    "\n",
    "if mismatched_rows.empty:\n",
    "    print(\"All Product IDs correspond to a unique Product Name.\")\n",
    "else:\n",
    "    print(\"Product ID - Product Name mismatches:\")\n",
    "    print(mismatched_rows)"
   ]
  },
  {
   "cell_type": "markdown",
   "metadata": {},
   "source": [
    "# Creates a new temporary column with unique Product IDs and replaces the mismatches"
   ]
  },
  {
   "cell_type": "code",
   "execution_count": 237,
   "metadata": {},
   "outputs": [
    {
     "name": "stdout",
     "output_type": "stream",
     "text": [
      "           Product ID                                       Product Name  \\\n",
      "0     FUR-BO-10001798                  Bush Somerset Collection Bookcase   \n",
      "1     FUR-CH-10000454  Hon Deluxe Fabric Upholstered Stacking Chairs,...   \n",
      "2     OFF-LA-10000240  Self-Adhesive Address Labels for Typewriters b...   \n",
      "3     FUR-TA-10000577      Bretford CR4500 Series Slim Rectangular Table   \n",
      "4     OFF-ST-10000760                     Eldon Fold 'N Roll Cart System   \n",
      "...               ...                                                ...   \n",
      "9521  TEC-PH-10002817                    RCA ViSYS 25425RE1 Corded phone   \n",
      "9562  TEC-MA-10003589                       Cisco 8961 IP Phone Charcoal   \n",
      "9604  OFF-AP-10003099                        Eureka Hand Vacuum, Bagless   \n",
      "9673  TEC-PH-10002645                                              LG G2   \n",
      "9935  OFF-ST-10001627  Eldon Jumbo ProFile Portable File Boxes Graphi...   \n",
      "\n",
      "             Category Sub-Category  \n",
      "0           Furniture    Bookcases  \n",
      "1           Furniture       Chairs  \n",
      "2     Office Supplies       Labels  \n",
      "3           Furniture       Tables  \n",
      "4     Office Supplies      Storage  \n",
      "...               ...          ...  \n",
      "9521       Technology       Phones  \n",
      "9562       Technology     Machines  \n",
      "9604  Office Supplies   Appliances  \n",
      "9673       Technology       Phones  \n",
      "9935  Office Supplies      Storage  \n",
      "\n",
      "[1894 rows x 4 columns]\n"
     ]
    },
    {
     "name": "stderr",
     "output_type": "stream",
     "text": [
      "C:\\Users\\dariy\\AppData\\Local\\Temp\\ipykernel_45880\\4148034885.py:3: SettingWithCopyWarning: \n",
      "A value is trying to be set on a copy of a slice from a DataFrame.\n",
      "Try using .loc[row_indexer,col_indexer] = value instead\n",
      "\n",
      "See the caveats in the documentation: https://pandas.pydata.org/pandas-docs/stable/user_guide/indexing.html#returning-a-view-versus-a-copy\n",
      "  product_table['Unique Product ID'] = product_table.groupby('Product ID').cumcount() + 1\n",
      "C:\\Users\\dariy\\AppData\\Local\\Temp\\ipykernel_45880\\4148034885.py:6: SettingWithCopyWarning: \n",
      "A value is trying to be set on a copy of a slice from a DataFrame.\n",
      "Try using .loc[row_indexer,col_indexer] = value instead\n",
      "\n",
      "See the caveats in the documentation: https://pandas.pydata.org/pandas-docs/stable/user_guide/indexing.html#returning-a-view-versus-a-copy\n",
      "  product_table['Product ID'] = product_table['Product ID'].astype(str) + '_' + product_table['Unique Product ID'].astype(str)\n",
      "C:\\Users\\dariy\\AppData\\Local\\Temp\\ipykernel_45880\\4148034885.py:9: SettingWithCopyWarning: \n",
      "A value is trying to be set on a copy of a slice from a DataFrame\n",
      "\n",
      "See the caveats in the documentation: https://pandas.pydata.org/pandas-docs/stable/user_guide/indexing.html#returning-a-view-versus-a-copy\n",
      "  product_table.drop(columns=['Unique Product ID'], inplace=True)\n"
     ]
    }
   ],
   "source": [
    "\n",
    "def replace_duplicate_product_ids(product_table):\n",
    "    product_table['Unique Product ID'] = product_table.groupby('Product ID').cumcount() + 1\n",
    "    product_table['Product ID'] = product_table['Product ID'].astype(str) + '_' + product_table['Unique Product ID'].astype(str)\n",
    "    # Drops the temporary column used for counting\n",
    "    product_table.drop(columns=['Unique Product ID'], inplace=True)\n",
    "    return product_table\n",
    "\n",
    "\n",
    "duplicated_ids_mask = product_table.duplicated(subset=['Product ID'], keep=False) #shows where the duplictaes are\n",
    "duplicates_to_replace = product_table[duplicated_ids_mask] # replaces instances where \"Product ID\" is the same but \"Product Name\" is diff\n",
    "\n",
    "\n",
    "product_table.loc[duplicated_ids_mask] = replace_duplicate_product_ids(duplicates_to_replace) #applies the function only to the identified duplicates\n",
    "print(product_table)\n"
   ]
  },
  {
   "cell_type": "markdown",
   "metadata": {},
   "source": [
    "# Creates a function that checks if the replacement of the duplicated Product IDs worked"
   ]
  },
  {
   "cell_type": "code",
   "execution_count": 238,
   "metadata": {},
   "outputs": [
    {
     "name": "stdout",
     "output_type": "stream",
     "text": [
      "Replacement worked. All Product IDs are now unique.\n"
     ]
    },
    {
     "name": "stderr",
     "output_type": "stream",
     "text": [
      "C:\\Users\\dariy\\AppData\\Local\\Temp\\ipykernel_45880\\4148034885.py:3: SettingWithCopyWarning: \n",
      "A value is trying to be set on a copy of a slice from a DataFrame.\n",
      "Try using .loc[row_indexer,col_indexer] = value instead\n",
      "\n",
      "See the caveats in the documentation: https://pandas.pydata.org/pandas-docs/stable/user_guide/indexing.html#returning-a-view-versus-a-copy\n",
      "  product_table['Unique Product ID'] = product_table.groupby('Product ID').cumcount() + 1\n",
      "C:\\Users\\dariy\\AppData\\Local\\Temp\\ipykernel_45880\\4148034885.py:6: SettingWithCopyWarning: \n",
      "A value is trying to be set on a copy of a slice from a DataFrame.\n",
      "Try using .loc[row_indexer,col_indexer] = value instead\n",
      "\n",
      "See the caveats in the documentation: https://pandas.pydata.org/pandas-docs/stable/user_guide/indexing.html#returning-a-view-versus-a-copy\n",
      "  product_table['Product ID'] = product_table['Product ID'].astype(str) + '_' + product_table['Unique Product ID'].astype(str)\n",
      "C:\\Users\\dariy\\AppData\\Local\\Temp\\ipykernel_45880\\4148034885.py:9: SettingWithCopyWarning: \n",
      "A value is trying to be set on a copy of a slice from a DataFrame\n",
      "\n",
      "See the caveats in the documentation: https://pandas.pydata.org/pandas-docs/stable/user_guide/indexing.html#returning-a-view-versus-a-copy\n",
      "  product_table.drop(columns=['Unique Product ID'], inplace=True)\n"
     ]
    }
   ],
   "source": [
    "original_unique_count = product_table['Product ID'].nunique()\n",
    "replaced_unique_count = replace_duplicate_product_ids(product_table)['Product ID'].nunique()\n",
    "\n",
    "if replaced_unique_count == original_unique_count:\n",
    "    print(\"Replacement worked. All Product IDs are now unique.\")\n",
    "else:\n",
    "    print(f\"Replacement may not have worked. Original unique count: {original_unique_count}, Replaced unique count: {replaced_unique_count}\")\n",
    "\n"
   ]
  },
  {
   "cell_type": "markdown",
   "metadata": {},
   "source": [
    "# Resets the indexing"
   ]
  },
  {
   "cell_type": "code",
   "execution_count": 413,
   "metadata": {},
   "outputs": [
    {
     "data": {
      "text/html": [
       "<div>\n",
       "<style scoped>\n",
       "    .dataframe tbody tr th:only-of-type {\n",
       "        vertical-align: middle;\n",
       "    }\n",
       "\n",
       "    .dataframe tbody tr th {\n",
       "        vertical-align: top;\n",
       "    }\n",
       "\n",
       "    .dataframe thead th {\n",
       "        text-align: right;\n",
       "    }\n",
       "</style>\n",
       "<table border=\"1\" class=\"dataframe\">\n",
       "  <thead>\n",
       "    <tr style=\"text-align: right;\">\n",
       "      <th></th>\n",
       "      <th>Product ID</th>\n",
       "      <th>Product Name</th>\n",
       "      <th>Category</th>\n",
       "      <th>Sub-Category</th>\n",
       "    </tr>\n",
       "  </thead>\n",
       "  <tbody>\n",
       "    <tr>\n",
       "      <th>0</th>\n",
       "      <td>FUR-BO-10001798_1</td>\n",
       "      <td>Bush Somerset Collection Bookcase</td>\n",
       "      <td>Furniture</td>\n",
       "      <td>Bookcases</td>\n",
       "    </tr>\n",
       "    <tr>\n",
       "      <th>1</th>\n",
       "      <td>FUR-CH-10000454_1</td>\n",
       "      <td>Hon Deluxe Fabric Upholstered Stacking Chairs,...</td>\n",
       "      <td>Furniture</td>\n",
       "      <td>Chairs</td>\n",
       "    </tr>\n",
       "    <tr>\n",
       "      <th>2</th>\n",
       "      <td>OFF-LA-10000240_1</td>\n",
       "      <td>Self-Adhesive Address Labels for Typewriters b...</td>\n",
       "      <td>Office Supplies</td>\n",
       "      <td>Labels</td>\n",
       "    </tr>\n",
       "    <tr>\n",
       "      <th>3</th>\n",
       "      <td>FUR-TA-10000577_1</td>\n",
       "      <td>Bretford CR4500 Series Slim Rectangular Table</td>\n",
       "      <td>Furniture</td>\n",
       "      <td>Tables</td>\n",
       "    </tr>\n",
       "    <tr>\n",
       "      <th>4</th>\n",
       "      <td>OFF-ST-10000760_1</td>\n",
       "      <td>Eldon Fold 'N Roll Cart System</td>\n",
       "      <td>Office Supplies</td>\n",
       "      <td>Storage</td>\n",
       "    </tr>\n",
       "    <tr>\n",
       "      <th>...</th>\n",
       "      <td>...</td>\n",
       "      <td>...</td>\n",
       "      <td>...</td>\n",
       "      <td>...</td>\n",
       "    </tr>\n",
       "    <tr>\n",
       "      <th>1889</th>\n",
       "      <td>TEC-PH-10002817_1</td>\n",
       "      <td>RCA ViSYS 25425RE1 Corded phone</td>\n",
       "      <td>Technology</td>\n",
       "      <td>Phones</td>\n",
       "    </tr>\n",
       "    <tr>\n",
       "      <th>1890</th>\n",
       "      <td>TEC-MA-10003589_1</td>\n",
       "      <td>Cisco 8961 IP Phone Charcoal</td>\n",
       "      <td>Technology</td>\n",
       "      <td>Machines</td>\n",
       "    </tr>\n",
       "    <tr>\n",
       "      <th>1891</th>\n",
       "      <td>OFF-AP-10003099_1</td>\n",
       "      <td>Eureka Hand Vacuum, Bagless</td>\n",
       "      <td>Office Supplies</td>\n",
       "      <td>Appliances</td>\n",
       "    </tr>\n",
       "    <tr>\n",
       "      <th>1892</th>\n",
       "      <td>TEC-PH-10002645_1</td>\n",
       "      <td>LG G2</td>\n",
       "      <td>Technology</td>\n",
       "      <td>Phones</td>\n",
       "    </tr>\n",
       "    <tr>\n",
       "      <th>1893</th>\n",
       "      <td>OFF-ST-10001627_1</td>\n",
       "      <td>Eldon Jumbo ProFile Portable File Boxes Graphi...</td>\n",
       "      <td>Office Supplies</td>\n",
       "      <td>Storage</td>\n",
       "    </tr>\n",
       "  </tbody>\n",
       "</table>\n",
       "<p>1894 rows × 4 columns</p>\n",
       "</div>"
      ],
      "text/plain": [
       "             Product ID                                       Product Name  \\\n",
       "0     FUR-BO-10001798_1                  Bush Somerset Collection Bookcase   \n",
       "1     FUR-CH-10000454_1  Hon Deluxe Fabric Upholstered Stacking Chairs,...   \n",
       "2     OFF-LA-10000240_1  Self-Adhesive Address Labels for Typewriters b...   \n",
       "3     FUR-TA-10000577_1      Bretford CR4500 Series Slim Rectangular Table   \n",
       "4     OFF-ST-10000760_1                     Eldon Fold 'N Roll Cart System   \n",
       "...                 ...                                                ...   \n",
       "1889  TEC-PH-10002817_1                    RCA ViSYS 25425RE1 Corded phone   \n",
       "1890  TEC-MA-10003589_1                       Cisco 8961 IP Phone Charcoal   \n",
       "1891  OFF-AP-10003099_1                        Eureka Hand Vacuum, Bagless   \n",
       "1892  TEC-PH-10002645_1                                              LG G2   \n",
       "1893  OFF-ST-10001627_1  Eldon Jumbo ProFile Portable File Boxes Graphi...   \n",
       "\n",
       "             Category Sub-Category  \n",
       "0           Furniture    Bookcases  \n",
       "1           Furniture       Chairs  \n",
       "2     Office Supplies       Labels  \n",
       "3           Furniture       Tables  \n",
       "4     Office Supplies      Storage  \n",
       "...               ...          ...  \n",
       "1889       Technology       Phones  \n",
       "1890       Technology     Machines  \n",
       "1891  Office Supplies   Appliances  \n",
       "1892       Technology       Phones  \n",
       "1893  Office Supplies      Storage  \n",
       "\n",
       "[1894 rows x 4 columns]"
      ]
     },
     "execution_count": 413,
     "metadata": {},
     "output_type": "execute_result"
    }
   ],
   "source": [
    "product_table.reset_index(drop=True)"
   ]
  },
  {
   "cell_type": "markdown",
   "metadata": {},
   "source": [
    "# Creates a Customers table from the original big df"
   ]
  },
  {
   "cell_type": "code",
   "execution_count": 572,
   "metadata": {},
   "outputs": [],
   "source": [
    "customers_table = vsstore[['Customer ID', 'Customer Name', 'Segment', \"Order ID\"]]"
   ]
  },
  {
   "cell_type": "code",
   "execution_count": 573,
   "metadata": {},
   "outputs": [
    {
     "name": "stdout",
     "output_type": "stream",
     "text": [
      "<class 'pandas.core.frame.DataFrame'>\n",
      "RangeIndex: 9994 entries, 0 to 9993\n",
      "Data columns (total 4 columns):\n",
      " #   Column         Non-Null Count  Dtype \n",
      "---  ------         --------------  ----- \n",
      " 0   Customer ID    9994 non-null   object\n",
      " 1   Customer Name  9994 non-null   object\n",
      " 2   Segment        9994 non-null   object\n",
      " 3   Order ID       9994 non-null   object\n",
      "dtypes: object(4)\n",
      "memory usage: 312.4+ KB\n"
     ]
    }
   ],
   "source": [
    "customers_table.info()"
   ]
  },
  {
   "cell_type": "code",
   "execution_count": 574,
   "metadata": {},
   "outputs": [],
   "source": [
    "customers_table_new= customers_table.drop_duplicates(subset=['Customer ID', 'Customer Name'])"
   ]
  },
  {
   "cell_type": "code",
   "execution_count": 578,
   "metadata": {},
   "outputs": [
    {
     "name": "stdout",
     "output_type": "stream",
     "text": [
      "<class 'pandas.core.frame.DataFrame'>\n",
      "Index: 5009 entries, 0 to 9993\n",
      "Data columns (total 5 columns):\n",
      " #   Column         Non-Null Count  Dtype \n",
      "---  ------         --------------  ----- \n",
      " 0   Customer ID    5009 non-null   object\n",
      " 1   Customer Name  5009 non-null   object\n",
      " 2   Segment        5009 non-null   object\n",
      " 3   Order ID       5009 non-null   object\n",
      " 4   LocationID     632 non-null    object\n",
      "dtypes: object(5)\n",
      "memory usage: 363.8+ KB\n"
     ]
    }
   ],
   "source": [
    "customers_table.info()"
   ]
  },
  {
   "cell_type": "code",
   "execution_count": 577,
   "metadata": {},
   "outputs": [],
   "source": [
    "#The location table is created below; A Location ID is generated below; i want to add the Location ID to customers table\n",
    "customers_table = pd.merge(customers_table, location_column[['LocationID']], left_index=True, right_index=True, how='left')"
   ]
  },
  {
   "cell_type": "code",
   "execution_count": 557,
   "metadata": {},
   "outputs": [
    {
     "data": {
      "text/html": [
       "<div>\n",
       "<style scoped>\n",
       "    .dataframe tbody tr th:only-of-type {\n",
       "        vertical-align: middle;\n",
       "    }\n",
       "\n",
       "    .dataframe tbody tr th {\n",
       "        vertical-align: top;\n",
       "    }\n",
       "\n",
       "    .dataframe thead th {\n",
       "        text-align: right;\n",
       "    }\n",
       "</style>\n",
       "<table border=\"1\" class=\"dataframe\">\n",
       "  <thead>\n",
       "    <tr style=\"text-align: right;\">\n",
       "      <th></th>\n",
       "      <th>Customer ID</th>\n",
       "      <th>Customer Name</th>\n",
       "      <th>Segment</th>\n",
       "      <th>Order ID</th>\n",
       "      <th>LocationID</th>\n",
       "    </tr>\n",
       "  </thead>\n",
       "  <tbody>\n",
       "    <tr>\n",
       "      <th>0</th>\n",
       "      <td>CG-12520</td>\n",
       "      <td>Claire Gute</td>\n",
       "      <td>Consumer</td>\n",
       "      <td>CA-2016-152156</td>\n",
       "      <td>LL000001</td>\n",
       "    </tr>\n",
       "    <tr>\n",
       "      <th>2</th>\n",
       "      <td>DV-13045</td>\n",
       "      <td>Darrin Van Huff</td>\n",
       "      <td>Corporate</td>\n",
       "      <td>CA-2016-138688</td>\n",
       "      <td>LL000002</td>\n",
       "    </tr>\n",
       "    <tr>\n",
       "      <th>3</th>\n",
       "      <td>SO-20335</td>\n",
       "      <td>Sean O'Donnell</td>\n",
       "      <td>Consumer</td>\n",
       "      <td>US-2015-108966</td>\n",
       "      <td>LL000003</td>\n",
       "    </tr>\n",
       "    <tr>\n",
       "      <th>5</th>\n",
       "      <td>BH-11710</td>\n",
       "      <td>Brosina Hoffman</td>\n",
       "      <td>Consumer</td>\n",
       "      <td>CA-2014-115812</td>\n",
       "      <td>LL000004</td>\n",
       "    </tr>\n",
       "    <tr>\n",
       "      <th>12</th>\n",
       "      <td>AA-10480</td>\n",
       "      <td>Andrew Allen</td>\n",
       "      <td>Consumer</td>\n",
       "      <td>CA-2017-114412</td>\n",
       "      <td>LL000005</td>\n",
       "    </tr>\n",
       "  </tbody>\n",
       "</table>\n",
       "</div>"
      ],
      "text/plain": [
       "   Customer ID    Customer Name    Segment        Order ID LocationID\n",
       "0     CG-12520      Claire Gute   Consumer  CA-2016-152156   LL000001\n",
       "2     DV-13045  Darrin Van Huff  Corporate  CA-2016-138688   LL000002\n",
       "3     SO-20335   Sean O'Donnell   Consumer  US-2015-108966   LL000003\n",
       "5     BH-11710  Brosina Hoffman   Consumer  CA-2014-115812   LL000004\n",
       "12    AA-10480     Andrew Allen   Consumer  CA-2017-114412   LL000005"
      ]
     },
     "execution_count": 557,
     "metadata": {},
     "output_type": "execute_result"
    }
   ],
   "source": [
    "customers_table.head()"
   ]
  },
  {
   "cell_type": "code",
   "execution_count": 558,
   "metadata": {},
   "outputs": [
    {
     "name": "stdout",
     "output_type": "stream",
     "text": [
      "<class 'pandas.core.frame.DataFrame'>\n",
      "Index: 5009 entries, 0 to 9993\n",
      "Data columns (total 5 columns):\n",
      " #   Column         Non-Null Count  Dtype \n",
      "---  ------         --------------  ----- \n",
      " 0   Customer ID    5009 non-null   object\n",
      " 1   Customer Name  5009 non-null   object\n",
      " 2   Segment        5009 non-null   object\n",
      " 3   Order ID       5009 non-null   object\n",
      " 4   LocationID     632 non-null    object\n",
      "dtypes: object(5)\n",
      "memory usage: 234.8+ KB\n"
     ]
    }
   ],
   "source": [
    "customers_table.info()"
   ]
  },
  {
   "cell_type": "code",
   "execution_count": 575,
   "metadata": {},
   "outputs": [
    {
     "name": "stderr",
     "output_type": "stream",
     "text": [
      "C:\\Users\\dariy\\AppData\\Local\\Temp\\ipykernel_45880\\3317569519.py:2: SettingWithCopyWarning: \n",
      "A value is trying to be set on a copy of a slice from a DataFrame\n",
      "\n",
      "See the caveats in the documentation: https://pandas.pydata.org/pandas-docs/stable/user_guide/indexing.html#returning-a-view-versus-a-copy\n",
      "  customers_table.drop_duplicates(subset='Order ID', keep='first', inplace=True)\n"
     ]
    }
   ],
   "source": [
    "#removes OrderID duplicates \n",
    "customers_table.drop_duplicates(subset='Order ID', keep='first', inplace=True)\n"
   ]
  },
  {
   "cell_type": "markdown",
   "metadata": {},
   "source": [
    "# Analog to the Product ID, here I check for Customer ID duplicates "
   ]
  },
  {
   "cell_type": "code",
   "execution_count": 555,
   "metadata": {},
   "outputs": [
    {
     "name": "stdout",
     "output_type": "stream",
     "text": [
      "All Customer IDs correspond to a unique Customer Name.\n"
     ]
    }
   ],
   "source": [
    "def check_customer_id_name_correspondence(customers_table):\n",
    "    \n",
    "    unique_mapping = customers_table.groupby('Customer ID')['Customer Name'].nunique() == 1\n",
    "    mismatch_rows = customers_table[~customers_table['Customer ID'].isin(unique_mapping[unique_mapping].index)]\n",
    "    return mismatch_rows\n",
    "\n",
    "mismatch_rows = check_customer_id_name_correspondence(customers_table)\n",
    "\n",
    "if mismatch_rows.empty:\n",
    "    print(\"All Customer IDs correspond to a unique Customer Name.\")\n",
    "else:\n",
    "    print(\"Customer ID - Customer Name mismatches:\")\n",
    "    print(mismatch_rows)\n"
   ]
  },
  {
   "cell_type": "markdown",
   "metadata": {},
   "source": [
    "# Creates a Location table"
   ]
  },
  {
   "cell_type": "code",
   "execution_count": 358,
   "metadata": {},
   "outputs": [],
   "source": [
    "location_column= vsstore[[\"Country\", \"City\", \"Region\", \"State\", \"Postal Code\"]].drop_duplicates()"
   ]
  },
  {
   "cell_type": "code",
   "execution_count": 359,
   "metadata": {},
   "outputs": [
    {
     "data": {
      "text/html": [
       "<div>\n",
       "<style scoped>\n",
       "    .dataframe tbody tr th:only-of-type {\n",
       "        vertical-align: middle;\n",
       "    }\n",
       "\n",
       "    .dataframe tbody tr th {\n",
       "        vertical-align: top;\n",
       "    }\n",
       "\n",
       "    .dataframe thead th {\n",
       "        text-align: right;\n",
       "    }\n",
       "</style>\n",
       "<table border=\"1\" class=\"dataframe\">\n",
       "  <thead>\n",
       "    <tr style=\"text-align: right;\">\n",
       "      <th></th>\n",
       "      <th>Country</th>\n",
       "      <th>City</th>\n",
       "      <th>Region</th>\n",
       "      <th>State</th>\n",
       "      <th>Postal Code</th>\n",
       "    </tr>\n",
       "  </thead>\n",
       "  <tbody>\n",
       "    <tr>\n",
       "      <th>0</th>\n",
       "      <td>United States</td>\n",
       "      <td>Henderson</td>\n",
       "      <td>South</td>\n",
       "      <td>Kentucky</td>\n",
       "      <td>42420</td>\n",
       "    </tr>\n",
       "    <tr>\n",
       "      <th>2</th>\n",
       "      <td>United States</td>\n",
       "      <td>Los Angeles</td>\n",
       "      <td>West</td>\n",
       "      <td>California</td>\n",
       "      <td>90036</td>\n",
       "    </tr>\n",
       "    <tr>\n",
       "      <th>3</th>\n",
       "      <td>United States</td>\n",
       "      <td>Fort Lauderdale</td>\n",
       "      <td>South</td>\n",
       "      <td>Florida</td>\n",
       "      <td>33311</td>\n",
       "    </tr>\n",
       "    <tr>\n",
       "      <th>5</th>\n",
       "      <td>United States</td>\n",
       "      <td>Los Angeles</td>\n",
       "      <td>West</td>\n",
       "      <td>California</td>\n",
       "      <td>90032</td>\n",
       "    </tr>\n",
       "    <tr>\n",
       "      <th>12</th>\n",
       "      <td>United States</td>\n",
       "      <td>Concord</td>\n",
       "      <td>South</td>\n",
       "      <td>North Carolina</td>\n",
       "      <td>28027</td>\n",
       "    </tr>\n",
       "    <tr>\n",
       "      <th>...</th>\n",
       "      <td>...</td>\n",
       "      <td>...</td>\n",
       "      <td>...</td>\n",
       "      <td>...</td>\n",
       "      <td>...</td>\n",
       "    </tr>\n",
       "    <tr>\n",
       "      <th>9760</th>\n",
       "      <td>United States</td>\n",
       "      <td>Springdale</td>\n",
       "      <td>South</td>\n",
       "      <td>Arkansas</td>\n",
       "      <td>72762</td>\n",
       "    </tr>\n",
       "    <tr>\n",
       "      <th>9801</th>\n",
       "      <td>United States</td>\n",
       "      <td>Lodi</td>\n",
       "      <td>West</td>\n",
       "      <td>California</td>\n",
       "      <td>95240</td>\n",
       "    </tr>\n",
       "    <tr>\n",
       "      <th>9834</th>\n",
       "      <td>United States</td>\n",
       "      <td>La Porte</td>\n",
       "      <td>Central</td>\n",
       "      <td>Texas</td>\n",
       "      <td>77571</td>\n",
       "    </tr>\n",
       "    <tr>\n",
       "      <th>9868</th>\n",
       "      <td>United States</td>\n",
       "      <td>Mason</td>\n",
       "      <td>East</td>\n",
       "      <td>Ohio</td>\n",
       "      <td>45040</td>\n",
       "    </tr>\n",
       "    <tr>\n",
       "      <th>9881</th>\n",
       "      <td>United States</td>\n",
       "      <td>Woodstock</td>\n",
       "      <td>South</td>\n",
       "      <td>Georgia</td>\n",
       "      <td>30188</td>\n",
       "    </tr>\n",
       "  </tbody>\n",
       "</table>\n",
       "<p>632 rows × 5 columns</p>\n",
       "</div>"
      ],
      "text/plain": [
       "            Country             City   Region           State  Postal Code\n",
       "0     United States        Henderson    South        Kentucky        42420\n",
       "2     United States      Los Angeles     West      California        90036\n",
       "3     United States  Fort Lauderdale    South         Florida        33311\n",
       "5     United States      Los Angeles     West      California        90032\n",
       "12    United States          Concord    South  North Carolina        28027\n",
       "...             ...              ...      ...             ...          ...\n",
       "9760  United States       Springdale    South        Arkansas        72762\n",
       "9801  United States             Lodi     West      California        95240\n",
       "9834  United States         La Porte  Central           Texas        77571\n",
       "9868  United States            Mason     East            Ohio        45040\n",
       "9881  United States        Woodstock    South         Georgia        30188\n",
       "\n",
       "[632 rows x 5 columns]"
      ]
     },
     "execution_count": 359,
     "metadata": {},
     "output_type": "execute_result"
    }
   ],
   "source": [
    "location_column"
   ]
  },
  {
   "cell_type": "markdown",
   "metadata": {},
   "source": [
    "# Creates a new column (\"LocationID\") that will serves as a unique key for the Location table"
   ]
  },
  {
   "cell_type": "code",
   "execution_count": 360,
   "metadata": {},
   "outputs": [],
   "source": [
    "location_column['LocationID'] = range(1, len(location_column) + 1)"
   ]
  },
  {
   "cell_type": "code",
   "execution_count": 544,
   "metadata": {},
   "outputs": [],
   "source": [
    "\n",
    "#Prepends \"L\" to the LocationID and zero-fill to a certain length (6 digits)\n",
    "location_column['LocationID'] = \"L\" +location_column['LocationID'].astype(str).str.zfill(6)\n"
   ]
  },
  {
   "cell_type": "code",
   "execution_count": 545,
   "metadata": {},
   "outputs": [
    {
     "data": {
      "text/html": [
       "<div>\n",
       "<style scoped>\n",
       "    .dataframe tbody tr th:only-of-type {\n",
       "        vertical-align: middle;\n",
       "    }\n",
       "\n",
       "    .dataframe tbody tr th {\n",
       "        vertical-align: top;\n",
       "    }\n",
       "\n",
       "    .dataframe thead th {\n",
       "        text-align: right;\n",
       "    }\n",
       "</style>\n",
       "<table border=\"1\" class=\"dataframe\">\n",
       "  <thead>\n",
       "    <tr style=\"text-align: right;\">\n",
       "      <th></th>\n",
       "      <th>Country</th>\n",
       "      <th>City</th>\n",
       "      <th>Region</th>\n",
       "      <th>State</th>\n",
       "      <th>Postal Code</th>\n",
       "      <th>LocationID</th>\n",
       "    </tr>\n",
       "  </thead>\n",
       "  <tbody>\n",
       "    <tr>\n",
       "      <th>0</th>\n",
       "      <td>United States</td>\n",
       "      <td>Henderson</td>\n",
       "      <td>South</td>\n",
       "      <td>Kentucky</td>\n",
       "      <td>42420</td>\n",
       "      <td>LL000001</td>\n",
       "    </tr>\n",
       "    <tr>\n",
       "      <th>2</th>\n",
       "      <td>United States</td>\n",
       "      <td>Los Angeles</td>\n",
       "      <td>West</td>\n",
       "      <td>California</td>\n",
       "      <td>90036</td>\n",
       "      <td>LL000002</td>\n",
       "    </tr>\n",
       "    <tr>\n",
       "      <th>3</th>\n",
       "      <td>United States</td>\n",
       "      <td>Fort Lauderdale</td>\n",
       "      <td>South</td>\n",
       "      <td>Florida</td>\n",
       "      <td>33311</td>\n",
       "      <td>LL000003</td>\n",
       "    </tr>\n",
       "    <tr>\n",
       "      <th>5</th>\n",
       "      <td>United States</td>\n",
       "      <td>Los Angeles</td>\n",
       "      <td>West</td>\n",
       "      <td>California</td>\n",
       "      <td>90032</td>\n",
       "      <td>LL000004</td>\n",
       "    </tr>\n",
       "    <tr>\n",
       "      <th>12</th>\n",
       "      <td>United States</td>\n",
       "      <td>Concord</td>\n",
       "      <td>South</td>\n",
       "      <td>North Carolina</td>\n",
       "      <td>28027</td>\n",
       "      <td>LL000005</td>\n",
       "    </tr>\n",
       "    <tr>\n",
       "      <th>...</th>\n",
       "      <td>...</td>\n",
       "      <td>...</td>\n",
       "      <td>...</td>\n",
       "      <td>...</td>\n",
       "      <td>...</td>\n",
       "      <td>...</td>\n",
       "    </tr>\n",
       "    <tr>\n",
       "      <th>9760</th>\n",
       "      <td>United States</td>\n",
       "      <td>Springdale</td>\n",
       "      <td>South</td>\n",
       "      <td>Arkansas</td>\n",
       "      <td>72762</td>\n",
       "      <td>LL000628</td>\n",
       "    </tr>\n",
       "    <tr>\n",
       "      <th>9801</th>\n",
       "      <td>United States</td>\n",
       "      <td>Lodi</td>\n",
       "      <td>West</td>\n",
       "      <td>California</td>\n",
       "      <td>95240</td>\n",
       "      <td>LL000629</td>\n",
       "    </tr>\n",
       "    <tr>\n",
       "      <th>9834</th>\n",
       "      <td>United States</td>\n",
       "      <td>La Porte</td>\n",
       "      <td>Central</td>\n",
       "      <td>Texas</td>\n",
       "      <td>77571</td>\n",
       "      <td>LL000630</td>\n",
       "    </tr>\n",
       "    <tr>\n",
       "      <th>9868</th>\n",
       "      <td>United States</td>\n",
       "      <td>Mason</td>\n",
       "      <td>East</td>\n",
       "      <td>Ohio</td>\n",
       "      <td>45040</td>\n",
       "      <td>LL000631</td>\n",
       "    </tr>\n",
       "    <tr>\n",
       "      <th>9881</th>\n",
       "      <td>United States</td>\n",
       "      <td>Woodstock</td>\n",
       "      <td>South</td>\n",
       "      <td>Georgia</td>\n",
       "      <td>30188</td>\n",
       "      <td>LL000632</td>\n",
       "    </tr>\n",
       "  </tbody>\n",
       "</table>\n",
       "<p>632 rows × 6 columns</p>\n",
       "</div>"
      ],
      "text/plain": [
       "            Country             City   Region           State  Postal Code  \\\n",
       "0     United States        Henderson    South        Kentucky        42420   \n",
       "2     United States      Los Angeles     West      California        90036   \n",
       "3     United States  Fort Lauderdale    South         Florida        33311   \n",
       "5     United States      Los Angeles     West      California        90032   \n",
       "12    United States          Concord    South  North Carolina        28027   \n",
       "...             ...              ...      ...             ...          ...   \n",
       "9760  United States       Springdale    South        Arkansas        72762   \n",
       "9801  United States             Lodi     West      California        95240   \n",
       "9834  United States         La Porte  Central           Texas        77571   \n",
       "9868  United States            Mason     East            Ohio        45040   \n",
       "9881  United States        Woodstock    South         Georgia        30188   \n",
       "\n",
       "     LocationID  \n",
       "0      LL000001  \n",
       "2      LL000002  \n",
       "3      LL000003  \n",
       "5      LL000004  \n",
       "12     LL000005  \n",
       "...         ...  \n",
       "9760   LL000628  \n",
       "9801   LL000629  \n",
       "9834   LL000630  \n",
       "9868   LL000631  \n",
       "9881   LL000632  \n",
       "\n",
       "[632 rows x 6 columns]"
      ]
     },
     "execution_count": 545,
     "metadata": {},
     "output_type": "execute_result"
    }
   ],
   "source": [
    "location_column"
   ]
  },
  {
   "cell_type": "markdown",
   "metadata": {},
   "source": [
    "# Resets the indexing"
   ]
  },
  {
   "cell_type": "code",
   "execution_count": 363,
   "metadata": {},
   "outputs": [
    {
     "data": {
      "text/html": [
       "<div>\n",
       "<style scoped>\n",
       "    .dataframe tbody tr th:only-of-type {\n",
       "        vertical-align: middle;\n",
       "    }\n",
       "\n",
       "    .dataframe tbody tr th {\n",
       "        vertical-align: top;\n",
       "    }\n",
       "\n",
       "    .dataframe thead th {\n",
       "        text-align: right;\n",
       "    }\n",
       "</style>\n",
       "<table border=\"1\" class=\"dataframe\">\n",
       "  <thead>\n",
       "    <tr style=\"text-align: right;\">\n",
       "      <th></th>\n",
       "      <th>Country</th>\n",
       "      <th>City</th>\n",
       "      <th>Region</th>\n",
       "      <th>State</th>\n",
       "      <th>Postal Code</th>\n",
       "      <th>LocationID</th>\n",
       "    </tr>\n",
       "  </thead>\n",
       "  <tbody>\n",
       "    <tr>\n",
       "      <th>0</th>\n",
       "      <td>United States</td>\n",
       "      <td>Henderson</td>\n",
       "      <td>South</td>\n",
       "      <td>Kentucky</td>\n",
       "      <td>42420</td>\n",
       "      <td>L000001</td>\n",
       "    </tr>\n",
       "    <tr>\n",
       "      <th>1</th>\n",
       "      <td>United States</td>\n",
       "      <td>Los Angeles</td>\n",
       "      <td>West</td>\n",
       "      <td>California</td>\n",
       "      <td>90036</td>\n",
       "      <td>L000002</td>\n",
       "    </tr>\n",
       "    <tr>\n",
       "      <th>2</th>\n",
       "      <td>United States</td>\n",
       "      <td>Fort Lauderdale</td>\n",
       "      <td>South</td>\n",
       "      <td>Florida</td>\n",
       "      <td>33311</td>\n",
       "      <td>L000003</td>\n",
       "    </tr>\n",
       "    <tr>\n",
       "      <th>3</th>\n",
       "      <td>United States</td>\n",
       "      <td>Los Angeles</td>\n",
       "      <td>West</td>\n",
       "      <td>California</td>\n",
       "      <td>90032</td>\n",
       "      <td>L000004</td>\n",
       "    </tr>\n",
       "    <tr>\n",
       "      <th>4</th>\n",
       "      <td>United States</td>\n",
       "      <td>Concord</td>\n",
       "      <td>South</td>\n",
       "      <td>North Carolina</td>\n",
       "      <td>28027</td>\n",
       "      <td>L000005</td>\n",
       "    </tr>\n",
       "    <tr>\n",
       "      <th>...</th>\n",
       "      <td>...</td>\n",
       "      <td>...</td>\n",
       "      <td>...</td>\n",
       "      <td>...</td>\n",
       "      <td>...</td>\n",
       "      <td>...</td>\n",
       "    </tr>\n",
       "    <tr>\n",
       "      <th>627</th>\n",
       "      <td>United States</td>\n",
       "      <td>Springdale</td>\n",
       "      <td>South</td>\n",
       "      <td>Arkansas</td>\n",
       "      <td>72762</td>\n",
       "      <td>L000628</td>\n",
       "    </tr>\n",
       "    <tr>\n",
       "      <th>628</th>\n",
       "      <td>United States</td>\n",
       "      <td>Lodi</td>\n",
       "      <td>West</td>\n",
       "      <td>California</td>\n",
       "      <td>95240</td>\n",
       "      <td>L000629</td>\n",
       "    </tr>\n",
       "    <tr>\n",
       "      <th>629</th>\n",
       "      <td>United States</td>\n",
       "      <td>La Porte</td>\n",
       "      <td>Central</td>\n",
       "      <td>Texas</td>\n",
       "      <td>77571</td>\n",
       "      <td>L000630</td>\n",
       "    </tr>\n",
       "    <tr>\n",
       "      <th>630</th>\n",
       "      <td>United States</td>\n",
       "      <td>Mason</td>\n",
       "      <td>East</td>\n",
       "      <td>Ohio</td>\n",
       "      <td>45040</td>\n",
       "      <td>L000631</td>\n",
       "    </tr>\n",
       "    <tr>\n",
       "      <th>631</th>\n",
       "      <td>United States</td>\n",
       "      <td>Woodstock</td>\n",
       "      <td>South</td>\n",
       "      <td>Georgia</td>\n",
       "      <td>30188</td>\n",
       "      <td>L000632</td>\n",
       "    </tr>\n",
       "  </tbody>\n",
       "</table>\n",
       "<p>632 rows × 6 columns</p>\n",
       "</div>"
      ],
      "text/plain": [
       "           Country             City   Region           State  Postal Code  \\\n",
       "0    United States        Henderson    South        Kentucky        42420   \n",
       "1    United States      Los Angeles     West      California        90036   \n",
       "2    United States  Fort Lauderdale    South         Florida        33311   \n",
       "3    United States      Los Angeles     West      California        90032   \n",
       "4    United States          Concord    South  North Carolina        28027   \n",
       "..             ...              ...      ...             ...          ...   \n",
       "627  United States       Springdale    South        Arkansas        72762   \n",
       "628  United States             Lodi     West      California        95240   \n",
       "629  United States         La Porte  Central           Texas        77571   \n",
       "630  United States            Mason     East            Ohio        45040   \n",
       "631  United States        Woodstock    South         Georgia        30188   \n",
       "\n",
       "    LocationID  \n",
       "0      L000001  \n",
       "1      L000002  \n",
       "2      L000003  \n",
       "3      L000004  \n",
       "4      L000005  \n",
       "..         ...  \n",
       "627    L000628  \n",
       "628    L000629  \n",
       "629    L000630  \n",
       "630    L000631  \n",
       "631    L000632  \n",
       "\n",
       "[632 rows x 6 columns]"
      ]
     },
     "execution_count": 363,
     "metadata": {},
     "output_type": "execute_result"
    }
   ],
   "source": [
    "location_column.reset_index(drop=True)"
   ]
  },
  {
   "cell_type": "code",
   "execution_count": 491,
   "metadata": {},
   "outputs": [
    {
     "data": {
      "text/plain": [
       "632"
      ]
     },
     "execution_count": 491,
     "metadata": {},
     "output_type": "execute_result"
    }
   ],
   "source": [
    "location_column[\"LocationID\"].nunique()"
   ]
  },
  {
   "cell_type": "markdown",
   "metadata": {},
   "source": [
    "# Creates an Orders table"
   ]
  },
  {
   "cell_type": "code",
   "execution_count": 403,
   "metadata": {},
   "outputs": [],
   "source": [
    "\n",
    "orders_table = vsstore[['Order ID', 'Product ID', 'Order Date', \"Ship Date\", \"Ship Mode\"]]"
   ]
  },
  {
   "cell_type": "code",
   "execution_count": 404,
   "metadata": {},
   "outputs": [
    {
     "name": "stdout",
     "output_type": "stream",
     "text": [
      "<class 'pandas.core.frame.DataFrame'>\n",
      "RangeIndex: 9994 entries, 0 to 9993\n",
      "Data columns (total 5 columns):\n",
      " #   Column      Non-Null Count  Dtype \n",
      "---  ------      --------------  ----- \n",
      " 0   Order ID    9994 non-null   object\n",
      " 1   Product ID  9994 non-null   object\n",
      " 2   Order Date  9994 non-null   object\n",
      " 3   Ship Date   9994 non-null   object\n",
      " 4   Ship Mode   9994 non-null   object\n",
      "dtypes: object(5)\n",
      "memory usage: 390.5+ KB\n"
     ]
    }
   ],
   "source": [
    "orders_table.info()"
   ]
  },
  {
   "cell_type": "markdown",
   "metadata": {},
   "source": [
    "# Drops duplicated values and resets indexing"
   ]
  },
  {
   "cell_type": "code",
   "execution_count": 406,
   "metadata": {},
   "outputs": [
    {
     "name": "stdout",
     "output_type": "stream",
     "text": [
      "DataFrame after dropping duplicates:\n",
      "            Order ID       Product ID  Order Date   Ship Date       Ship Mode\n",
      "0     CA-2016-152156  FUR-BO-10001798   11/8/2016  11/11/2016    Second Class\n",
      "1     CA-2016-152156  FUR-CH-10000454   11/8/2016  11/11/2016    Second Class\n",
      "2     CA-2016-138688  OFF-LA-10000240   6/12/2016   6/16/2016    Second Class\n",
      "3     US-2015-108966  FUR-TA-10000577  10/11/2015  10/18/2015  Standard Class\n",
      "4     US-2015-108966  OFF-ST-10000760  10/11/2015  10/18/2015  Standard Class\n",
      "...              ...              ...         ...         ...             ...\n",
      "9989  CA-2014-110422  FUR-FU-10001889   1/21/2014   1/23/2014    Second Class\n",
      "9990  CA-2017-121258  FUR-FU-10000747   2/26/2017    3/3/2017  Standard Class\n",
      "9991  CA-2017-121258  TEC-PH-10003645   2/26/2017    3/3/2017  Standard Class\n",
      "9992  CA-2017-121258  OFF-PA-10004041   2/26/2017    3/3/2017  Standard Class\n",
      "9993  CA-2017-119914  OFF-AP-10002684    5/4/2017    5/9/2017    Second Class\n",
      "\n",
      "[9986 rows x 5 columns]\n"
     ]
    }
   ],
   "source": [
    "unique_orders_table = orders_table.drop_duplicates(subset=['Order ID', 'Product ID'])\n",
    "print(\"DataFrame after dropping duplicates:\")\n",
    "print(unique_orders_table)"
   ]
  },
  {
   "cell_type": "code",
   "execution_count": 407,
   "metadata": {},
   "outputs": [
    {
     "data": {
      "text/html": [
       "<div>\n",
       "<style scoped>\n",
       "    .dataframe tbody tr th:only-of-type {\n",
       "        vertical-align: middle;\n",
       "    }\n",
       "\n",
       "    .dataframe tbody tr th {\n",
       "        vertical-align: top;\n",
       "    }\n",
       "\n",
       "    .dataframe thead th {\n",
       "        text-align: right;\n",
       "    }\n",
       "</style>\n",
       "<table border=\"1\" class=\"dataframe\">\n",
       "  <thead>\n",
       "    <tr style=\"text-align: right;\">\n",
       "      <th></th>\n",
       "      <th>Order ID</th>\n",
       "      <th>Product ID</th>\n",
       "      <th>Order Date</th>\n",
       "      <th>Ship Date</th>\n",
       "      <th>Ship Mode</th>\n",
       "    </tr>\n",
       "  </thead>\n",
       "  <tbody>\n",
       "    <tr>\n",
       "      <th>0</th>\n",
       "      <td>CA-2016-152156</td>\n",
       "      <td>FUR-BO-10001798</td>\n",
       "      <td>11/8/2016</td>\n",
       "      <td>11/11/2016</td>\n",
       "      <td>Second Class</td>\n",
       "    </tr>\n",
       "    <tr>\n",
       "      <th>1</th>\n",
       "      <td>CA-2016-152156</td>\n",
       "      <td>FUR-CH-10000454</td>\n",
       "      <td>11/8/2016</td>\n",
       "      <td>11/11/2016</td>\n",
       "      <td>Second Class</td>\n",
       "    </tr>\n",
       "    <tr>\n",
       "      <th>2</th>\n",
       "      <td>CA-2016-138688</td>\n",
       "      <td>OFF-LA-10000240</td>\n",
       "      <td>6/12/2016</td>\n",
       "      <td>6/16/2016</td>\n",
       "      <td>Second Class</td>\n",
       "    </tr>\n",
       "    <tr>\n",
       "      <th>3</th>\n",
       "      <td>US-2015-108966</td>\n",
       "      <td>FUR-TA-10000577</td>\n",
       "      <td>10/11/2015</td>\n",
       "      <td>10/18/2015</td>\n",
       "      <td>Standard Class</td>\n",
       "    </tr>\n",
       "    <tr>\n",
       "      <th>4</th>\n",
       "      <td>US-2015-108966</td>\n",
       "      <td>OFF-ST-10000760</td>\n",
       "      <td>10/11/2015</td>\n",
       "      <td>10/18/2015</td>\n",
       "      <td>Standard Class</td>\n",
       "    </tr>\n",
       "    <tr>\n",
       "      <th>...</th>\n",
       "      <td>...</td>\n",
       "      <td>...</td>\n",
       "      <td>...</td>\n",
       "      <td>...</td>\n",
       "      <td>...</td>\n",
       "    </tr>\n",
       "    <tr>\n",
       "      <th>9981</th>\n",
       "      <td>CA-2014-110422</td>\n",
       "      <td>FUR-FU-10001889</td>\n",
       "      <td>1/21/2014</td>\n",
       "      <td>1/23/2014</td>\n",
       "      <td>Second Class</td>\n",
       "    </tr>\n",
       "    <tr>\n",
       "      <th>9982</th>\n",
       "      <td>CA-2017-121258</td>\n",
       "      <td>FUR-FU-10000747</td>\n",
       "      <td>2/26/2017</td>\n",
       "      <td>3/3/2017</td>\n",
       "      <td>Standard Class</td>\n",
       "    </tr>\n",
       "    <tr>\n",
       "      <th>9983</th>\n",
       "      <td>CA-2017-121258</td>\n",
       "      <td>TEC-PH-10003645</td>\n",
       "      <td>2/26/2017</td>\n",
       "      <td>3/3/2017</td>\n",
       "      <td>Standard Class</td>\n",
       "    </tr>\n",
       "    <tr>\n",
       "      <th>9984</th>\n",
       "      <td>CA-2017-121258</td>\n",
       "      <td>OFF-PA-10004041</td>\n",
       "      <td>2/26/2017</td>\n",
       "      <td>3/3/2017</td>\n",
       "      <td>Standard Class</td>\n",
       "    </tr>\n",
       "    <tr>\n",
       "      <th>9985</th>\n",
       "      <td>CA-2017-119914</td>\n",
       "      <td>OFF-AP-10002684</td>\n",
       "      <td>5/4/2017</td>\n",
       "      <td>5/9/2017</td>\n",
       "      <td>Second Class</td>\n",
       "    </tr>\n",
       "  </tbody>\n",
       "</table>\n",
       "<p>9986 rows × 5 columns</p>\n",
       "</div>"
      ],
      "text/plain": [
       "            Order ID       Product ID  Order Date   Ship Date       Ship Mode\n",
       "0     CA-2016-152156  FUR-BO-10001798   11/8/2016  11/11/2016    Second Class\n",
       "1     CA-2016-152156  FUR-CH-10000454   11/8/2016  11/11/2016    Second Class\n",
       "2     CA-2016-138688  OFF-LA-10000240   6/12/2016   6/16/2016    Second Class\n",
       "3     US-2015-108966  FUR-TA-10000577  10/11/2015  10/18/2015  Standard Class\n",
       "4     US-2015-108966  OFF-ST-10000760  10/11/2015  10/18/2015  Standard Class\n",
       "...              ...              ...         ...         ...             ...\n",
       "9981  CA-2014-110422  FUR-FU-10001889   1/21/2014   1/23/2014    Second Class\n",
       "9982  CA-2017-121258  FUR-FU-10000747   2/26/2017    3/3/2017  Standard Class\n",
       "9983  CA-2017-121258  TEC-PH-10003645   2/26/2017    3/3/2017  Standard Class\n",
       "9984  CA-2017-121258  OFF-PA-10004041   2/26/2017    3/3/2017  Standard Class\n",
       "9985  CA-2017-119914  OFF-AP-10002684    5/4/2017    5/9/2017    Second Class\n",
       "\n",
       "[9986 rows x 5 columns]"
      ]
     },
     "execution_count": 407,
     "metadata": {},
     "output_type": "execute_result"
    }
   ],
   "source": [
    "unique_orders_table.reset_index(drop=True)"
   ]
  },
  {
   "cell_type": "markdown",
   "metadata": {},
   "source": [
    "# Check if any combination of \"Order ID\" and \"Product ID\" is not unique and filters rows with mismatches"
   ]
  },
  {
   "cell_type": "code",
   "execution_count": 294,
   "metadata": {},
   "outputs": [
    {
     "name": "stdout",
     "output_type": "stream",
     "text": [
      "Duplicate combinations of Order ID and Product ID:\n",
      "            Order ID       Product ID  Order Date   Ship Date       Ship Mode\n",
      "350   CA-2016-129714  OFF-PA-10001970    9/1/2016    9/3/2016     First Class\n",
      "352   CA-2016-129714  OFF-PA-10001970    9/1/2016    9/3/2016     First Class\n",
      "430   US-2016-123750  TEC-AC-10004659   4/15/2016   4/21/2016  Standard Class\n",
      "431   US-2016-123750  TEC-AC-10004659   4/15/2016   4/21/2016  Standard Class\n",
      "1300  CA-2016-137043  FUR-FU-10003664  12/23/2016  12/25/2016    Second Class\n",
      "1301  CA-2016-137043  FUR-FU-10003664  12/23/2016  12/25/2016    Second Class\n",
      "3183  CA-2017-152912  OFF-ST-10003208   11/9/2017  11/12/2017    Second Class\n",
      "3184  CA-2017-152912  OFF-ST-10003208   11/9/2017  11/12/2017    Second Class\n",
      "3405  US-2014-150119  FUR-CH-10002965   4/23/2014   4/27/2014  Standard Class\n",
      "3406  US-2014-150119  FUR-CH-10002965   4/23/2014   4/27/2014  Standard Class\n",
      "6498  CA-2015-103135  OFF-BI-10000069   7/24/2015   7/28/2015  Standard Class\n",
      "6500  CA-2015-103135  OFF-BI-10000069   7/24/2015   7/28/2015  Standard Class\n",
      "7881  CA-2017-118017  TEC-AC-10002006   12/3/2017   12/6/2017    Second Class\n",
      "7882  CA-2017-118017  TEC-AC-10002006   12/3/2017   12/6/2017    Second Class\n",
      "9168  CA-2016-140571  OFF-PA-10001954   3/15/2016   3/19/2016  Standard Class\n",
      "9169  CA-2016-140571  OFF-PA-10001954   3/15/2016   3/19/2016  Standard Class\n"
     ]
    }
   ],
   "source": [
    "def check_order_product_id_combination(orders_table):\n",
    "    unique_mapping = orders_table.groupby(['Order ID', 'Product ID']).size() == 1\n",
    "    mismatch_rows = orders_table[~orders_table[['Order ID', 'Product ID']].apply(tuple, axis=1).isin(unique_mapping[unique_mapping].index)]\n",
    "\n",
    "    return mismatch_rows\n",
    "\n",
    "mismatch_rows = check_order_product_id_combination(orders_table)\n",
    "\n",
    "if mismatch_rows.empty:\n",
    "    print(\"All combinations of Order ID and Product ID are unique.\")\n",
    "else:\n",
    "    print(\"Duplicate combinations of Order ID and Product ID:\")\n",
    "    print(mismatch_rows)"
   ]
  },
  {
   "cell_type": "markdown",
   "metadata": {},
   "source": [
    "# drops duplicates"
   ]
  },
  {
   "cell_type": "code",
   "execution_count": 289,
   "metadata": {},
   "outputs": [
    {
     "name": "stdout",
     "output_type": "stream",
     "text": [
      "DataFrame after dropping duplicates:\n",
      "            Order ID       Product ID  Order Date   Ship Date       Ship Mode\n",
      "0     CA-2016-152156  FUR-BO-10001798   11/8/2016  11/11/2016    Second Class\n",
      "1     CA-2016-152156  FUR-CH-10000454   11/8/2016  11/11/2016    Second Class\n",
      "2     CA-2016-138688  OFF-LA-10000240   6/12/2016   6/16/2016    Second Class\n",
      "3     US-2015-108966  FUR-TA-10000577  10/11/2015  10/18/2015  Standard Class\n",
      "4     US-2015-108966  OFF-ST-10000760  10/11/2015  10/18/2015  Standard Class\n",
      "...              ...              ...         ...         ...             ...\n",
      "9989  CA-2014-110422  FUR-FU-10001889   1/21/2014   1/23/2014    Second Class\n",
      "9990  CA-2017-121258  FUR-FU-10000747   2/26/2017    3/3/2017  Standard Class\n",
      "9991  CA-2017-121258  TEC-PH-10003645   2/26/2017    3/3/2017  Standard Class\n",
      "9992  CA-2017-121258  OFF-PA-10004041   2/26/2017    3/3/2017  Standard Class\n",
      "9993  CA-2017-119914  OFF-AP-10002684    5/4/2017    5/9/2017    Second Class\n",
      "\n",
      "[9986 rows x 5 columns]\n"
     ]
    }
   ],
   "source": [
    "unique_orders_table = orders_table.drop_duplicates(subset=['Order ID', 'Product ID'])\n",
    "\n",
    "print(\"DataFrame after dropping duplicates:\")\n",
    "print(unique_orders_table)"
   ]
  },
  {
   "cell_type": "code",
   "execution_count": 292,
   "metadata": {},
   "outputs": [
    {
     "name": "stdout",
     "output_type": "stream",
     "text": [
      "<class 'pandas.core.frame.DataFrame'>\n",
      "Index: 9986 entries, 0 to 9993\n",
      "Data columns (total 5 columns):\n",
      " #   Column      Non-Null Count  Dtype \n",
      "---  ------      --------------  ----- \n",
      " 0   Order ID    9986 non-null   object\n",
      " 1   Product ID  9986 non-null   object\n",
      " 2   Order Date  9986 non-null   object\n",
      " 3   Ship Date   9986 non-null   object\n",
      " 4   Ship Mode   9986 non-null   object\n",
      "dtypes: object(5)\n",
      "memory usage: 468.1+ KB\n"
     ]
    }
   ],
   "source": [
    "unique_orders_table.info()"
   ]
  },
  {
   "cell_type": "code",
   "execution_count": 293,
   "metadata": {},
   "outputs": [
    {
     "name": "stdout",
     "output_type": "stream",
     "text": [
      "<class 'pandas.core.frame.DataFrame'>\n",
      "RangeIndex: 9994 entries, 0 to 9993\n",
      "Data columns (total 5 columns):\n",
      " #   Column      Non-Null Count  Dtype \n",
      "---  ------      --------------  ----- \n",
      " 0   Order ID    9994 non-null   object\n",
      " 1   Product ID  9994 non-null   object\n",
      " 2   Order Date  9994 non-null   object\n",
      " 3   Ship Date   9994 non-null   object\n",
      " 4   Ship Mode   9994 non-null   object\n",
      "dtypes: object(5)\n",
      "memory usage: 390.5+ KB\n"
     ]
    }
   ],
   "source": [
    "orders_table.info()"
   ]
  },
  {
   "cell_type": "markdown",
   "metadata": {},
   "source": [
    "# Drop duplicates based on all columns except \"Order ID\" and \"Product ID\""
   ]
  },
  {
   "cell_type": "code",
   "execution_count": 408,
   "metadata": {},
   "outputs": [
    {
     "name": "stdout",
     "output_type": "stream",
     "text": [
      "DataFrame after dropping duplicates:\n",
      "            Order ID       Product ID  Order Date   Ship Date       Ship Mode\n",
      "0     CA-2016-152156  FUR-BO-10001798   11/8/2016  11/11/2016    Second Class\n",
      "2     CA-2016-138688  OFF-LA-10000240   6/12/2016   6/16/2016    Second Class\n",
      "3     US-2015-108966  FUR-TA-10000577  10/11/2015  10/18/2015  Standard Class\n",
      "5     CA-2014-115812  FUR-FU-10001487    6/9/2014   6/14/2014  Standard Class\n",
      "12    CA-2017-114412  OFF-PA-10002365   4/15/2017   4/20/2017  Standard Class\n",
      "...              ...              ...         ...         ...             ...\n",
      "9981  CA-2017-163566  OFF-LA-10004484    8/3/2017    8/6/2017     First Class\n",
      "9984  CA-2015-100251  OFF-LA-10003766   5/17/2015   5/23/2015  Standard Class\n",
      "9989  CA-2014-110422  FUR-FU-10001889   1/21/2014   1/23/2014    Second Class\n",
      "9990  CA-2017-121258  FUR-FU-10000747   2/26/2017    3/3/2017  Standard Class\n",
      "9993  CA-2017-119914  OFF-AP-10002684    5/4/2017    5/9/2017    Second Class\n",
      "\n",
      "[3811 rows x 5 columns]\n"
     ]
    }
   ],
   "source": [
    "\n",
    "unique_orders_table = orders_table.drop_duplicates(subset=orders_table.columns.difference(['Order ID', 'Product ID']))\n",
    "print(\"DataFrame after dropping duplicates:\")\n",
    "print(unique_orders_table)\n",
    "\n"
   ]
  },
  {
   "cell_type": "code",
   "execution_count": 409,
   "metadata": {},
   "outputs": [
    {
     "name": "stdout",
     "output_type": "stream",
     "text": [
      "<class 'pandas.core.frame.DataFrame'>\n",
      "Index: 3811 entries, 0 to 9993\n",
      "Data columns (total 5 columns):\n",
      " #   Column      Non-Null Count  Dtype \n",
      "---  ------      --------------  ----- \n",
      " 0   Order ID    3811 non-null   object\n",
      " 1   Product ID  3811 non-null   object\n",
      " 2   Order Date  3811 non-null   object\n",
      " 3   Ship Date   3811 non-null   object\n",
      " 4   Ship Mode   3811 non-null   object\n",
      "dtypes: object(5)\n",
      "memory usage: 178.6+ KB\n"
     ]
    }
   ],
   "source": [
    "unique_orders_table.info()"
   ]
  },
  {
   "cell_type": "markdown",
   "metadata": {},
   "source": [
    "# Resets indexing"
   ]
  },
  {
   "cell_type": "code",
   "execution_count": 410,
   "metadata": {},
   "outputs": [
    {
     "data": {
      "text/html": [
       "<div>\n",
       "<style scoped>\n",
       "    .dataframe tbody tr th:only-of-type {\n",
       "        vertical-align: middle;\n",
       "    }\n",
       "\n",
       "    .dataframe tbody tr th {\n",
       "        vertical-align: top;\n",
       "    }\n",
       "\n",
       "    .dataframe thead th {\n",
       "        text-align: right;\n",
       "    }\n",
       "</style>\n",
       "<table border=\"1\" class=\"dataframe\">\n",
       "  <thead>\n",
       "    <tr style=\"text-align: right;\">\n",
       "      <th></th>\n",
       "      <th>Order ID</th>\n",
       "      <th>Product ID</th>\n",
       "      <th>Order Date</th>\n",
       "      <th>Ship Date</th>\n",
       "      <th>Ship Mode</th>\n",
       "    </tr>\n",
       "  </thead>\n",
       "  <tbody>\n",
       "    <tr>\n",
       "      <th>0</th>\n",
       "      <td>CA-2016-152156</td>\n",
       "      <td>FUR-BO-10001798</td>\n",
       "      <td>11/8/2016</td>\n",
       "      <td>11/11/2016</td>\n",
       "      <td>Second Class</td>\n",
       "    </tr>\n",
       "    <tr>\n",
       "      <th>1</th>\n",
       "      <td>CA-2016-138688</td>\n",
       "      <td>OFF-LA-10000240</td>\n",
       "      <td>6/12/2016</td>\n",
       "      <td>6/16/2016</td>\n",
       "      <td>Second Class</td>\n",
       "    </tr>\n",
       "    <tr>\n",
       "      <th>2</th>\n",
       "      <td>US-2015-108966</td>\n",
       "      <td>FUR-TA-10000577</td>\n",
       "      <td>10/11/2015</td>\n",
       "      <td>10/18/2015</td>\n",
       "      <td>Standard Class</td>\n",
       "    </tr>\n",
       "    <tr>\n",
       "      <th>3</th>\n",
       "      <td>CA-2014-115812</td>\n",
       "      <td>FUR-FU-10001487</td>\n",
       "      <td>6/9/2014</td>\n",
       "      <td>6/14/2014</td>\n",
       "      <td>Standard Class</td>\n",
       "    </tr>\n",
       "    <tr>\n",
       "      <th>4</th>\n",
       "      <td>CA-2017-114412</td>\n",
       "      <td>OFF-PA-10002365</td>\n",
       "      <td>4/15/2017</td>\n",
       "      <td>4/20/2017</td>\n",
       "      <td>Standard Class</td>\n",
       "    </tr>\n",
       "    <tr>\n",
       "      <th>...</th>\n",
       "      <td>...</td>\n",
       "      <td>...</td>\n",
       "      <td>...</td>\n",
       "      <td>...</td>\n",
       "      <td>...</td>\n",
       "    </tr>\n",
       "    <tr>\n",
       "      <th>3806</th>\n",
       "      <td>CA-2017-163566</td>\n",
       "      <td>OFF-LA-10004484</td>\n",
       "      <td>8/3/2017</td>\n",
       "      <td>8/6/2017</td>\n",
       "      <td>First Class</td>\n",
       "    </tr>\n",
       "    <tr>\n",
       "      <th>3807</th>\n",
       "      <td>CA-2015-100251</td>\n",
       "      <td>OFF-LA-10003766</td>\n",
       "      <td>5/17/2015</td>\n",
       "      <td>5/23/2015</td>\n",
       "      <td>Standard Class</td>\n",
       "    </tr>\n",
       "    <tr>\n",
       "      <th>3808</th>\n",
       "      <td>CA-2014-110422</td>\n",
       "      <td>FUR-FU-10001889</td>\n",
       "      <td>1/21/2014</td>\n",
       "      <td>1/23/2014</td>\n",
       "      <td>Second Class</td>\n",
       "    </tr>\n",
       "    <tr>\n",
       "      <th>3809</th>\n",
       "      <td>CA-2017-121258</td>\n",
       "      <td>FUR-FU-10000747</td>\n",
       "      <td>2/26/2017</td>\n",
       "      <td>3/3/2017</td>\n",
       "      <td>Standard Class</td>\n",
       "    </tr>\n",
       "    <tr>\n",
       "      <th>3810</th>\n",
       "      <td>CA-2017-119914</td>\n",
       "      <td>OFF-AP-10002684</td>\n",
       "      <td>5/4/2017</td>\n",
       "      <td>5/9/2017</td>\n",
       "      <td>Second Class</td>\n",
       "    </tr>\n",
       "  </tbody>\n",
       "</table>\n",
       "<p>3811 rows × 5 columns</p>\n",
       "</div>"
      ],
      "text/plain": [
       "            Order ID       Product ID  Order Date   Ship Date       Ship Mode\n",
       "0     CA-2016-152156  FUR-BO-10001798   11/8/2016  11/11/2016    Second Class\n",
       "1     CA-2016-138688  OFF-LA-10000240   6/12/2016   6/16/2016    Second Class\n",
       "2     US-2015-108966  FUR-TA-10000577  10/11/2015  10/18/2015  Standard Class\n",
       "3     CA-2014-115812  FUR-FU-10001487    6/9/2014   6/14/2014  Standard Class\n",
       "4     CA-2017-114412  OFF-PA-10002365   4/15/2017   4/20/2017  Standard Class\n",
       "...              ...              ...         ...         ...             ...\n",
       "3806  CA-2017-163566  OFF-LA-10004484    8/3/2017    8/6/2017     First Class\n",
       "3807  CA-2015-100251  OFF-LA-10003766   5/17/2015   5/23/2015  Standard Class\n",
       "3808  CA-2014-110422  FUR-FU-10001889   1/21/2014   1/23/2014    Second Class\n",
       "3809  CA-2017-121258  FUR-FU-10000747   2/26/2017    3/3/2017  Standard Class\n",
       "3810  CA-2017-119914  OFF-AP-10002684    5/4/2017    5/9/2017    Second Class\n",
       "\n",
       "[3811 rows x 5 columns]"
      ]
     },
     "execution_count": 410,
     "metadata": {},
     "output_type": "execute_result"
    }
   ],
   "source": [
    "unique_orders_table.reset_index(drop=True)"
   ]
  },
  {
   "cell_type": "markdown",
   "metadata": {},
   "source": [
    "# Creates a \"Numbers\" table"
   ]
  },
  {
   "cell_type": "code",
   "execution_count": 298,
   "metadata": {},
   "outputs": [],
   "source": [
    "numbers_table = vsstore[[\"Sales\", \"Quantity\", \"Discount\", \"Profit\", \"Order ID\", \"Product ID\"]]"
   ]
  },
  {
   "cell_type": "code",
   "execution_count": 299,
   "metadata": {},
   "outputs": [
    {
     "data": {
      "text/plain": [
       "<bound method DataFrame.drop_duplicates of          Sales  Quantity  Discount    Profit        Order ID       Product ID\n",
       "0     261.9600         2      0.00   41.9136  CA-2016-152156  FUR-BO-10001798\n",
       "1     731.9400         3      0.00  219.5820  CA-2016-152156  FUR-CH-10000454\n",
       "2      14.6200         2      0.00    6.8714  CA-2016-138688  OFF-LA-10000240\n",
       "3     957.5775         5      0.45 -383.0310  US-2015-108966  FUR-TA-10000577\n",
       "4      22.3680         2      0.20    2.5164  US-2015-108966  OFF-ST-10000760\n",
       "...        ...       ...       ...       ...             ...              ...\n",
       "9989   25.2480         3      0.20    4.1028  CA-2014-110422  FUR-FU-10001889\n",
       "9990   91.9600         2      0.00   15.6332  CA-2017-121258  FUR-FU-10000747\n",
       "9991  258.5760         2      0.20   19.3932  CA-2017-121258  TEC-PH-10003645\n",
       "9992   29.6000         4      0.00   13.3200  CA-2017-121258  OFF-PA-10004041\n",
       "9993  243.1600         2      0.00   72.9480  CA-2017-119914  OFF-AP-10002684\n",
       "\n",
       "[9994 rows x 6 columns]>"
      ]
     },
     "execution_count": 299,
     "metadata": {},
     "output_type": "execute_result"
    }
   ],
   "source": [
    "numbers_table.drop_duplicates"
   ]
  },
  {
   "cell_type": "code",
   "execution_count": 301,
   "metadata": {},
   "outputs": [
    {
     "name": "stdout",
     "output_type": "stream",
     "text": [
      "<class 'pandas.core.frame.DataFrame'>\n",
      "RangeIndex: 9994 entries, 0 to 9993\n",
      "Data columns (total 6 columns):\n",
      " #   Column      Non-Null Count  Dtype  \n",
      "---  ------      --------------  -----  \n",
      " 0   Sales       9994 non-null   float64\n",
      " 1   Quantity    9994 non-null   int64  \n",
      " 2   Discount    9994 non-null   float64\n",
      " 3   Profit      9994 non-null   float64\n",
      " 4   Order ID    9994 non-null   object \n",
      " 5   Product ID  9994 non-null   object \n",
      "dtypes: float64(3), int64(1), object(2)\n",
      "memory usage: 468.6+ KB\n"
     ]
    }
   ],
   "source": [
    "numbers_table.info()"
   ]
  },
  {
   "cell_type": "code",
   "execution_count": 300,
   "metadata": {},
   "outputs": [],
   "source": [
    "unique_numbers_table = numbers_table.drop_duplicates(subset=['Order ID', 'Product ID'])"
   ]
  },
  {
   "cell_type": "code",
   "execution_count": 331,
   "metadata": {},
   "outputs": [],
   "source": [
    "unique_numbers_table2 =numbers_table.drop_duplicates(subset=numbers_table.columns.difference(['Order ID', 'Product ID']))\n"
   ]
  },
  {
   "cell_type": "code",
   "execution_count": 302,
   "metadata": {},
   "outputs": [
    {
     "name": "stdout",
     "output_type": "stream",
     "text": [
      "<class 'pandas.core.frame.DataFrame'>\n",
      "Index: 9986 entries, 0 to 9993\n",
      "Data columns (total 6 columns):\n",
      " #   Column      Non-Null Count  Dtype  \n",
      "---  ------      --------------  -----  \n",
      " 0   Sales       9986 non-null   float64\n",
      " 1   Quantity    9986 non-null   int64  \n",
      " 2   Discount    9986 non-null   float64\n",
      " 3   Profit      9986 non-null   float64\n",
      " 4   Order ID    9986 non-null   object \n",
      " 5   Product ID  9986 non-null   object \n",
      "dtypes: float64(3), int64(1), object(2)\n",
      "memory usage: 546.1+ KB\n"
     ]
    }
   ],
   "source": [
    "unique_numbers_table.info()"
   ]
  },
  {
   "cell_type": "code",
   "execution_count": 579,
   "metadata": {},
   "outputs": [
    {
     "name": "stdout",
     "output_type": "stream",
     "text": [
      "<class 'pandas.core.frame.DataFrame'>\n",
      "Index: 7686 entries, 0 to 9993\n",
      "Data columns (total 6 columns):\n",
      " #   Column      Non-Null Count  Dtype  \n",
      "---  ------      --------------  -----  \n",
      " 0   Sales       7686 non-null   float64\n",
      " 1   Quantity    7686 non-null   int64  \n",
      " 2   Discount    7686 non-null   float64\n",
      " 3   Profit      7686 non-null   float64\n",
      " 4   Order ID    7686 non-null   object \n",
      " 5   Product ID  7686 non-null   object \n",
      "dtypes: float64(3), int64(1), object(2)\n",
      "memory usage: 420.3+ KB\n"
     ]
    }
   ],
   "source": [
    "unique_numbers_table2.info()"
   ]
  },
  {
   "cell_type": "code",
   "execution_count": 581,
   "metadata": {},
   "outputs": [
    {
     "data": {
      "text/html": [
       "<div>\n",
       "<style scoped>\n",
       "    .dataframe tbody tr th:only-of-type {\n",
       "        vertical-align: middle;\n",
       "    }\n",
       "\n",
       "    .dataframe tbody tr th {\n",
       "        vertical-align: top;\n",
       "    }\n",
       "\n",
       "    .dataframe thead th {\n",
       "        text-align: right;\n",
       "    }\n",
       "</style>\n",
       "<table border=\"1\" class=\"dataframe\">\n",
       "  <thead>\n",
       "    <tr style=\"text-align: right;\">\n",
       "      <th></th>\n",
       "      <th>Sales</th>\n",
       "      <th>Quantity</th>\n",
       "      <th>Discount</th>\n",
       "      <th>Profit</th>\n",
       "      <th>Order ID</th>\n",
       "      <th>Product ID</th>\n",
       "    </tr>\n",
       "  </thead>\n",
       "  <tbody>\n",
       "    <tr>\n",
       "      <th>0</th>\n",
       "      <td>26195.0</td>\n",
       "      <td>2</td>\n",
       "      <td>0.00</td>\n",
       "      <td>4191.0</td>\n",
       "      <td>CA-2016-152156</td>\n",
       "      <td>FUR-BO-10001798</td>\n",
       "    </tr>\n",
       "    <tr>\n",
       "      <th>1</th>\n",
       "      <td>73194.0</td>\n",
       "      <td>3</td>\n",
       "      <td>0.00</td>\n",
       "      <td>21958.0</td>\n",
       "      <td>CA-2016-152156</td>\n",
       "      <td>FUR-CH-10000454</td>\n",
       "    </tr>\n",
       "    <tr>\n",
       "      <th>2</th>\n",
       "      <td>1462.0</td>\n",
       "      <td>2</td>\n",
       "      <td>0.00</td>\n",
       "      <td>687.0</td>\n",
       "      <td>CA-2016-138688</td>\n",
       "      <td>OFF-LA-10000240</td>\n",
       "    </tr>\n",
       "    <tr>\n",
       "      <th>3</th>\n",
       "      <td>95757.0</td>\n",
       "      <td>5</td>\n",
       "      <td>0.45</td>\n",
       "      <td>-38303.0</td>\n",
       "      <td>US-2015-108966</td>\n",
       "      <td>FUR-TA-10000577</td>\n",
       "    </tr>\n",
       "    <tr>\n",
       "      <th>4</th>\n",
       "      <td>2236.0</td>\n",
       "      <td>2</td>\n",
       "      <td>0.20</td>\n",
       "      <td>251.0</td>\n",
       "      <td>US-2015-108966</td>\n",
       "      <td>OFF-ST-10000760</td>\n",
       "    </tr>\n",
       "    <tr>\n",
       "      <th>...</th>\n",
       "      <td>...</td>\n",
       "      <td>...</td>\n",
       "      <td>...</td>\n",
       "      <td>...</td>\n",
       "      <td>...</td>\n",
       "      <td>...</td>\n",
       "    </tr>\n",
       "    <tr>\n",
       "      <th>9983</th>\n",
       "      <td>9798.0</td>\n",
       "      <td>2</td>\n",
       "      <td>0.00</td>\n",
       "      <td>2743.0</td>\n",
       "      <td>US-2016-157728</td>\n",
       "      <td>TEC-PH-10001305</td>\n",
       "    </tr>\n",
       "    <tr>\n",
       "      <th>9985</th>\n",
       "      <td>5560.0</td>\n",
       "      <td>4</td>\n",
       "      <td>0.00</td>\n",
       "      <td>1612.0</td>\n",
       "      <td>CA-2015-100251</td>\n",
       "      <td>OFF-SU-10000898</td>\n",
       "    </tr>\n",
       "    <tr>\n",
       "      <th>9989</th>\n",
       "      <td>2524.0</td>\n",
       "      <td>3</td>\n",
       "      <td>0.20</td>\n",
       "      <td>410.0</td>\n",
       "      <td>CA-2014-110422</td>\n",
       "      <td>FUR-FU-10001889</td>\n",
       "    </tr>\n",
       "    <tr>\n",
       "      <th>9992</th>\n",
       "      <td>2960.0</td>\n",
       "      <td>4</td>\n",
       "      <td>0.00</td>\n",
       "      <td>1332.0</td>\n",
       "      <td>CA-2017-121258</td>\n",
       "      <td>OFF-PA-10004041</td>\n",
       "    </tr>\n",
       "    <tr>\n",
       "      <th>9993</th>\n",
       "      <td>24316.0</td>\n",
       "      <td>2</td>\n",
       "      <td>0.00</td>\n",
       "      <td>7294.0</td>\n",
       "      <td>CA-2017-119914</td>\n",
       "      <td>OFF-AP-10002684</td>\n",
       "    </tr>\n",
       "  </tbody>\n",
       "</table>\n",
       "<p>7686 rows × 6 columns</p>\n",
       "</div>"
      ],
      "text/plain": [
       "        Sales  Quantity  Discount   Profit        Order ID       Product ID\n",
       "0     26195.0         2      0.00   4191.0  CA-2016-152156  FUR-BO-10001798\n",
       "1     73194.0         3      0.00  21958.0  CA-2016-152156  FUR-CH-10000454\n",
       "2      1462.0         2      0.00    687.0  CA-2016-138688  OFF-LA-10000240\n",
       "3     95757.0         5      0.45 -38303.0  US-2015-108966  FUR-TA-10000577\n",
       "4      2236.0         2      0.20    251.0  US-2015-108966  OFF-ST-10000760\n",
       "...       ...       ...       ...      ...             ...              ...\n",
       "9983   9798.0         2      0.00   2743.0  US-2016-157728  TEC-PH-10001305\n",
       "9985   5560.0         4      0.00   1612.0  CA-2015-100251  OFF-SU-10000898\n",
       "9989   2524.0         3      0.20    410.0  CA-2014-110422  FUR-FU-10001889\n",
       "9992   2960.0         4      0.00   1332.0  CA-2017-121258  OFF-PA-10004041\n",
       "9993  24316.0         2      0.00   7294.0  CA-2017-119914  OFF-AP-10002684\n",
       "\n",
       "[7686 rows x 6 columns]"
      ]
     },
     "execution_count": 581,
     "metadata": {},
     "output_type": "execute_result"
    }
   ],
   "source": [
    "unique_numbers_table2"
   ]
  },
  {
   "cell_type": "code",
   "execution_count": 411,
   "metadata": {},
   "outputs": [
    {
     "data": {
      "text/html": [
       "<div>\n",
       "<style scoped>\n",
       "    .dataframe tbody tr th:only-of-type {\n",
       "        vertical-align: middle;\n",
       "    }\n",
       "\n",
       "    .dataframe tbody tr th {\n",
       "        vertical-align: top;\n",
       "    }\n",
       "\n",
       "    .dataframe thead th {\n",
       "        text-align: right;\n",
       "    }\n",
       "</style>\n",
       "<table border=\"1\" class=\"dataframe\">\n",
       "  <thead>\n",
       "    <tr style=\"text-align: right;\">\n",
       "      <th></th>\n",
       "      <th>Sales</th>\n",
       "      <th>Quantity</th>\n",
       "      <th>Discount</th>\n",
       "      <th>Profit</th>\n",
       "      <th>Order ID</th>\n",
       "      <th>Product ID</th>\n",
       "    </tr>\n",
       "  </thead>\n",
       "  <tbody>\n",
       "    <tr>\n",
       "      <th>0</th>\n",
       "      <td>26195.0</td>\n",
       "      <td>2</td>\n",
       "      <td>0.00</td>\n",
       "      <td>4191.0</td>\n",
       "      <td>CA-2016-152156</td>\n",
       "      <td>FUR-BO-10001798</td>\n",
       "    </tr>\n",
       "    <tr>\n",
       "      <th>1</th>\n",
       "      <td>73194.0</td>\n",
       "      <td>3</td>\n",
       "      <td>0.00</td>\n",
       "      <td>21958.0</td>\n",
       "      <td>CA-2016-152156</td>\n",
       "      <td>FUR-CH-10000454</td>\n",
       "    </tr>\n",
       "    <tr>\n",
       "      <th>2</th>\n",
       "      <td>1462.0</td>\n",
       "      <td>2</td>\n",
       "      <td>0.00</td>\n",
       "      <td>687.0</td>\n",
       "      <td>CA-2016-138688</td>\n",
       "      <td>OFF-LA-10000240</td>\n",
       "    </tr>\n",
       "    <tr>\n",
       "      <th>3</th>\n",
       "      <td>95757.0</td>\n",
       "      <td>5</td>\n",
       "      <td>0.45</td>\n",
       "      <td>-38303.0</td>\n",
       "      <td>US-2015-108966</td>\n",
       "      <td>FUR-TA-10000577</td>\n",
       "    </tr>\n",
       "    <tr>\n",
       "      <th>4</th>\n",
       "      <td>2236.0</td>\n",
       "      <td>2</td>\n",
       "      <td>0.20</td>\n",
       "      <td>251.0</td>\n",
       "      <td>US-2015-108966</td>\n",
       "      <td>OFF-ST-10000760</td>\n",
       "    </tr>\n",
       "    <tr>\n",
       "      <th>...</th>\n",
       "      <td>...</td>\n",
       "      <td>...</td>\n",
       "      <td>...</td>\n",
       "      <td>...</td>\n",
       "      <td>...</td>\n",
       "      <td>...</td>\n",
       "    </tr>\n",
       "    <tr>\n",
       "      <th>7681</th>\n",
       "      <td>9798.0</td>\n",
       "      <td>2</td>\n",
       "      <td>0.00</td>\n",
       "      <td>2743.0</td>\n",
       "      <td>US-2016-157728</td>\n",
       "      <td>TEC-PH-10001305</td>\n",
       "    </tr>\n",
       "    <tr>\n",
       "      <th>7682</th>\n",
       "      <td>5560.0</td>\n",
       "      <td>4</td>\n",
       "      <td>0.00</td>\n",
       "      <td>1612.0</td>\n",
       "      <td>CA-2015-100251</td>\n",
       "      <td>OFF-SU-10000898</td>\n",
       "    </tr>\n",
       "    <tr>\n",
       "      <th>7683</th>\n",
       "      <td>2524.0</td>\n",
       "      <td>3</td>\n",
       "      <td>0.20</td>\n",
       "      <td>410.0</td>\n",
       "      <td>CA-2014-110422</td>\n",
       "      <td>FUR-FU-10001889</td>\n",
       "    </tr>\n",
       "    <tr>\n",
       "      <th>7684</th>\n",
       "      <td>2960.0</td>\n",
       "      <td>4</td>\n",
       "      <td>0.00</td>\n",
       "      <td>1332.0</td>\n",
       "      <td>CA-2017-121258</td>\n",
       "      <td>OFF-PA-10004041</td>\n",
       "    </tr>\n",
       "    <tr>\n",
       "      <th>7685</th>\n",
       "      <td>24316.0</td>\n",
       "      <td>2</td>\n",
       "      <td>0.00</td>\n",
       "      <td>7294.0</td>\n",
       "      <td>CA-2017-119914</td>\n",
       "      <td>OFF-AP-10002684</td>\n",
       "    </tr>\n",
       "  </tbody>\n",
       "</table>\n",
       "<p>7686 rows × 6 columns</p>\n",
       "</div>"
      ],
      "text/plain": [
       "        Sales  Quantity  Discount   Profit        Order ID       Product ID\n",
       "0     26195.0         2      0.00   4191.0  CA-2016-152156  FUR-BO-10001798\n",
       "1     73194.0         3      0.00  21958.0  CA-2016-152156  FUR-CH-10000454\n",
       "2      1462.0         2      0.00    687.0  CA-2016-138688  OFF-LA-10000240\n",
       "3     95757.0         5      0.45 -38303.0  US-2015-108966  FUR-TA-10000577\n",
       "4      2236.0         2      0.20    251.0  US-2015-108966  OFF-ST-10000760\n",
       "...       ...       ...       ...      ...             ...              ...\n",
       "7681   9798.0         2      0.00   2743.0  US-2016-157728  TEC-PH-10001305\n",
       "7682   5560.0         4      0.00   1612.0  CA-2015-100251  OFF-SU-10000898\n",
       "7683   2524.0         3      0.20    410.0  CA-2014-110422  FUR-FU-10001889\n",
       "7684   2960.0         4      0.00   1332.0  CA-2017-121258  OFF-PA-10004041\n",
       "7685  24316.0         2      0.00   7294.0  CA-2017-119914  OFF-AP-10002684\n",
       "\n",
       "[7686 rows x 6 columns]"
      ]
     },
     "execution_count": 411,
     "metadata": {},
     "output_type": "execute_result"
    }
   ],
   "source": [
    "unique_numbers_table2.reset_index(drop=True)"
   ]
  },
  {
   "cell_type": "markdown",
   "metadata": {},
   "source": [
    "# Saves numbers table on the pc"
   ]
  },
  {
   "cell_type": "code",
   "execution_count": 582,
   "metadata": {},
   "outputs": [],
   "source": [
    "\n",
    "output_filename = f\"{output_directory}/Numbers.csv\"\n",
    "unique_numbers_table2.to_csv(output_filename, index=False)"
   ]
  },
  {
   "cell_type": "markdown",
   "metadata": {},
   "source": [
    "# All prices are transformed to CENTS to avoid floating point errors in SQLite."
   ]
  },
  {
   "cell_type": "code",
   "execution_count": 335,
   "metadata": {},
   "outputs": [],
   "source": [
    "\n",
    "cols = [\"Sales\", \"Profit\"]\n",
    "\n",
    "unique_numbers_table2.loc[:, cols] = (unique_numbers_table2[cols]*100).astype(int)"
   ]
  },
  {
   "cell_type": "markdown",
   "metadata": {},
   "source": [
    "# Create an output directory if it doesn't exist"
   ]
  },
  {
   "cell_type": "code",
   "execution_count": 418,
   "metadata": {},
   "outputs": [],
   "source": [
    "import os"
   ]
  },
  {
   "cell_type": "code",
   "execution_count": 421,
   "metadata": {},
   "outputs": [],
   "source": [
    "output_directory = r\"C:\\Users\\dariy\\OneDrive\\Работен плот\\Code Academy\\SQL\""
   ]
  },
  {
   "cell_type": "code",
   "execution_count": 422,
   "metadata": {},
   "outputs": [],
   "source": [
    "if not os.path.exists(output_directory):\n",
    "    os.makedirs(output_directory)"
   ]
  },
  {
   "cell_type": "markdown",
   "metadata": {},
   "source": [
    "# outputs CSVs of the created tables to the pc"
   ]
  },
  {
   "cell_type": "code",
   "execution_count": 427,
   "metadata": {},
   "outputs": [],
   "source": [
    "list_of_tables = ['Products', 'Customers', 'Location', 'Orders', 'Numbers']\n",
    "dataframes = [product_table, customers_table_new, location_column, unique_orders_table, unique_numbers_table2]"
   ]
  },
  {
   "cell_type": "code",
   "execution_count": 518,
   "metadata": {},
   "outputs": [],
   "source": [
    "unique_orders_table=unique_orders_table.rename(columns={'Order ID': 'OrderID', 'Product ID': 'Product', 'Order Date': 'OrderDate', 'Ship Date' : 'ShipDate', 'Ship Mode': 'ShipMode'})"
   ]
  },
  {
   "cell_type": "code",
   "execution_count": 519,
   "metadata": {},
   "outputs": [
    {
     "name": "stdout",
     "output_type": "stream",
     "text": [
      "<class 'pandas.core.frame.DataFrame'>\n",
      "Index: 1894 entries, 0 to 9935\n",
      "Data columns (total 4 columns):\n",
      " #   Column        Non-Null Count  Dtype \n",
      "---  ------        --------------  ----- \n",
      " 0   Product ID    1894 non-null   object\n",
      " 1   Product Name  1894 non-null   object\n",
      " 2   Category      1894 non-null   object\n",
      " 3   Sub-Category  1894 non-null   object\n",
      "dtypes: object(4)\n",
      "memory usage: 74.0+ KB\n"
     ]
    }
   ],
   "source": [
    "product_table.info()"
   ]
  },
  {
   "cell_type": "code",
   "execution_count": 508,
   "metadata": {},
   "outputs": [
    {
     "data": {
      "text/html": [
       "<div>\n",
       "<style scoped>\n",
       "    .dataframe tbody tr th:only-of-type {\n",
       "        vertical-align: middle;\n",
       "    }\n",
       "\n",
       "    .dataframe tbody tr th {\n",
       "        vertical-align: top;\n",
       "    }\n",
       "\n",
       "    .dataframe thead th {\n",
       "        text-align: right;\n",
       "    }\n",
       "</style>\n",
       "<table border=\"1\" class=\"dataframe\">\n",
       "  <thead>\n",
       "    <tr style=\"text-align: right;\">\n",
       "      <th></th>\n",
       "      <th>Product ID</th>\n",
       "      <th>Product Name</th>\n",
       "      <th>Category</th>\n",
       "      <th>Sub-Category</th>\n",
       "    </tr>\n",
       "  </thead>\n",
       "  <tbody>\n",
       "    <tr>\n",
       "      <th>0</th>\n",
       "      <td>FUR-BO-10001798_1</td>\n",
       "      <td>Bush Somerset Collection Bookcase</td>\n",
       "      <td>Furniture</td>\n",
       "      <td>Bookcases</td>\n",
       "    </tr>\n",
       "    <tr>\n",
       "      <th>1</th>\n",
       "      <td>FUR-CH-10000454_1</td>\n",
       "      <td>Hon Deluxe Fabric Upholstered Stacking Chairs,...</td>\n",
       "      <td>Furniture</td>\n",
       "      <td>Chairs</td>\n",
       "    </tr>\n",
       "    <tr>\n",
       "      <th>2</th>\n",
       "      <td>OFF-LA-10000240_1</td>\n",
       "      <td>Self-Adhesive Address Labels for Typewriters b...</td>\n",
       "      <td>Office Supplies</td>\n",
       "      <td>Labels</td>\n",
       "    </tr>\n",
       "    <tr>\n",
       "      <th>3</th>\n",
       "      <td>FUR-TA-10000577_1</td>\n",
       "      <td>Bretford CR4500 Series Slim Rectangular Table</td>\n",
       "      <td>Furniture</td>\n",
       "      <td>Tables</td>\n",
       "    </tr>\n",
       "    <tr>\n",
       "      <th>4</th>\n",
       "      <td>OFF-ST-10000760_1</td>\n",
       "      <td>Eldon Fold 'N Roll Cart System</td>\n",
       "      <td>Office Supplies</td>\n",
       "      <td>Storage</td>\n",
       "    </tr>\n",
       "    <tr>\n",
       "      <th>...</th>\n",
       "      <td>...</td>\n",
       "      <td>...</td>\n",
       "      <td>...</td>\n",
       "      <td>...</td>\n",
       "    </tr>\n",
       "    <tr>\n",
       "      <th>1889</th>\n",
       "      <td>TEC-PH-10002817_1</td>\n",
       "      <td>RCA ViSYS 25425RE1 Corded phone</td>\n",
       "      <td>Technology</td>\n",
       "      <td>Phones</td>\n",
       "    </tr>\n",
       "    <tr>\n",
       "      <th>1890</th>\n",
       "      <td>TEC-MA-10003589_1</td>\n",
       "      <td>Cisco 8961 IP Phone Charcoal</td>\n",
       "      <td>Technology</td>\n",
       "      <td>Machines</td>\n",
       "    </tr>\n",
       "    <tr>\n",
       "      <th>1891</th>\n",
       "      <td>OFF-AP-10003099_1</td>\n",
       "      <td>Eureka Hand Vacuum, Bagless</td>\n",
       "      <td>Office Supplies</td>\n",
       "      <td>Appliances</td>\n",
       "    </tr>\n",
       "    <tr>\n",
       "      <th>1892</th>\n",
       "      <td>TEC-PH-10002645_1</td>\n",
       "      <td>LG G2</td>\n",
       "      <td>Technology</td>\n",
       "      <td>Phones</td>\n",
       "    </tr>\n",
       "    <tr>\n",
       "      <th>1893</th>\n",
       "      <td>OFF-ST-10001627_1</td>\n",
       "      <td>Eldon Jumbo ProFile Portable File Boxes Graphi...</td>\n",
       "      <td>Office Supplies</td>\n",
       "      <td>Storage</td>\n",
       "    </tr>\n",
       "  </tbody>\n",
       "</table>\n",
       "<p>1894 rows × 4 columns</p>\n",
       "</div>"
      ],
      "text/plain": [
       "             Product ID                                       Product Name  \\\n",
       "0     FUR-BO-10001798_1                  Bush Somerset Collection Bookcase   \n",
       "1     FUR-CH-10000454_1  Hon Deluxe Fabric Upholstered Stacking Chairs,...   \n",
       "2     OFF-LA-10000240_1  Self-Adhesive Address Labels for Typewriters b...   \n",
       "3     FUR-TA-10000577_1      Bretford CR4500 Series Slim Rectangular Table   \n",
       "4     OFF-ST-10000760_1                     Eldon Fold 'N Roll Cart System   \n",
       "...                 ...                                                ...   \n",
       "1889  TEC-PH-10002817_1                    RCA ViSYS 25425RE1 Corded phone   \n",
       "1890  TEC-MA-10003589_1                       Cisco 8961 IP Phone Charcoal   \n",
       "1891  OFF-AP-10003099_1                        Eureka Hand Vacuum, Bagless   \n",
       "1892  TEC-PH-10002645_1                                              LG G2   \n",
       "1893  OFF-ST-10001627_1  Eldon Jumbo ProFile Portable File Boxes Graphi...   \n",
       "\n",
       "             Category Sub-Category  \n",
       "0           Furniture    Bookcases  \n",
       "1           Furniture       Chairs  \n",
       "2     Office Supplies       Labels  \n",
       "3           Furniture       Tables  \n",
       "4     Office Supplies      Storage  \n",
       "...               ...          ...  \n",
       "1889       Technology       Phones  \n",
       "1890       Technology     Machines  \n",
       "1891  Office Supplies   Appliances  \n",
       "1892       Technology       Phones  \n",
       "1893  Office Supplies      Storage  \n",
       "\n",
       "[1894 rows x 4 columns]"
      ]
     },
     "execution_count": 508,
     "metadata": {},
     "output_type": "execute_result"
    }
   ],
   "source": [
    "product_table.reset_index(drop=True)"
   ]
  },
  {
   "cell_type": "code",
   "execution_count": 514,
   "metadata": {},
   "outputs": [
    {
     "data": {
      "text/html": [
       "<div>\n",
       "<style scoped>\n",
       "    .dataframe tbody tr th:only-of-type {\n",
       "        vertical-align: middle;\n",
       "    }\n",
       "\n",
       "    .dataframe tbody tr th {\n",
       "        vertical-align: top;\n",
       "    }\n",
       "\n",
       "    .dataframe thead th {\n",
       "        text-align: right;\n",
       "    }\n",
       "</style>\n",
       "<table border=\"1\" class=\"dataframe\">\n",
       "  <thead>\n",
       "    <tr style=\"text-align: right;\">\n",
       "      <th></th>\n",
       "      <th>Product ID</th>\n",
       "      <th>Product Name</th>\n",
       "      <th>Category</th>\n",
       "      <th>Sub-Category</th>\n",
       "    </tr>\n",
       "  </thead>\n",
       "  <tbody>\n",
       "    <tr>\n",
       "      <th>0</th>\n",
       "      <td>FUR-BO-10001798_1</td>\n",
       "      <td>Bush Somerset Collection Bookcase</td>\n",
       "      <td>Furniture</td>\n",
       "      <td>Bookcases</td>\n",
       "    </tr>\n",
       "    <tr>\n",
       "      <th>1</th>\n",
       "      <td>FUR-CH-10000454_1</td>\n",
       "      <td>Hon Deluxe Fabric Upholstered Stacking Chairs,...</td>\n",
       "      <td>Furniture</td>\n",
       "      <td>Chairs</td>\n",
       "    </tr>\n",
       "    <tr>\n",
       "      <th>2</th>\n",
       "      <td>OFF-LA-10000240_1</td>\n",
       "      <td>Self-Adhesive Address Labels for Typewriters b...</td>\n",
       "      <td>Office Supplies</td>\n",
       "      <td>Labels</td>\n",
       "    </tr>\n",
       "    <tr>\n",
       "      <th>3</th>\n",
       "      <td>FUR-TA-10000577_1</td>\n",
       "      <td>Bretford CR4500 Series Slim Rectangular Table</td>\n",
       "      <td>Furniture</td>\n",
       "      <td>Tables</td>\n",
       "    </tr>\n",
       "    <tr>\n",
       "      <th>4</th>\n",
       "      <td>OFF-ST-10000760_1</td>\n",
       "      <td>Eldon Fold 'N Roll Cart System</td>\n",
       "      <td>Office Supplies</td>\n",
       "      <td>Storage</td>\n",
       "    </tr>\n",
       "    <tr>\n",
       "      <th>...</th>\n",
       "      <td>...</td>\n",
       "      <td>...</td>\n",
       "      <td>...</td>\n",
       "      <td>...</td>\n",
       "    </tr>\n",
       "    <tr>\n",
       "      <th>9521</th>\n",
       "      <td>TEC-PH-10002817_1</td>\n",
       "      <td>RCA ViSYS 25425RE1 Corded phone</td>\n",
       "      <td>Technology</td>\n",
       "      <td>Phones</td>\n",
       "    </tr>\n",
       "    <tr>\n",
       "      <th>9562</th>\n",
       "      <td>TEC-MA-10003589_1</td>\n",
       "      <td>Cisco 8961 IP Phone Charcoal</td>\n",
       "      <td>Technology</td>\n",
       "      <td>Machines</td>\n",
       "    </tr>\n",
       "    <tr>\n",
       "      <th>9604</th>\n",
       "      <td>OFF-AP-10003099_1</td>\n",
       "      <td>Eureka Hand Vacuum, Bagless</td>\n",
       "      <td>Office Supplies</td>\n",
       "      <td>Appliances</td>\n",
       "    </tr>\n",
       "    <tr>\n",
       "      <th>9673</th>\n",
       "      <td>TEC-PH-10002645_1</td>\n",
       "      <td>LG G2</td>\n",
       "      <td>Technology</td>\n",
       "      <td>Phones</td>\n",
       "    </tr>\n",
       "    <tr>\n",
       "      <th>9935</th>\n",
       "      <td>OFF-ST-10001627_1</td>\n",
       "      <td>Eldon Jumbo ProFile Portable File Boxes Graphi...</td>\n",
       "      <td>Office Supplies</td>\n",
       "      <td>Storage</td>\n",
       "    </tr>\n",
       "  </tbody>\n",
       "</table>\n",
       "<p>1894 rows × 4 columns</p>\n",
       "</div>"
      ],
      "text/plain": [
       "             Product ID                                       Product Name  \\\n",
       "0     FUR-BO-10001798_1                  Bush Somerset Collection Bookcase   \n",
       "1     FUR-CH-10000454_1  Hon Deluxe Fabric Upholstered Stacking Chairs,...   \n",
       "2     OFF-LA-10000240_1  Self-Adhesive Address Labels for Typewriters b...   \n",
       "3     FUR-TA-10000577_1      Bretford CR4500 Series Slim Rectangular Table   \n",
       "4     OFF-ST-10000760_1                     Eldon Fold 'N Roll Cart System   \n",
       "...                 ...                                                ...   \n",
       "9521  TEC-PH-10002817_1                    RCA ViSYS 25425RE1 Corded phone   \n",
       "9562  TEC-MA-10003589_1                       Cisco 8961 IP Phone Charcoal   \n",
       "9604  OFF-AP-10003099_1                        Eureka Hand Vacuum, Bagless   \n",
       "9673  TEC-PH-10002645_1                                              LG G2   \n",
       "9935  OFF-ST-10001627_1  Eldon Jumbo ProFile Portable File Boxes Graphi...   \n",
       "\n",
       "             Category Sub-Category  \n",
       "0           Furniture    Bookcases  \n",
       "1           Furniture       Chairs  \n",
       "2     Office Supplies       Labels  \n",
       "3           Furniture       Tables  \n",
       "4     Office Supplies      Storage  \n",
       "...               ...          ...  \n",
       "9521       Technology       Phones  \n",
       "9562       Technology     Machines  \n",
       "9604  Office Supplies   Appliances  \n",
       "9673       Technology       Phones  \n",
       "9935  Office Supplies      Storage  \n",
       "\n",
       "[1894 rows x 4 columns]"
      ]
     },
     "execution_count": 514,
     "metadata": {},
     "output_type": "execute_result"
    }
   ],
   "source": [
    "product_table.drop_duplicates()"
   ]
  },
  {
   "cell_type": "code",
   "execution_count": 515,
   "metadata": {},
   "outputs": [
    {
     "data": {
      "text/html": [
       "<div>\n",
       "<style scoped>\n",
       "    .dataframe tbody tr th:only-of-type {\n",
       "        vertical-align: middle;\n",
       "    }\n",
       "\n",
       "    .dataframe tbody tr th {\n",
       "        vertical-align: top;\n",
       "    }\n",
       "\n",
       "    .dataframe thead th {\n",
       "        text-align: right;\n",
       "    }\n",
       "</style>\n",
       "<table border=\"1\" class=\"dataframe\">\n",
       "  <thead>\n",
       "    <tr style=\"text-align: right;\">\n",
       "      <th></th>\n",
       "      <th>Product ID</th>\n",
       "      <th>Product Name</th>\n",
       "      <th>Category</th>\n",
       "      <th>Sub-Category</th>\n",
       "    </tr>\n",
       "  </thead>\n",
       "  <tbody>\n",
       "    <tr>\n",
       "      <th>0</th>\n",
       "      <td>FUR-BO-10001798_1</td>\n",
       "      <td>Bush Somerset Collection Bookcase</td>\n",
       "      <td>Furniture</td>\n",
       "      <td>Bookcases</td>\n",
       "    </tr>\n",
       "    <tr>\n",
       "      <th>1</th>\n",
       "      <td>FUR-CH-10000454_1</td>\n",
       "      <td>Hon Deluxe Fabric Upholstered Stacking Chairs,...</td>\n",
       "      <td>Furniture</td>\n",
       "      <td>Chairs</td>\n",
       "    </tr>\n",
       "    <tr>\n",
       "      <th>2</th>\n",
       "      <td>OFF-LA-10000240_1</td>\n",
       "      <td>Self-Adhesive Address Labels for Typewriters b...</td>\n",
       "      <td>Office Supplies</td>\n",
       "      <td>Labels</td>\n",
       "    </tr>\n",
       "    <tr>\n",
       "      <th>3</th>\n",
       "      <td>FUR-TA-10000577_1</td>\n",
       "      <td>Bretford CR4500 Series Slim Rectangular Table</td>\n",
       "      <td>Furniture</td>\n",
       "      <td>Tables</td>\n",
       "    </tr>\n",
       "    <tr>\n",
       "      <th>4</th>\n",
       "      <td>OFF-ST-10000760_1</td>\n",
       "      <td>Eldon Fold 'N Roll Cart System</td>\n",
       "      <td>Office Supplies</td>\n",
       "      <td>Storage</td>\n",
       "    </tr>\n",
       "    <tr>\n",
       "      <th>...</th>\n",
       "      <td>...</td>\n",
       "      <td>...</td>\n",
       "      <td>...</td>\n",
       "      <td>...</td>\n",
       "    </tr>\n",
       "    <tr>\n",
       "      <th>1889</th>\n",
       "      <td>TEC-PH-10002817_1</td>\n",
       "      <td>RCA ViSYS 25425RE1 Corded phone</td>\n",
       "      <td>Technology</td>\n",
       "      <td>Phones</td>\n",
       "    </tr>\n",
       "    <tr>\n",
       "      <th>1890</th>\n",
       "      <td>TEC-MA-10003589_1</td>\n",
       "      <td>Cisco 8961 IP Phone Charcoal</td>\n",
       "      <td>Technology</td>\n",
       "      <td>Machines</td>\n",
       "    </tr>\n",
       "    <tr>\n",
       "      <th>1891</th>\n",
       "      <td>OFF-AP-10003099_1</td>\n",
       "      <td>Eureka Hand Vacuum, Bagless</td>\n",
       "      <td>Office Supplies</td>\n",
       "      <td>Appliances</td>\n",
       "    </tr>\n",
       "    <tr>\n",
       "      <th>1892</th>\n",
       "      <td>TEC-PH-10002645_1</td>\n",
       "      <td>LG G2</td>\n",
       "      <td>Technology</td>\n",
       "      <td>Phones</td>\n",
       "    </tr>\n",
       "    <tr>\n",
       "      <th>1893</th>\n",
       "      <td>OFF-ST-10001627_1</td>\n",
       "      <td>Eldon Jumbo ProFile Portable File Boxes Graphi...</td>\n",
       "      <td>Office Supplies</td>\n",
       "      <td>Storage</td>\n",
       "    </tr>\n",
       "  </tbody>\n",
       "</table>\n",
       "<p>1894 rows × 4 columns</p>\n",
       "</div>"
      ],
      "text/plain": [
       "             Product ID                                       Product Name  \\\n",
       "0     FUR-BO-10001798_1                  Bush Somerset Collection Bookcase   \n",
       "1     FUR-CH-10000454_1  Hon Deluxe Fabric Upholstered Stacking Chairs,...   \n",
       "2     OFF-LA-10000240_1  Self-Adhesive Address Labels for Typewriters b...   \n",
       "3     FUR-TA-10000577_1      Bretford CR4500 Series Slim Rectangular Table   \n",
       "4     OFF-ST-10000760_1                     Eldon Fold 'N Roll Cart System   \n",
       "...                 ...                                                ...   \n",
       "1889  TEC-PH-10002817_1                    RCA ViSYS 25425RE1 Corded phone   \n",
       "1890  TEC-MA-10003589_1                       Cisco 8961 IP Phone Charcoal   \n",
       "1891  OFF-AP-10003099_1                        Eureka Hand Vacuum, Bagless   \n",
       "1892  TEC-PH-10002645_1                                              LG G2   \n",
       "1893  OFF-ST-10001627_1  Eldon Jumbo ProFile Portable File Boxes Graphi...   \n",
       "\n",
       "             Category Sub-Category  \n",
       "0           Furniture    Bookcases  \n",
       "1           Furniture       Chairs  \n",
       "2     Office Supplies       Labels  \n",
       "3           Furniture       Tables  \n",
       "4     Office Supplies      Storage  \n",
       "...               ...          ...  \n",
       "1889       Technology       Phones  \n",
       "1890       Technology     Machines  \n",
       "1891  Office Supplies   Appliances  \n",
       "1892       Technology       Phones  \n",
       "1893  Office Supplies      Storage  \n",
       "\n",
       "[1894 rows x 4 columns]"
      ]
     },
     "execution_count": 515,
     "metadata": {},
     "output_type": "execute_result"
    }
   ],
   "source": [
    "product_table.reset_index(drop=True)"
   ]
  },
  {
   "cell_type": "code",
   "execution_count": 523,
   "metadata": {},
   "outputs": [
    {
     "name": "stdout",
     "output_type": "stream",
     "text": [
      "<class 'pandas.core.frame.DataFrame'>\n",
      "Index: 7686 entries, 0 to 9993\n",
      "Data columns (total 6 columns):\n",
      " #   Column      Non-Null Count  Dtype  \n",
      "---  ------      --------------  -----  \n",
      " 0   Sales       7686 non-null   float64\n",
      " 1   Quantity    7686 non-null   int64  \n",
      " 2   Discount    7686 non-null   float64\n",
      " 3   Profit      7686 non-null   float64\n",
      " 4   Order ID    7686 non-null   object \n",
      " 5   Product ID  7686 non-null   object \n",
      "dtypes: float64(3), int64(1), object(2)\n",
      "memory usage: 420.3+ KB\n"
     ]
    }
   ],
   "source": [
    "unique_numbers_table2.info()"
   ]
  },
  {
   "cell_type": "markdown",
   "metadata": {},
   "source": [
    "# renaming the columns to match the names of th database design column names"
   ]
  },
  {
   "cell_type": "code",
   "execution_count": 525,
   "metadata": {},
   "outputs": [
    {
     "data": {
      "text/html": [
       "<div>\n",
       "<style scoped>\n",
       "    .dataframe tbody tr th:only-of-type {\n",
       "        vertical-align: middle;\n",
       "    }\n",
       "\n",
       "    .dataframe tbody tr th {\n",
       "        vertical-align: top;\n",
       "    }\n",
       "\n",
       "    .dataframe thead th {\n",
       "        text-align: right;\n",
       "    }\n",
       "</style>\n",
       "<table border=\"1\" class=\"dataframe\">\n",
       "  <thead>\n",
       "    <tr style=\"text-align: right;\">\n",
       "      <th></th>\n",
       "      <th>Sales</th>\n",
       "      <th>Quantity</th>\n",
       "      <th>Discount</th>\n",
       "      <th>Profit</th>\n",
       "      <th>OrderID</th>\n",
       "      <th>ProductID</th>\n",
       "    </tr>\n",
       "  </thead>\n",
       "  <tbody>\n",
       "    <tr>\n",
       "      <th>0</th>\n",
       "      <td>26195.0</td>\n",
       "      <td>2</td>\n",
       "      <td>0.00</td>\n",
       "      <td>4191.0</td>\n",
       "      <td>CA-2016-152156</td>\n",
       "      <td>FUR-BO-10001798</td>\n",
       "    </tr>\n",
       "    <tr>\n",
       "      <th>1</th>\n",
       "      <td>73194.0</td>\n",
       "      <td>3</td>\n",
       "      <td>0.00</td>\n",
       "      <td>21958.0</td>\n",
       "      <td>CA-2016-152156</td>\n",
       "      <td>FUR-CH-10000454</td>\n",
       "    </tr>\n",
       "    <tr>\n",
       "      <th>2</th>\n",
       "      <td>1462.0</td>\n",
       "      <td>2</td>\n",
       "      <td>0.00</td>\n",
       "      <td>687.0</td>\n",
       "      <td>CA-2016-138688</td>\n",
       "      <td>OFF-LA-10000240</td>\n",
       "    </tr>\n",
       "    <tr>\n",
       "      <th>3</th>\n",
       "      <td>95757.0</td>\n",
       "      <td>5</td>\n",
       "      <td>0.45</td>\n",
       "      <td>-38303.0</td>\n",
       "      <td>US-2015-108966</td>\n",
       "      <td>FUR-TA-10000577</td>\n",
       "    </tr>\n",
       "    <tr>\n",
       "      <th>4</th>\n",
       "      <td>2236.0</td>\n",
       "      <td>2</td>\n",
       "      <td>0.20</td>\n",
       "      <td>251.0</td>\n",
       "      <td>US-2015-108966</td>\n",
       "      <td>OFF-ST-10000760</td>\n",
       "    </tr>\n",
       "    <tr>\n",
       "      <th>...</th>\n",
       "      <td>...</td>\n",
       "      <td>...</td>\n",
       "      <td>...</td>\n",
       "      <td>...</td>\n",
       "      <td>...</td>\n",
       "      <td>...</td>\n",
       "    </tr>\n",
       "    <tr>\n",
       "      <th>9983</th>\n",
       "      <td>9798.0</td>\n",
       "      <td>2</td>\n",
       "      <td>0.00</td>\n",
       "      <td>2743.0</td>\n",
       "      <td>US-2016-157728</td>\n",
       "      <td>TEC-PH-10001305</td>\n",
       "    </tr>\n",
       "    <tr>\n",
       "      <th>9985</th>\n",
       "      <td>5560.0</td>\n",
       "      <td>4</td>\n",
       "      <td>0.00</td>\n",
       "      <td>1612.0</td>\n",
       "      <td>CA-2015-100251</td>\n",
       "      <td>OFF-SU-10000898</td>\n",
       "    </tr>\n",
       "    <tr>\n",
       "      <th>9989</th>\n",
       "      <td>2524.0</td>\n",
       "      <td>3</td>\n",
       "      <td>0.20</td>\n",
       "      <td>410.0</td>\n",
       "      <td>CA-2014-110422</td>\n",
       "      <td>FUR-FU-10001889</td>\n",
       "    </tr>\n",
       "    <tr>\n",
       "      <th>9992</th>\n",
       "      <td>2960.0</td>\n",
       "      <td>4</td>\n",
       "      <td>0.00</td>\n",
       "      <td>1332.0</td>\n",
       "      <td>CA-2017-121258</td>\n",
       "      <td>OFF-PA-10004041</td>\n",
       "    </tr>\n",
       "    <tr>\n",
       "      <th>9993</th>\n",
       "      <td>24316.0</td>\n",
       "      <td>2</td>\n",
       "      <td>0.00</td>\n",
       "      <td>7294.0</td>\n",
       "      <td>CA-2017-119914</td>\n",
       "      <td>OFF-AP-10002684</td>\n",
       "    </tr>\n",
       "  </tbody>\n",
       "</table>\n",
       "<p>7686 rows × 6 columns</p>\n",
       "</div>"
      ],
      "text/plain": [
       "        Sales  Quantity  Discount   Profit         OrderID        ProductID\n",
       "0     26195.0         2      0.00   4191.0  CA-2016-152156  FUR-BO-10001798\n",
       "1     73194.0         3      0.00  21958.0  CA-2016-152156  FUR-CH-10000454\n",
       "2      1462.0         2      0.00    687.0  CA-2016-138688  OFF-LA-10000240\n",
       "3     95757.0         5      0.45 -38303.0  US-2015-108966  FUR-TA-10000577\n",
       "4      2236.0         2      0.20    251.0  US-2015-108966  OFF-ST-10000760\n",
       "...       ...       ...       ...      ...             ...              ...\n",
       "9983   9798.0         2      0.00   2743.0  US-2016-157728  TEC-PH-10001305\n",
       "9985   5560.0         4      0.00   1612.0  CA-2015-100251  OFF-SU-10000898\n",
       "9989   2524.0         3      0.20    410.0  CA-2014-110422  FUR-FU-10001889\n",
       "9992   2960.0         4      0.00   1332.0  CA-2017-121258  OFF-PA-10004041\n",
       "9993  24316.0         2      0.00   7294.0  CA-2017-119914  OFF-AP-10002684\n",
       "\n",
       "[7686 rows x 6 columns]"
      ]
     },
     "execution_count": 525,
     "metadata": {},
     "output_type": "execute_result"
    }
   ],
   "source": [
    "\n",
    "unique_numbers_table2.rename(columns={'Order ID': 'OrderID', 'Product ID': 'ProductID'})"
   ]
  },
  {
   "cell_type": "code",
   "execution_count": 527,
   "metadata": {},
   "outputs": [
    {
     "data": {
      "text/html": [
       "<div>\n",
       "<style scoped>\n",
       "    .dataframe tbody tr th:only-of-type {\n",
       "        vertical-align: middle;\n",
       "    }\n",
       "\n",
       "    .dataframe tbody tr th {\n",
       "        vertical-align: top;\n",
       "    }\n",
       "\n",
       "    .dataframe thead th {\n",
       "        text-align: right;\n",
       "    }\n",
       "</style>\n",
       "<table border=\"1\" class=\"dataframe\">\n",
       "  <thead>\n",
       "    <tr style=\"text-align: right;\">\n",
       "      <th></th>\n",
       "      <th>Sales</th>\n",
       "      <th>Quantity</th>\n",
       "      <th>Discount</th>\n",
       "      <th>Profit</th>\n",
       "      <th>Order ID</th>\n",
       "      <th>Product ID</th>\n",
       "    </tr>\n",
       "  </thead>\n",
       "  <tbody>\n",
       "    <tr>\n",
       "      <th>0</th>\n",
       "      <td>26195.0</td>\n",
       "      <td>2</td>\n",
       "      <td>0.00</td>\n",
       "      <td>4191.0</td>\n",
       "      <td>CA-2016-152156</td>\n",
       "      <td>FUR-BO-10001798</td>\n",
       "    </tr>\n",
       "    <tr>\n",
       "      <th>1</th>\n",
       "      <td>73194.0</td>\n",
       "      <td>3</td>\n",
       "      <td>0.00</td>\n",
       "      <td>21958.0</td>\n",
       "      <td>CA-2016-152156</td>\n",
       "      <td>FUR-CH-10000454</td>\n",
       "    </tr>\n",
       "    <tr>\n",
       "      <th>2</th>\n",
       "      <td>1462.0</td>\n",
       "      <td>2</td>\n",
       "      <td>0.00</td>\n",
       "      <td>687.0</td>\n",
       "      <td>CA-2016-138688</td>\n",
       "      <td>OFF-LA-10000240</td>\n",
       "    </tr>\n",
       "    <tr>\n",
       "      <th>3</th>\n",
       "      <td>95757.0</td>\n",
       "      <td>5</td>\n",
       "      <td>0.45</td>\n",
       "      <td>-38303.0</td>\n",
       "      <td>US-2015-108966</td>\n",
       "      <td>FUR-TA-10000577</td>\n",
       "    </tr>\n",
       "    <tr>\n",
       "      <th>4</th>\n",
       "      <td>2236.0</td>\n",
       "      <td>2</td>\n",
       "      <td>0.20</td>\n",
       "      <td>251.0</td>\n",
       "      <td>US-2015-108966</td>\n",
       "      <td>OFF-ST-10000760</td>\n",
       "    </tr>\n",
       "    <tr>\n",
       "      <th>...</th>\n",
       "      <td>...</td>\n",
       "      <td>...</td>\n",
       "      <td>...</td>\n",
       "      <td>...</td>\n",
       "      <td>...</td>\n",
       "      <td>...</td>\n",
       "    </tr>\n",
       "    <tr>\n",
       "      <th>7681</th>\n",
       "      <td>9798.0</td>\n",
       "      <td>2</td>\n",
       "      <td>0.00</td>\n",
       "      <td>2743.0</td>\n",
       "      <td>US-2016-157728</td>\n",
       "      <td>TEC-PH-10001305</td>\n",
       "    </tr>\n",
       "    <tr>\n",
       "      <th>7682</th>\n",
       "      <td>5560.0</td>\n",
       "      <td>4</td>\n",
       "      <td>0.00</td>\n",
       "      <td>1612.0</td>\n",
       "      <td>CA-2015-100251</td>\n",
       "      <td>OFF-SU-10000898</td>\n",
       "    </tr>\n",
       "    <tr>\n",
       "      <th>7683</th>\n",
       "      <td>2524.0</td>\n",
       "      <td>3</td>\n",
       "      <td>0.20</td>\n",
       "      <td>410.0</td>\n",
       "      <td>CA-2014-110422</td>\n",
       "      <td>FUR-FU-10001889</td>\n",
       "    </tr>\n",
       "    <tr>\n",
       "      <th>7684</th>\n",
       "      <td>2960.0</td>\n",
       "      <td>4</td>\n",
       "      <td>0.00</td>\n",
       "      <td>1332.0</td>\n",
       "      <td>CA-2017-121258</td>\n",
       "      <td>OFF-PA-10004041</td>\n",
       "    </tr>\n",
       "    <tr>\n",
       "      <th>7685</th>\n",
       "      <td>24316.0</td>\n",
       "      <td>2</td>\n",
       "      <td>0.00</td>\n",
       "      <td>7294.0</td>\n",
       "      <td>CA-2017-119914</td>\n",
       "      <td>OFF-AP-10002684</td>\n",
       "    </tr>\n",
       "  </tbody>\n",
       "</table>\n",
       "<p>7686 rows × 6 columns</p>\n",
       "</div>"
      ],
      "text/plain": [
       "        Sales  Quantity  Discount   Profit        Order ID       Product ID\n",
       "0     26195.0         2      0.00   4191.0  CA-2016-152156  FUR-BO-10001798\n",
       "1     73194.0         3      0.00  21958.0  CA-2016-152156  FUR-CH-10000454\n",
       "2      1462.0         2      0.00    687.0  CA-2016-138688  OFF-LA-10000240\n",
       "3     95757.0         5      0.45 -38303.0  US-2015-108966  FUR-TA-10000577\n",
       "4      2236.0         2      0.20    251.0  US-2015-108966  OFF-ST-10000760\n",
       "...       ...       ...       ...      ...             ...              ...\n",
       "7681   9798.0         2      0.00   2743.0  US-2016-157728  TEC-PH-10001305\n",
       "7682   5560.0         4      0.00   1612.0  CA-2015-100251  OFF-SU-10000898\n",
       "7683   2524.0         3      0.20    410.0  CA-2014-110422  FUR-FU-10001889\n",
       "7684   2960.0         4      0.00   1332.0  CA-2017-121258  OFF-PA-10004041\n",
       "7685  24316.0         2      0.00   7294.0  CA-2017-119914  OFF-AP-10002684\n",
       "\n",
       "[7686 rows x 6 columns]"
      ]
     },
     "execution_count": 527,
     "metadata": {},
     "output_type": "execute_result"
    }
   ],
   "source": [
    "unique_numbers_table2.reset_index(drop=True)"
   ]
  },
  {
   "cell_type": "code",
   "execution_count": 11,
   "metadata": {},
   "outputs": [
    {
     "ename": "NameError",
     "evalue": "name 'csv_list' is not defined",
     "output_type": "error",
     "traceback": [
      "\u001b[1;31m---------------------------------------------------------------------------\u001b[0m",
      "\u001b[1;31mNameError\u001b[0m                                 Traceback (most recent call last)",
      "\u001b[1;32mc:\\Users\\dariy\\OneDrive\\Работен плот\\Code Academy\\SQL\\E-Commerce Project.ipynb Cell 97\u001b[0m line \u001b[0;36m1\n\u001b[1;32m----> <a href='vscode-notebook-cell:/c%3A/Users/dariy/OneDrive/%D0%A0%D0%B0%D0%B1%D0%BE%D1%82%D0%B5%D0%BD%20%D0%BF%D0%BB%D0%BE%D1%82/Code%20Academy/SQL/E-Commerce%20Project.ipynb#Y130sZmlsZQ%3D%3D?line=0'>1</a>\u001b[0m tables \u001b[39m=\u001b[39m [pd\u001b[39m.\u001b[39mread_csv(\u001b[39mf\u001b[39m\u001b[39m'\u001b[39m\u001b[39m{\u001b[39;00mpath\u001b[39m}\u001b[39;00m\u001b[39m{\u001b[39;00mname\u001b[39m}\u001b[39;00m\u001b[39m.csv\u001b[39m\u001b[39m'\u001b[39m) \u001b[39mfor\u001b[39;00m name \u001b[39min\u001b[39;00m csv_list]\n",
      "\u001b[1;31mNameError\u001b[0m: name 'csv_list' is not defined"
     ]
    }
   ],
   "source": [
    "tables = [pd.read_csv(f'{path}{name}.csv') for name in csv_list]"
   ]
  },
  {
   "cell_type": "code",
   "execution_count": 516,
   "metadata": {},
   "outputs": [],
   "source": [
    "#Saving products table \n",
    "output_filename = f\"{output_directory}/Products.csv\"\n",
    "product_table.to_csv(output_filename, index=False)"
   ]
  },
  {
   "cell_type": "code",
   "execution_count": 528,
   "metadata": {},
   "outputs": [],
   "source": [
    "#Saving numbers table\n",
    "output_filename = f\"{output_directory}/Numbers.csv\"\n",
    "unique_numbers_table2.to_csv(output_filename, index=False)"
   ]
  },
  {
   "cell_type": "code",
   "execution_count": 521,
   "metadata": {},
   "outputs": [],
   "source": [
    "#Saving orders table \n",
    "output_filename = f\"{output_directory}/Orders.csv\"\n",
    "unique_orders_table.to_csv(output_filename, index=False)"
   ]
  },
  {
   "cell_type": "code",
   "execution_count": 428,
   "metadata": {},
   "outputs": [],
   "source": [
    "# Save all tables as a CSV file\n",
    "for i in range(len(list_of_tables)):\n",
    "    x = dataframes[i]\n",
    "    y = list_of_tables[i]\n",
    "    x.to_csv(f\"{output_directory}/{y}.csv\", index=False)"
   ]
  },
  {
   "cell_type": "markdown",
   "metadata": {},
   "source": [
    "# Some EDA with data visualisations"
   ]
  },
  {
   "cell_type": "code",
   "execution_count": 211,
   "metadata": {},
   "outputs": [
    {
     "name": "stderr",
     "output_type": "stream",
     "text": [
      "c:\\Users\\dariy\\anaconda3\\Lib\\site-packages\\seaborn\\_oldcore.py:1498: FutureWarning: is_categorical_dtype is deprecated and will be removed in a future version. Use isinstance(dtype, CategoricalDtype) instead\n",
      "  if pd.api.types.is_categorical_dtype(vector):\n",
      "c:\\Users\\dariy\\anaconda3\\Lib\\site-packages\\seaborn\\_oldcore.py:1498: FutureWarning: is_categorical_dtype is deprecated and will be removed in a future version. Use isinstance(dtype, CategoricalDtype) instead\n",
      "  if pd.api.types.is_categorical_dtype(vector):\n",
      "c:\\Users\\dariy\\anaconda3\\Lib\\site-packages\\seaborn\\_oldcore.py:1498: FutureWarning: is_categorical_dtype is deprecated and will be removed in a future version. Use isinstance(dtype, CategoricalDtype) instead\n",
      "  if pd.api.types.is_categorical_dtype(vector):\n"
     ]
    },
    {
     "data": {
      "image/png": "[encoded data removed]",
      "text/plain": [
       "<Figure size 1000x600 with 1 Axes>"
      ]
     },
     "metadata": {},
     "output_type": "display_data"
    }
   ],
   "source": [
    "plt.figure(figsize=(10, 6))\n",
    "sns.boxplot(x='Category', y='Sales', data=vsstore)\n",
    "plt.title('Box Plot of Sales by Category')\n",
    "plt.show()"
   ]
  },
  {
   "cell_type": "code",
   "execution_count": 24,
   "metadata": {},
   "outputs": [
    {
     "data": {
      "image/png": "[encoded data removed]",
      "text/plain": [
       "<Figure size 1200x800 with 2 Axes>"
      ]
     },
     "metadata": {},
     "output_type": "display_data"
    }
   ],
   "source": [
    "numeric_columns = vsstore.select_dtypes(include=['float64', 'int64'])\n",
    "correlation_matrix =numeric_columns.corr()\n",
    "plt.figure(figsize=(12, 8))\n",
    "sns.heatmap(correlation_matrix, annot=True, cmap='coolwarm', linewidths=.5)\n",
    "plt.title('Correlation Matrix Heatmap')\n",
    "plt.show()\n"
   ]
  },
  {
   "cell_type": "code",
   "execution_count": 25,
   "metadata": {},
   "outputs": [
    {
     "name": "stderr",
     "output_type": "stream",
     "text": [
      "c:\\Users\\dariy\\anaconda3\\Lib\\site-packages\\seaborn\\_oldcore.py:1498: FutureWarning: is_categorical_dtype is deprecated and will be removed in a future version. Use isinstance(dtype, CategoricalDtype) instead\n",
      "  if pd.api.types.is_categorical_dtype(vector):\n",
      "c:\\Users\\dariy\\anaconda3\\Lib\\site-packages\\seaborn\\_oldcore.py:1498: FutureWarning: is_categorical_dtype is deprecated and will be removed in a future version. Use isinstance(dtype, CategoricalDtype) instead\n",
      "  if pd.api.types.is_categorical_dtype(vector):\n",
      "c:\\Users\\dariy\\anaconda3\\Lib\\site-packages\\seaborn\\_oldcore.py:1498: FutureWarning: is_categorical_dtype is deprecated and will be removed in a future version. Use isinstance(dtype, CategoricalDtype) instead\n",
      "  if pd.api.types.is_categorical_dtype(vector):\n"
     ]
    },
    {
     "data": {
      "image/png": "[encoded data removed]",
      "text/plain": [
       "<Figure size 1200x600 with 1 Axes>"
      ]
     },
     "metadata": {},
     "output_type": "display_data"
    }
   ],
   "source": [
    "\n",
    "plt.figure(figsize=(12, 6))\n",
    "sns.countplot(x='Category', data=vsstore)\n",
    "plt.title('Count of Items in Each Category')\n",
    "plt.show()\n"
   ]
  },
  {
   "cell_type": "code",
   "execution_count": 26,
   "metadata": {},
   "outputs": [
    {
     "name": "stderr",
     "output_type": "stream",
     "text": [
      "c:\\Users\\dariy\\anaconda3\\Lib\\site-packages\\seaborn\\_oldcore.py:1498: FutureWarning: is_categorical_dtype is deprecated and will be removed in a future version. Use isinstance(dtype, CategoricalDtype) instead\n",
      "  if pd.api.types.is_categorical_dtype(vector):\n",
      "c:\\Users\\dariy\\anaconda3\\Lib\\site-packages\\seaborn\\_oldcore.py:1498: FutureWarning: is_categorical_dtype is deprecated and will be removed in a future version. Use isinstance(dtype, CategoricalDtype) instead\n",
      "  if pd.api.types.is_categorical_dtype(vector):\n"
     ]
    },
    {
     "data": {
      "image/png": "[encoded data removed]",
      "text/plain": [
       "<Figure size 1000x600 with 1 Axes>"
      ]
     },
     "metadata": {},
     "output_type": "display_data"
    }
   ],
   "source": [
    "plt.figure(figsize=(10, 6))\n",
    "sns.scatterplot(x='Sales', y='Profit', data=vsstore)\n",
    "plt.title('Sales vs. Profit')\n",
    "plt.show()\n"
   ]
  },
  {
   "cell_type": "code",
   "execution_count": 28,
   "metadata": {},
   "outputs": [
    {
     "name": "stderr",
     "output_type": "stream",
     "text": [
      "c:\\Users\\dariy\\anaconda3\\Lib\\site-packages\\seaborn\\_oldcore.py:1498: FutureWarning: is_categorical_dtype is deprecated and will be removed in a future version. Use isinstance(dtype, CategoricalDtype) instead\n",
      "  if pd.api.types.is_categorical_dtype(vector):\n",
      "c:\\Users\\dariy\\anaconda3\\Lib\\site-packages\\seaborn\\_oldcore.py:1498: FutureWarning: is_categorical_dtype is deprecated and will be removed in a future version. Use isinstance(dtype, CategoricalDtype) instead\n",
      "  if pd.api.types.is_categorical_dtype(vector):\n",
      "c:\\Users\\dariy\\anaconda3\\Lib\\site-packages\\seaborn\\_oldcore.py:1498: FutureWarning: is_categorical_dtype is deprecated and will be removed in a future version. Use isinstance(dtype, CategoricalDtype) instead\n",
      "  if pd.api.types.is_categorical_dtype(vector):\n",
      "c:\\Users\\dariy\\anaconda3\\Lib\\site-packages\\seaborn\\_oldcore.py:1498: FutureWarning: is_categorical_dtype is deprecated and will be removed in a future version. Use isinstance(dtype, CategoricalDtype) instead\n",
      "  if pd.api.types.is_categorical_dtype(vector):\n",
      "c:\\Users\\dariy\\anaconda3\\Lib\\site-packages\\seaborn\\_oldcore.py:1498: FutureWarning: is_categorical_dtype is deprecated and will be removed in a future version. Use isinstance(dtype, CategoricalDtype) instead\n",
      "  if pd.api.types.is_categorical_dtype(vector):\n",
      "c:\\Users\\dariy\\anaconda3\\Lib\\site-packages\\seaborn\\_oldcore.py:1119: FutureWarning: use_inf_as_na option is deprecated and will be removed in a future version. Convert inf values to NaN before operating instead.\n",
      "  with pd.option_context('mode.use_inf_as_na', True):\n",
      "c:\\Users\\dariy\\anaconda3\\Lib\\site-packages\\seaborn\\_oldcore.py:1498: FutureWarning: is_categorical_dtype is deprecated and will be removed in a future version. Use isinstance(dtype, CategoricalDtype) instead\n",
      "  if pd.api.types.is_categorical_dtype(vector):\n",
      "c:\\Users\\dariy\\anaconda3\\Lib\\site-packages\\seaborn\\_oldcore.py:1119: FutureWarning: use_inf_as_na option is deprecated and will be removed in a future version. Convert inf values to NaN before operating instead.\n",
      "  with pd.option_context('mode.use_inf_as_na', True):\n",
      "c:\\Users\\dariy\\anaconda3\\Lib\\site-packages\\seaborn\\_oldcore.py:1498: FutureWarning: is_categorical_dtype is deprecated and will be removed in a future version. Use isinstance(dtype, CategoricalDtype) instead\n",
      "  if pd.api.types.is_categorical_dtype(vector):\n",
      "c:\\Users\\dariy\\anaconda3\\Lib\\site-packages\\seaborn\\_oldcore.py:1119: FutureWarning: use_inf_as_na option is deprecated and will be removed in a future version. Convert inf values to NaN before operating instead.\n",
      "  with pd.option_context('mode.use_inf_as_na', True):\n",
      "c:\\Users\\dariy\\anaconda3\\Lib\\site-packages\\seaborn\\_oldcore.py:1498: FutureWarning: is_categorical_dtype is deprecated and will be removed in a future version. Use isinstance(dtype, CategoricalDtype) instead\n",
      "  if pd.api.types.is_categorical_dtype(vector):\n",
      "c:\\Users\\dariy\\anaconda3\\Lib\\site-packages\\seaborn\\_oldcore.py:1119: FutureWarning: use_inf_as_na option is deprecated and will be removed in a future version. Convert inf values to NaN before operating instead.\n",
      "  with pd.option_context('mode.use_inf_as_na', True):\n",
      "c:\\Users\\dariy\\anaconda3\\Lib\\site-packages\\seaborn\\_oldcore.py:1498: FutureWarning: is_categorical_dtype is deprecated and will be removed in a future version. Use isinstance(dtype, CategoricalDtype) instead\n",
      "  if pd.api.types.is_categorical_dtype(vector):\n",
      "c:\\Users\\dariy\\anaconda3\\Lib\\site-packages\\seaborn\\_oldcore.py:1498: FutureWarning: is_categorical_dtype is deprecated and will be removed in a future version. Use isinstance(dtype, CategoricalDtype) instead\n",
      "  if pd.api.types.is_categorical_dtype(vector):\n",
      "c:\\Users\\dariy\\anaconda3\\Lib\\site-packages\\seaborn\\_oldcore.py:1498: FutureWarning: is_categorical_dtype is deprecated and will be removed in a future version. Use isinstance(dtype, CategoricalDtype) instead\n",
      "  if pd.api.types.is_categorical_dtype(vector):\n",
      "c:\\Users\\dariy\\anaconda3\\Lib\\site-packages\\seaborn\\_oldcore.py:1498: FutureWarning: is_categorical_dtype is deprecated and will be removed in a future version. Use isinstance(dtype, CategoricalDtype) instead\n",
      "  if pd.api.types.is_categorical_dtype(vector):\n",
      "c:\\Users\\dariy\\anaconda3\\Lib\\site-packages\\seaborn\\_oldcore.py:1498: FutureWarning: is_categorical_dtype is deprecated and will be removed in a future version. Use isinstance(dtype, CategoricalDtype) instead\n",
      "  if pd.api.types.is_categorical_dtype(vector):\n",
      "c:\\Users\\dariy\\anaconda3\\Lib\\site-packages\\seaborn\\_oldcore.py:1498: FutureWarning: is_categorical_dtype is deprecated and will be removed in a future version. Use isinstance(dtype, CategoricalDtype) instead\n",
      "  if pd.api.types.is_categorical_dtype(vector):\n",
      "c:\\Users\\dariy\\anaconda3\\Lib\\site-packages\\seaborn\\_oldcore.py:1498: FutureWarning: is_categorical_dtype is deprecated and will be removed in a future version. Use isinstance(dtype, CategoricalDtype) instead\n",
      "  if pd.api.types.is_categorical_dtype(vector):\n",
      "c:\\Users\\dariy\\anaconda3\\Lib\\site-packages\\seaborn\\_oldcore.py:1498: FutureWarning: is_categorical_dtype is deprecated and will be removed in a future version. Use isinstance(dtype, CategoricalDtype) instead\n",
      "  if pd.api.types.is_categorical_dtype(vector):\n",
      "c:\\Users\\dariy\\anaconda3\\Lib\\site-packages\\seaborn\\_oldcore.py:1498: FutureWarning: is_categorical_dtype is deprecated and will be removed in a future version. Use isinstance(dtype, CategoricalDtype) instead\n",
      "  if pd.api.types.is_categorical_dtype(vector):\n",
      "c:\\Users\\dariy\\anaconda3\\Lib\\site-packages\\seaborn\\_oldcore.py:1498: FutureWarning: is_categorical_dtype is deprecated and will be removed in a future version. Use isinstance(dtype, CategoricalDtype) instead\n",
      "  if pd.api.types.is_categorical_dtype(vector):\n",
      "c:\\Users\\dariy\\anaconda3\\Lib\\site-packages\\seaborn\\_oldcore.py:1498: FutureWarning: is_categorical_dtype is deprecated and will be removed in a future version. Use isinstance(dtype, CategoricalDtype) instead\n",
      "  if pd.api.types.is_categorical_dtype(vector):\n",
      "c:\\Users\\dariy\\anaconda3\\Lib\\site-packages\\seaborn\\_oldcore.py:1498: FutureWarning: is_categorical_dtype is deprecated and will be removed in a future version. Use isinstance(dtype, CategoricalDtype) instead\n",
      "  if pd.api.types.is_categorical_dtype(vector):\n",
      "c:\\Users\\dariy\\anaconda3\\Lib\\site-packages\\seaborn\\_oldcore.py:1498: FutureWarning: is_categorical_dtype is deprecated and will be removed in a future version. Use isinstance(dtype, CategoricalDtype) instead\n",
      "  if pd.api.types.is_categorical_dtype(vector):\n",
      "c:\\Users\\dariy\\anaconda3\\Lib\\site-packages\\seaborn\\_oldcore.py:1498: FutureWarning: is_categorical_dtype is deprecated and will be removed in a future version. Use isinstance(dtype, CategoricalDtype) instead\n",
      "  if pd.api.types.is_categorical_dtype(vector):\n",
      "c:\\Users\\dariy\\anaconda3\\Lib\\site-packages\\seaborn\\_oldcore.py:1498: FutureWarning: is_categorical_dtype is deprecated and will be removed in a future version. Use isinstance(dtype, CategoricalDtype) instead\n",
      "  if pd.api.types.is_categorical_dtype(vector):\n",
      "c:\\Users\\dariy\\anaconda3\\Lib\\site-packages\\seaborn\\_oldcore.py:1498: FutureWarning: is_categorical_dtype is deprecated and will be removed in a future version. Use isinstance(dtype, CategoricalDtype) instead\n",
      "  if pd.api.types.is_categorical_dtype(vector):\n",
      "c:\\Users\\dariy\\anaconda3\\Lib\\site-packages\\seaborn\\_oldcore.py:1498: FutureWarning: is_categorical_dtype is deprecated and will be removed in a future version. Use isinstance(dtype, CategoricalDtype) instead\n",
      "  if pd.api.types.is_categorical_dtype(vector):\n",
      "c:\\Users\\dariy\\anaconda3\\Lib\\site-packages\\seaborn\\_oldcore.py:1498: FutureWarning: is_categorical_dtype is deprecated and will be removed in a future version. Use isinstance(dtype, CategoricalDtype) instead\n",
      "  if pd.api.types.is_categorical_dtype(vector):\n",
      "c:\\Users\\dariy\\anaconda3\\Lib\\site-packages\\seaborn\\_oldcore.py:1498: FutureWarning: is_categorical_dtype is deprecated and will be removed in a future version. Use isinstance(dtype, CategoricalDtype) instead\n",
      "  if pd.api.types.is_categorical_dtype(vector):\n",
      "c:\\Users\\dariy\\anaconda3\\Lib\\site-packages\\seaborn\\_oldcore.py:1498: FutureWarning: is_categorical_dtype is deprecated and will be removed in a future version. Use isinstance(dtype, CategoricalDtype) instead\n",
      "  if pd.api.types.is_categorical_dtype(vector):\n",
      "c:\\Users\\dariy\\anaconda3\\Lib\\site-packages\\seaborn\\_oldcore.py:1498: FutureWarning: is_categorical_dtype is deprecated and will be removed in a future version. Use isinstance(dtype, CategoricalDtype) instead\n",
      "  if pd.api.types.is_categorical_dtype(vector):\n",
      "c:\\Users\\dariy\\anaconda3\\Lib\\site-packages\\seaborn\\_oldcore.py:1498: FutureWarning: is_categorical_dtype is deprecated and will be removed in a future version. Use isinstance(dtype, CategoricalDtype) instead\n",
      "  if pd.api.types.is_categorical_dtype(vector):\n",
      "c:\\Users\\dariy\\anaconda3\\Lib\\site-packages\\seaborn\\_oldcore.py:1498: FutureWarning: is_categorical_dtype is deprecated and will be removed in a future version. Use isinstance(dtype, CategoricalDtype) instead\n",
      "  if pd.api.types.is_categorical_dtype(vector):\n",
      "c:\\Users\\dariy\\anaconda3\\Lib\\site-packages\\seaborn\\_oldcore.py:1498: FutureWarning: is_categorical_dtype is deprecated and will be removed in a future version. Use isinstance(dtype, CategoricalDtype) instead\n",
      "  if pd.api.types.is_categorical_dtype(vector):\n",
      "c:\\Users\\dariy\\anaconda3\\Lib\\site-packages\\seaborn\\axisgrid.py:118: UserWarning: The figure layout has changed to tight\n",
      "  self._figure.tight_layout(*args, **kwargs)\n"
     ]
    },
    {
     "data": {
      "image/png": "[encoded data removed]",
      "text/plain": [
       "<Figure size 1000x1000 with 20 Axes>"
      ]
     },
     "metadata": {},
     "output_type": "display_data"
    }
   ],
   "source": [
    "sns.pairplot(vsstore[['Sales', 'Quantity', 'Discount', 'Profit']])\n",
    "plt.suptitle('Pair Plot of Sales, Quantity, Discount, and Profit', y=1.02)\n",
    "plt.show()\n"
   ]
  },
  {
   "cell_type": "code",
   "execution_count": 37,
   "metadata": {},
   "outputs": [
    {
     "name": "stderr",
     "output_type": "stream",
     "text": [
      "c:\\Users\\dariy\\anaconda3\\Lib\\site-packages\\seaborn\\_oldcore.py:1498: FutureWarning: is_categorical_dtype is deprecated and will be removed in a future version. Use isinstance(dtype, CategoricalDtype) instead\n",
      "  if pd.api.types.is_categorical_dtype(vector):\n",
      "c:\\Users\\dariy\\anaconda3\\Lib\\site-packages\\seaborn\\_oldcore.py:1498: FutureWarning: is_categorical_dtype is deprecated and will be removed in a future version. Use isinstance(dtype, CategoricalDtype) instead\n",
      "  if pd.api.types.is_categorical_dtype(vector):\n",
      "c:\\Users\\dariy\\anaconda3\\Lib\\site-packages\\seaborn\\_oldcore.py:1498: FutureWarning: is_categorical_dtype is deprecated and will be removed in a future version. Use isinstance(dtype, CategoricalDtype) instead\n",
      "  if pd.api.types.is_categorical_dtype(vector):\n",
      "c:\\Users\\dariy\\anaconda3\\Lib\\site-packages\\seaborn\\_oldcore.py:1498: FutureWarning: is_categorical_dtype is deprecated and will be removed in a future version. Use isinstance(dtype, CategoricalDtype) instead\n",
      "  if pd.api.types.is_categorical_dtype(vector):\n"
     ]
    },
    {
     "data": {
      "image/png": "[encoded data removed]",
      "text/plain": [
       "<Figure size 1200x600 with 1 Axes>"
      ]
     },
     "metadata": {},
     "output_type": "display_data"
    }
   ],
   "source": [
    "plt.figure(figsize=(12, 6))\n",
    "sns.barplot(x='Category', y='Sales', data=vsstore, hue='Segment')\n",
    "plt.title('Sales by Category and Segment')\n",
    "plt.show()\n"
   ]
  },
  {
   "cell_type": "code",
   "execution_count": 36,
   "metadata": {},
   "outputs": [
    {
     "name": "stdout",
     "output_type": "stream",
     "text": [
      "Segment\n",
      "Consumer       5191\n",
      "Corporate      3020\n",
      "Home Office    1783\n",
      "Name: count, dtype: int64\n"
     ]
    },
    {
     "name": "stderr",
     "output_type": "stream",
     "text": [
      "c:\\Users\\dariy\\anaconda3\\Lib\\site-packages\\seaborn\\_oldcore.py:1498: FutureWarning: is_categorical_dtype is deprecated and will be removed in a future version. Use isinstance(dtype, CategoricalDtype) instead\n",
      "  if pd.api.types.is_categorical_dtype(vector):\n",
      "c:\\Users\\dariy\\anaconda3\\Lib\\site-packages\\seaborn\\_oldcore.py:1498: FutureWarning: is_categorical_dtype is deprecated and will be removed in a future version. Use isinstance(dtype, CategoricalDtype) instead\n",
      "  if pd.api.types.is_categorical_dtype(vector):\n",
      "c:\\Users\\dariy\\anaconda3\\Lib\\site-packages\\seaborn\\_oldcore.py:1498: FutureWarning: is_categorical_dtype is deprecated and will be removed in a future version. Use isinstance(dtype, CategoricalDtype) instead\n",
      "  if pd.api.types.is_categorical_dtype(vector):\n",
      "c:\\Users\\dariy\\anaconda3\\Lib\\site-packages\\seaborn\\_oldcore.py:1498: FutureWarning: is_categorical_dtype is deprecated and will be removed in a future version. Use isinstance(dtype, CategoricalDtype) instead\n",
      "  if pd.api.types.is_categorical_dtype(vector):\n"
     ]
    },
    {
     "data": {
      "image/png": "[encoded data removed]",
      "text/plain": [
       "<Figure size 1200x600 with 1 Axes>"
      ]
     },
     "metadata": {},
     "output_type": "display_data"
    }
   ],
   "source": [
    "# Check unique values in the 'Segment' column\n",
    "print(vsstore['Segment'].value_counts())\n",
    "\n",
    "# Create the bar plot with average sales by category and segment\n",
    "plt.figure(figsize=(12, 6))\n",
    "sns.barplot(x='Category', y='Sales', data=vsstore.groupby(['Category', 'Segment'])['Sales'].mean().reset_index(), hue='Segment')\n",
    "plt.title('Average Sales by Category and Segment')\n",
    "plt.show()\n"
   ]
  },
  {
   "cell_type": "code",
   "execution_count": 42,
   "metadata": {},
   "outputs": [
    {
     "name": "stdout",
     "output_type": "stream",
     "text": [
      "Collecting xlrd\n",
      "  Downloading xlrd-2.0.1-py2.py3-none-any.whl (96 kB)\n",
      "     ---------------------------------------- 0.0/96.5 kB ? eta -:--:--\n",
      "     ---- ----------------------------------- 10.2/96.5 kB ? eta -:--:--\n",
      "     ---- ----------------------------------- 10.2/96.5 kB ? eta -:--:--\n",
      "     ------------------------ ------------- 61.4/96.5 kB 550.5 kB/s eta 0:00:01\n",
      "     -------------------------------------- 96.5/96.5 kB 690.3 kB/s eta 0:00:00\n",
      "Installing collected packages: xlrd\n",
      "Successfully installed xlrd-2.0.1\n"
     ]
    }
   ],
   "source": [
    "!pip install xlrd"
   ]
  },
  {
   "cell_type": "code",
   "execution_count": 677,
   "metadata": {},
   "outputs": [],
   "source": [
    "import sqlite3\n"
   ]
  },
  {
   "cell_type": "markdown",
   "metadata": {},
   "source": [
    "# Provides the correct path to your SQLite database file & connects to SQlite"
   ]
  },
  {
   "cell_type": "code",
   "execution_count": 681,
   "metadata": {},
   "outputs": [],
   "source": [
    "\n",
    "db_conn = sqlite3.connect(\"C:\\\\Users\\\\dariy\\\\OneDrive\\\\Работен плот\\\\Code Academy\\\\SQL\\\\NewECommerce.db\")"
   ]
  },
  {
   "cell_type": "code",
   "execution_count": 682,
   "metadata": {},
   "outputs": [],
   "source": [
    "c= db_conn.cursor()"
   ]
  },
  {
   "cell_type": "code",
   "execution_count": 683,
   "metadata": {},
   "outputs": [],
   "source": [
    "from sqlite3 import Error"
   ]
  },
  {
   "cell_type": "markdown",
   "metadata": {},
   "source": [
    "#  Creates the data base design "
   ]
  },
  {
   "cell_type": "code",
   "execution_count": 684,
   "metadata": {},
   "outputs": [],
   "source": [
    "#Products\n",
    "c.execute('''\n",
    "CREATE TABLE IF NOT EXISTS Products (\n",
    "    \"Category\" VARCHAR(30),\n",
    "    \"Subcategory\" VARCHAR(30),\n",
    "    \"ProductName\" VARCHAR(30),\n",
    "    \"ProductID\" VARCHAR(30),\n",
    "    PRIMARY KEY (\"ProductID\")\n",
    ");\n",
    "''')\n",
    "#Location\n",
    "c.execute('''\n",
    "CREATE TABLE IF NOT EXISTS Location (\n",
    "    \"LocationID\" VARCHAR(15),\n",
    "    \"Country\" VARCHAR(30),\n",
    "    \"City\" VARCHAR(50),\n",
    "    \"State\" VARCHAR(50),\n",
    "    \"PostalCode\" VARCHAR(15),\n",
    "    \"Region\" VARCHAR(30),\n",
    "    PRIMARY KEY (\"LocationID\") \n",
    ");\n",
    "''')\n",
    "\n",
    "#Orders\n",
    "c.execute('''\n",
    "CREATE TABLE IF NOT EXISTS Orders (\n",
    "    \"OrderID\" VARCHAR(15),\n",
    "    \"OrderDate\" DATE,\n",
    "    \"ShipDate\" VARCHAR(50),\n",
    "    \"ShipMode\" VARCHAR(15),\n",
    "    \"Product\" VARCHAR(15),\n",
    "    \"LocationID\" VARCHAR(15), \n",
    "    PRIMARY KEY (\"OrderID\"),\n",
    "    FOREIGN KEY (Product) REFERENCES \"Products\"(ProductID),\n",
    "    FOREIGN KEY (LocationID) REFERENCES \"Location\"(LocationID)\n",
    ");\n",
    "''')\n",
    "#Numbers\n",
    "c.execute('''\n",
    "CREATE TABLE IF NOT EXISTS Numbers (\n",
    "    \"Sales\" INT,\n",
    "    \"Quantity\" SMALLINT,\n",
    "    \"Discount\" TINYINT,\n",
    "    \"Profit\" INT,\n",
    "    \"OrderID\" VARCHAR(15),\n",
    "    \"ProductID\" VARCHAR(15),\n",
    "    FOREIGN KEY (OrderID) REFERENCES \"Orders\"(OrderID),\n",
    "    FOREIGN KEY (ProductID) REFERENCES \"Products\"(ProductID),\n",
    "    PRIMARY KEY (\"OrderID\", \"ProductID\") \n",
    " );\n",
    " ''')\n",
    "#Customers\n",
    "c.execute('''   \n",
    "CREATE TABLE IF NOT EXISTS Customers (\n",
    "    \"CustomerID\" VARCHAR(15),\n",
    "    \"CustomerName\" VARCHAR(30),\n",
    "    \"Segment\" VARCHAR(15),\n",
    "    \"OrderID\" VARCHAR(15),\n",
    "    PRIMARY KEY (\"CustomerID\"),\n",
    "    FOREIGN KEY (OrderID) REFERENCES \"Orders\"(\"OrderID\")\n",
    ");\n",
    "''')\n",
    "\n",
    "db_conn.commit()\n",
    "db_conn.close()"
   ]
  },
  {
   "cell_type": "code",
   "execution_count": null,
   "metadata": {},
   "outputs": [],
   "source": [
    "\n",
    "list_of_tables = ['Products', 'Customers', 'Location', 'Orders', 'Numbers']\n",
    "dataframes = [product_table, customers_table, location_column, unique_orders_table, unique_numbers_table2]"
   ]
  },
  {
   "cell_type": "code",
   "execution_count": 595,
   "metadata": {},
   "outputs": [
    {
     "data": {
      "text/html": [
       "<div>\n",
       "<style scoped>\n",
       "    .dataframe tbody tr th:only-of-type {\n",
       "        vertical-align: middle;\n",
       "    }\n",
       "\n",
       "    .dataframe tbody tr th {\n",
       "        vertical-align: top;\n",
       "    }\n",
       "\n",
       "    .dataframe thead th {\n",
       "        text-align: right;\n",
       "    }\n",
       "</style>\n",
       "<table border=\"1\" class=\"dataframe\">\n",
       "  <thead>\n",
       "    <tr style=\"text-align: right;\">\n",
       "      <th></th>\n",
       "      <th>ProductID</th>\n",
       "      <th>ProductName</th>\n",
       "      <th>Category</th>\n",
       "      <th>Subcategory</th>\n",
       "    </tr>\n",
       "  </thead>\n",
       "  <tbody>\n",
       "    <tr>\n",
       "      <th>0</th>\n",
       "      <td>FUR-BO-10001798_1</td>\n",
       "      <td>Bush Somerset Collection Bookcase</td>\n",
       "      <td>Furniture</td>\n",
       "      <td>Bookcases</td>\n",
       "    </tr>\n",
       "    <tr>\n",
       "      <th>1</th>\n",
       "      <td>FUR-CH-10000454_1</td>\n",
       "      <td>Hon Deluxe Fabric Upholstered Stacking Chairs,...</td>\n",
       "      <td>Furniture</td>\n",
       "      <td>Chairs</td>\n",
       "    </tr>\n",
       "    <tr>\n",
       "      <th>2</th>\n",
       "      <td>OFF-LA-10000240_1</td>\n",
       "      <td>Self-Adhesive Address Labels for Typewriters b...</td>\n",
       "      <td>Office Supplies</td>\n",
       "      <td>Labels</td>\n",
       "    </tr>\n",
       "    <tr>\n",
       "      <th>3</th>\n",
       "      <td>FUR-TA-10000577_1</td>\n",
       "      <td>Bretford CR4500 Series Slim Rectangular Table</td>\n",
       "      <td>Furniture</td>\n",
       "      <td>Tables</td>\n",
       "    </tr>\n",
       "    <tr>\n",
       "      <th>4</th>\n",
       "      <td>OFF-ST-10000760_1</td>\n",
       "      <td>Eldon Fold 'N Roll Cart System</td>\n",
       "      <td>Office Supplies</td>\n",
       "      <td>Storage</td>\n",
       "    </tr>\n",
       "    <tr>\n",
       "      <th>...</th>\n",
       "      <td>...</td>\n",
       "      <td>...</td>\n",
       "      <td>...</td>\n",
       "      <td>...</td>\n",
       "    </tr>\n",
       "    <tr>\n",
       "      <th>1889</th>\n",
       "      <td>TEC-PH-10002817_1</td>\n",
       "      <td>RCA ViSYS 25425RE1 Corded phone</td>\n",
       "      <td>Technology</td>\n",
       "      <td>Phones</td>\n",
       "    </tr>\n",
       "    <tr>\n",
       "      <th>1890</th>\n",
       "      <td>TEC-MA-10003589_1</td>\n",
       "      <td>Cisco 8961 IP Phone Charcoal</td>\n",
       "      <td>Technology</td>\n",
       "      <td>Machines</td>\n",
       "    </tr>\n",
       "    <tr>\n",
       "      <th>1891</th>\n",
       "      <td>OFF-AP-10003099_1</td>\n",
       "      <td>Eureka Hand Vacuum, Bagless</td>\n",
       "      <td>Office Supplies</td>\n",
       "      <td>Appliances</td>\n",
       "    </tr>\n",
       "    <tr>\n",
       "      <th>1892</th>\n",
       "      <td>TEC-PH-10002645_1</td>\n",
       "      <td>LG G2</td>\n",
       "      <td>Technology</td>\n",
       "      <td>Phones</td>\n",
       "    </tr>\n",
       "    <tr>\n",
       "      <th>1893</th>\n",
       "      <td>OFF-ST-10001627_1</td>\n",
       "      <td>Eldon Jumbo ProFile Portable File Boxes Graphi...</td>\n",
       "      <td>Office Supplies</td>\n",
       "      <td>Storage</td>\n",
       "    </tr>\n",
       "  </tbody>\n",
       "</table>\n",
       "<p>1894 rows × 4 columns</p>\n",
       "</div>"
      ],
      "text/plain": [
       "              ProductID                                        ProductName  \\\n",
       "0     FUR-BO-10001798_1                  Bush Somerset Collection Bookcase   \n",
       "1     FUR-CH-10000454_1  Hon Deluxe Fabric Upholstered Stacking Chairs,...   \n",
       "2     OFF-LA-10000240_1  Self-Adhesive Address Labels for Typewriters b...   \n",
       "3     FUR-TA-10000577_1      Bretford CR4500 Series Slim Rectangular Table   \n",
       "4     OFF-ST-10000760_1                     Eldon Fold 'N Roll Cart System   \n",
       "...                 ...                                                ...   \n",
       "1889  TEC-PH-10002817_1                    RCA ViSYS 25425RE1 Corded phone   \n",
       "1890  TEC-MA-10003589_1                       Cisco 8961 IP Phone Charcoal   \n",
       "1891  OFF-AP-10003099_1                        Eureka Hand Vacuum, Bagless   \n",
       "1892  TEC-PH-10002645_1                                              LG G2   \n",
       "1893  OFF-ST-10001627_1  Eldon Jumbo ProFile Portable File Boxes Graphi...   \n",
       "\n",
       "             Category Subcategory  \n",
       "0           Furniture   Bookcases  \n",
       "1           Furniture      Chairs  \n",
       "2     Office Supplies      Labels  \n",
       "3           Furniture      Tables  \n",
       "4     Office Supplies     Storage  \n",
       "...               ...         ...  \n",
       "1889       Technology      Phones  \n",
       "1890       Technology    Machines  \n",
       "1891  Office Supplies  Appliances  \n",
       "1892       Technology      Phones  \n",
       "1893  Office Supplies     Storage  \n",
       "\n",
       "[1894 rows x 4 columns]"
      ]
     },
     "execution_count": 595,
     "metadata": {},
     "output_type": "execute_result"
    }
   ],
   "source": [
    "product_table= product_table.rename(columns={'Product Name': 'ProductName', 'Sub-Category': 'Subcategory','Product ID' : 'ProductID'})\n",
    "product_table.drop_duplicates()\n",
    "product_table.reset_index(drop=True, inplace=True)\n",
    "product_table"
   ]
  },
  {
   "cell_type": "code",
   "execution_count": 597,
   "metadata": {},
   "outputs": [
    {
     "data": {
      "text/html": [
       "<div>\n",
       "<style scoped>\n",
       "    .dataframe tbody tr th:only-of-type {\n",
       "        vertical-align: middle;\n",
       "    }\n",
       "\n",
       "    .dataframe tbody tr th {\n",
       "        vertical-align: top;\n",
       "    }\n",
       "\n",
       "    .dataframe thead th {\n",
       "        text-align: right;\n",
       "    }\n",
       "</style>\n",
       "<table border=\"1\" class=\"dataframe\">\n",
       "  <thead>\n",
       "    <tr style=\"text-align: right;\">\n",
       "      <th></th>\n",
       "      <th>CustomerID</th>\n",
       "      <th>CustomerName</th>\n",
       "      <th>Segment</th>\n",
       "      <th>OrderID</th>\n",
       "    </tr>\n",
       "  </thead>\n",
       "  <tbody>\n",
       "    <tr>\n",
       "      <th>0</th>\n",
       "      <td>CG-12520</td>\n",
       "      <td>Claire Gute</td>\n",
       "      <td>Consumer</td>\n",
       "      <td>CA-2016-152156</td>\n",
       "    </tr>\n",
       "    <tr>\n",
       "      <th>1</th>\n",
       "      <td>DV-13045</td>\n",
       "      <td>Darrin Van Huff</td>\n",
       "      <td>Corporate</td>\n",
       "      <td>CA-2016-138688</td>\n",
       "    </tr>\n",
       "    <tr>\n",
       "      <th>2</th>\n",
       "      <td>SO-20335</td>\n",
       "      <td>Sean O'Donnell</td>\n",
       "      <td>Consumer</td>\n",
       "      <td>US-2015-108966</td>\n",
       "    </tr>\n",
       "    <tr>\n",
       "      <th>3</th>\n",
       "      <td>BH-11710</td>\n",
       "      <td>Brosina Hoffman</td>\n",
       "      <td>Consumer</td>\n",
       "      <td>CA-2014-115812</td>\n",
       "    </tr>\n",
       "    <tr>\n",
       "      <th>4</th>\n",
       "      <td>AA-10480</td>\n",
       "      <td>Andrew Allen</td>\n",
       "      <td>Consumer</td>\n",
       "      <td>CA-2017-114412</td>\n",
       "    </tr>\n",
       "    <tr>\n",
       "      <th>...</th>\n",
       "      <td>...</td>\n",
       "      <td>...</td>\n",
       "      <td>...</td>\n",
       "      <td>...</td>\n",
       "    </tr>\n",
       "    <tr>\n",
       "      <th>788</th>\n",
       "      <td>CJ-11875</td>\n",
       "      <td>Carl Jackson</td>\n",
       "      <td>Corporate</td>\n",
       "      <td>CA-2016-163951</td>\n",
       "    </tr>\n",
       "    <tr>\n",
       "      <th>789</th>\n",
       "      <td>RS-19870</td>\n",
       "      <td>Roy Skaria</td>\n",
       "      <td>Home Office</td>\n",
       "      <td>CA-2017-142776</td>\n",
       "    </tr>\n",
       "    <tr>\n",
       "      <th>790</th>\n",
       "      <td>SC-20845</td>\n",
       "      <td>Sung Chung</td>\n",
       "      <td>Consumer</td>\n",
       "      <td>CA-2016-103128</td>\n",
       "    </tr>\n",
       "    <tr>\n",
       "      <th>791</th>\n",
       "      <td>RE-19405</td>\n",
       "      <td>Ricardo Emerson</td>\n",
       "      <td>Consumer</td>\n",
       "      <td>CA-2014-165477</td>\n",
       "    </tr>\n",
       "    <tr>\n",
       "      <th>792</th>\n",
       "      <td>SM-20905</td>\n",
       "      <td>Susan MacKendrick</td>\n",
       "      <td>Consumer</td>\n",
       "      <td>CA-2016-129280</td>\n",
       "    </tr>\n",
       "  </tbody>\n",
       "</table>\n",
       "<p>793 rows × 4 columns</p>\n",
       "</div>"
      ],
      "text/plain": [
       "    CustomerID       CustomerName      Segment         OrderID\n",
       "0     CG-12520        Claire Gute     Consumer  CA-2016-152156\n",
       "1     DV-13045    Darrin Van Huff    Corporate  CA-2016-138688\n",
       "2     SO-20335     Sean O'Donnell     Consumer  US-2015-108966\n",
       "3     BH-11710    Brosina Hoffman     Consumer  CA-2014-115812\n",
       "4     AA-10480       Andrew Allen     Consumer  CA-2017-114412\n",
       "..         ...                ...          ...             ...\n",
       "788   CJ-11875       Carl Jackson    Corporate  CA-2016-163951\n",
       "789   RS-19870         Roy Skaria  Home Office  CA-2017-142776\n",
       "790   SC-20845         Sung Chung     Consumer  CA-2016-103128\n",
       "791   RE-19405    Ricardo Emerson     Consumer  CA-2014-165477\n",
       "792   SM-20905  Susan MacKendrick     Consumer  CA-2016-129280\n",
       "\n",
       "[793 rows x 4 columns]"
      ]
     },
     "execution_count": 597,
     "metadata": {},
     "output_type": "execute_result"
    }
   ],
   "source": [
    "customers_table=customers_table_new.rename(columns={'Customer ID': 'CustomerID', 'Customer Name': 'CustomerName','Order ID' : 'OrderID'})\n",
    "customers_table.drop_duplicates()\n",
    "customers_table.reset_index(drop=True, inplace=True)\n",
    "customers_table"
   ]
  },
  {
   "cell_type": "code",
   "execution_count": 599,
   "metadata": {},
   "outputs": [
    {
     "data": {
      "text/html": [
       "<div>\n",
       "<style scoped>\n",
       "    .dataframe tbody tr th:only-of-type {\n",
       "        vertical-align: middle;\n",
       "    }\n",
       "\n",
       "    .dataframe tbody tr th {\n",
       "        vertical-align: top;\n",
       "    }\n",
       "\n",
       "    .dataframe thead th {\n",
       "        text-align: right;\n",
       "    }\n",
       "</style>\n",
       "<table border=\"1\" class=\"dataframe\">\n",
       "  <thead>\n",
       "    <tr style=\"text-align: right;\">\n",
       "      <th></th>\n",
       "      <th>Country</th>\n",
       "      <th>City</th>\n",
       "      <th>Region</th>\n",
       "      <th>State</th>\n",
       "      <th>PostalCode</th>\n",
       "      <th>LocationID</th>\n",
       "    </tr>\n",
       "  </thead>\n",
       "  <tbody>\n",
       "    <tr>\n",
       "      <th>0</th>\n",
       "      <td>United States</td>\n",
       "      <td>Henderson</td>\n",
       "      <td>South</td>\n",
       "      <td>Kentucky</td>\n",
       "      <td>42420</td>\n",
       "      <td>LL000001</td>\n",
       "    </tr>\n",
       "    <tr>\n",
       "      <th>1</th>\n",
       "      <td>United States</td>\n",
       "      <td>Los Angeles</td>\n",
       "      <td>West</td>\n",
       "      <td>California</td>\n",
       "      <td>90036</td>\n",
       "      <td>LL000002</td>\n",
       "    </tr>\n",
       "    <tr>\n",
       "      <th>2</th>\n",
       "      <td>United States</td>\n",
       "      <td>Fort Lauderdale</td>\n",
       "      <td>South</td>\n",
       "      <td>Florida</td>\n",
       "      <td>33311</td>\n",
       "      <td>LL000003</td>\n",
       "    </tr>\n",
       "    <tr>\n",
       "      <th>3</th>\n",
       "      <td>United States</td>\n",
       "      <td>Los Angeles</td>\n",
       "      <td>West</td>\n",
       "      <td>California</td>\n",
       "      <td>90032</td>\n",
       "      <td>LL000004</td>\n",
       "    </tr>\n",
       "    <tr>\n",
       "      <th>4</th>\n",
       "      <td>United States</td>\n",
       "      <td>Concord</td>\n",
       "      <td>South</td>\n",
       "      <td>North Carolina</td>\n",
       "      <td>28027</td>\n",
       "      <td>LL000005</td>\n",
       "    </tr>\n",
       "    <tr>\n",
       "      <th>...</th>\n",
       "      <td>...</td>\n",
       "      <td>...</td>\n",
       "      <td>...</td>\n",
       "      <td>...</td>\n",
       "      <td>...</td>\n",
       "      <td>...</td>\n",
       "    </tr>\n",
       "    <tr>\n",
       "      <th>627</th>\n",
       "      <td>United States</td>\n",
       "      <td>Springdale</td>\n",
       "      <td>South</td>\n",
       "      <td>Arkansas</td>\n",
       "      <td>72762</td>\n",
       "      <td>LL000628</td>\n",
       "    </tr>\n",
       "    <tr>\n",
       "      <th>628</th>\n",
       "      <td>United States</td>\n",
       "      <td>Lodi</td>\n",
       "      <td>West</td>\n",
       "      <td>California</td>\n",
       "      <td>95240</td>\n",
       "      <td>LL000629</td>\n",
       "    </tr>\n",
       "    <tr>\n",
       "      <th>629</th>\n",
       "      <td>United States</td>\n",
       "      <td>La Porte</td>\n",
       "      <td>Central</td>\n",
       "      <td>Texas</td>\n",
       "      <td>77571</td>\n",
       "      <td>LL000630</td>\n",
       "    </tr>\n",
       "    <tr>\n",
       "      <th>630</th>\n",
       "      <td>United States</td>\n",
       "      <td>Mason</td>\n",
       "      <td>East</td>\n",
       "      <td>Ohio</td>\n",
       "      <td>45040</td>\n",
       "      <td>LL000631</td>\n",
       "    </tr>\n",
       "    <tr>\n",
       "      <th>631</th>\n",
       "      <td>United States</td>\n",
       "      <td>Woodstock</td>\n",
       "      <td>South</td>\n",
       "      <td>Georgia</td>\n",
       "      <td>30188</td>\n",
       "      <td>LL000632</td>\n",
       "    </tr>\n",
       "  </tbody>\n",
       "</table>\n",
       "<p>632 rows × 6 columns</p>\n",
       "</div>"
      ],
      "text/plain": [
       "           Country             City   Region           State  PostalCode  \\\n",
       "0    United States        Henderson    South        Kentucky       42420   \n",
       "1    United States      Los Angeles     West      California       90036   \n",
       "2    United States  Fort Lauderdale    South         Florida       33311   \n",
       "3    United States      Los Angeles     West      California       90032   \n",
       "4    United States          Concord    South  North Carolina       28027   \n",
       "..             ...              ...      ...             ...         ...   \n",
       "627  United States       Springdale    South        Arkansas       72762   \n",
       "628  United States             Lodi     West      California       95240   \n",
       "629  United States         La Porte  Central           Texas       77571   \n",
       "630  United States            Mason     East            Ohio       45040   \n",
       "631  United States        Woodstock    South         Georgia       30188   \n",
       "\n",
       "    LocationID  \n",
       "0     LL000001  \n",
       "1     LL000002  \n",
       "2     LL000003  \n",
       "3     LL000004  \n",
       "4     LL000005  \n",
       "..         ...  \n",
       "627   LL000628  \n",
       "628   LL000629  \n",
       "629   LL000630  \n",
       "630   LL000631  \n",
       "631   LL000632  \n",
       "\n",
       "[632 rows x 6 columns]"
      ]
     },
     "execution_count": 599,
     "metadata": {},
     "output_type": "execute_result"
    }
   ],
   "source": [
    "location_column= location_column.rename(columns={'Postal Code': 'PostalCode'})\n",
    "location_column.drop_duplicates()\n",
    "location_column.reset_index(drop=True, inplace=True)\n",
    "location_column\n"
   ]
  },
  {
   "cell_type": "code",
   "execution_count": 608,
   "metadata": {},
   "outputs": [
    {
     "data": {
      "text/plain": [
       "False"
      ]
     },
     "execution_count": 608,
     "metadata": {},
     "output_type": "execute_result"
    }
   ],
   "source": [
    "location_column.duplicated([\"City\", 'PostalCode']).any() #check if its an unique comb0"
   ]
  },
  {
   "cell_type": "code",
   "execution_count": 609,
   "metadata": {},
   "outputs": [],
   "source": [
    "location_column=location_column.rename(columns={'PostalCode': 'Postal Code'}) #to have the same names as in the main table"
   ]
  },
  {
   "cell_type": "code",
   "execution_count": 616,
   "metadata": {},
   "outputs": [],
   "source": [
    "unique_orders_table=unique_orders_table.rename(columns={'OrderID': 'Order ID'}) #to have the same names as in the main table"
   ]
  },
  {
   "cell_type": "markdown",
   "metadata": {},
   "source": [
    "# Merges the DataFrames based on 'City' and 'PostalCode'"
   ]
  },
  {
   "cell_type": "code",
   "execution_count": 612,
   "metadata": {},
   "outputs": [
    {
     "data": {
      "text/html": [
       "<div>\n",
       "<style scoped>\n",
       "    .dataframe tbody tr th:only-of-type {\n",
       "        vertical-align: middle;\n",
       "    }\n",
       "\n",
       "    .dataframe tbody tr th {\n",
       "        vertical-align: top;\n",
       "    }\n",
       "\n",
       "    .dataframe thead th {\n",
       "        text-align: right;\n",
       "    }\n",
       "</style>\n",
       "<table border=\"1\" class=\"dataframe\">\n",
       "  <thead>\n",
       "    <tr style=\"text-align: right;\">\n",
       "      <th></th>\n",
       "      <th>Row ID</th>\n",
       "      <th>Order ID</th>\n",
       "      <th>Order Date</th>\n",
       "      <th>Ship Date</th>\n",
       "      <th>Ship Mode</th>\n",
       "      <th>Customer ID</th>\n",
       "      <th>Customer Name</th>\n",
       "      <th>Segment</th>\n",
       "      <th>Country_x</th>\n",
       "      <th>City</th>\n",
       "      <th>...</th>\n",
       "      <th>Sub-Category</th>\n",
       "      <th>Product Name</th>\n",
       "      <th>Sales</th>\n",
       "      <th>Quantity</th>\n",
       "      <th>Discount</th>\n",
       "      <th>Profit</th>\n",
       "      <th>Country_y</th>\n",
       "      <th>Region_y</th>\n",
       "      <th>State_y</th>\n",
       "      <th>LocationID</th>\n",
       "    </tr>\n",
       "  </thead>\n",
       "  <tbody>\n",
       "    <tr>\n",
       "      <th>0</th>\n",
       "      <td>1</td>\n",
       "      <td>CA-2016-152156</td>\n",
       "      <td>11/8/2016</td>\n",
       "      <td>11/11/2016</td>\n",
       "      <td>Second Class</td>\n",
       "      <td>CG-12520</td>\n",
       "      <td>Claire Gute</td>\n",
       "      <td>Consumer</td>\n",
       "      <td>United States</td>\n",
       "      <td>Henderson</td>\n",
       "      <td>...</td>\n",
       "      <td>Bookcases</td>\n",
       "      <td>Bush Somerset Collection Bookcase</td>\n",
       "      <td>261.9600</td>\n",
       "      <td>2</td>\n",
       "      <td>0.00</td>\n",
       "      <td>41.9136</td>\n",
       "      <td>United States</td>\n",
       "      <td>South</td>\n",
       "      <td>Kentucky</td>\n",
       "      <td>LL000001</td>\n",
       "    </tr>\n",
       "    <tr>\n",
       "      <th>1</th>\n",
       "      <td>2</td>\n",
       "      <td>CA-2016-152156</td>\n",
       "      <td>11/8/2016</td>\n",
       "      <td>11/11/2016</td>\n",
       "      <td>Second Class</td>\n",
       "      <td>CG-12520</td>\n",
       "      <td>Claire Gute</td>\n",
       "      <td>Consumer</td>\n",
       "      <td>United States</td>\n",
       "      <td>Henderson</td>\n",
       "      <td>...</td>\n",
       "      <td>Chairs</td>\n",
       "      <td>Hon Deluxe Fabric Upholstered Stacking Chairs,...</td>\n",
       "      <td>731.9400</td>\n",
       "      <td>3</td>\n",
       "      <td>0.00</td>\n",
       "      <td>219.5820</td>\n",
       "      <td>United States</td>\n",
       "      <td>South</td>\n",
       "      <td>Kentucky</td>\n",
       "      <td>LL000001</td>\n",
       "    </tr>\n",
       "    <tr>\n",
       "      <th>2</th>\n",
       "      <td>3</td>\n",
       "      <td>CA-2016-138688</td>\n",
       "      <td>6/12/2016</td>\n",
       "      <td>6/16/2016</td>\n",
       "      <td>Second Class</td>\n",
       "      <td>DV-13045</td>\n",
       "      <td>Darrin Van Huff</td>\n",
       "      <td>Corporate</td>\n",
       "      <td>United States</td>\n",
       "      <td>Los Angeles</td>\n",
       "      <td>...</td>\n",
       "      <td>Labels</td>\n",
       "      <td>Self-Adhesive Address Labels for Typewriters b...</td>\n",
       "      <td>14.6200</td>\n",
       "      <td>2</td>\n",
       "      <td>0.00</td>\n",
       "      <td>6.8714</td>\n",
       "      <td>United States</td>\n",
       "      <td>West</td>\n",
       "      <td>California</td>\n",
       "      <td>LL000002</td>\n",
       "    </tr>\n",
       "    <tr>\n",
       "      <th>3</th>\n",
       "      <td>4</td>\n",
       "      <td>US-2015-108966</td>\n",
       "      <td>10/11/2015</td>\n",
       "      <td>10/18/2015</td>\n",
       "      <td>Standard Class</td>\n",
       "      <td>SO-20335</td>\n",
       "      <td>Sean O'Donnell</td>\n",
       "      <td>Consumer</td>\n",
       "      <td>United States</td>\n",
       "      <td>Fort Lauderdale</td>\n",
       "      <td>...</td>\n",
       "      <td>Tables</td>\n",
       "      <td>Bretford CR4500 Series Slim Rectangular Table</td>\n",
       "      <td>957.5775</td>\n",
       "      <td>5</td>\n",
       "      <td>0.45</td>\n",
       "      <td>-383.0310</td>\n",
       "      <td>United States</td>\n",
       "      <td>South</td>\n",
       "      <td>Florida</td>\n",
       "      <td>LL000003</td>\n",
       "    </tr>\n",
       "    <tr>\n",
       "      <th>4</th>\n",
       "      <td>5</td>\n",
       "      <td>US-2015-108966</td>\n",
       "      <td>10/11/2015</td>\n",
       "      <td>10/18/2015</td>\n",
       "      <td>Standard Class</td>\n",
       "      <td>SO-20335</td>\n",
       "      <td>Sean O'Donnell</td>\n",
       "      <td>Consumer</td>\n",
       "      <td>United States</td>\n",
       "      <td>Fort Lauderdale</td>\n",
       "      <td>...</td>\n",
       "      <td>Storage</td>\n",
       "      <td>Eldon Fold 'N Roll Cart System</td>\n",
       "      <td>22.3680</td>\n",
       "      <td>2</td>\n",
       "      <td>0.20</td>\n",
       "      <td>2.5164</td>\n",
       "      <td>United States</td>\n",
       "      <td>South</td>\n",
       "      <td>Florida</td>\n",
       "      <td>LL000003</td>\n",
       "    </tr>\n",
       "  </tbody>\n",
       "</table>\n",
       "<p>5 rows × 25 columns</p>\n",
       "</div>"
      ],
      "text/plain": [
       "   Row ID        Order ID  Order Date   Ship Date       Ship Mode Customer ID  \\\n",
       "0       1  CA-2016-152156   11/8/2016  11/11/2016    Second Class    CG-12520   \n",
       "1       2  CA-2016-152156   11/8/2016  11/11/2016    Second Class    CG-12520   \n",
       "2       3  CA-2016-138688   6/12/2016   6/16/2016    Second Class    DV-13045   \n",
       "3       4  US-2015-108966  10/11/2015  10/18/2015  Standard Class    SO-20335   \n",
       "4       5  US-2015-108966  10/11/2015  10/18/2015  Standard Class    SO-20335   \n",
       "\n",
       "     Customer Name    Segment      Country_x             City  ...  \\\n",
       "0      Claire Gute   Consumer  United States        Henderson  ...   \n",
       "1      Claire Gute   Consumer  United States        Henderson  ...   \n",
       "2  Darrin Van Huff  Corporate  United States      Los Angeles  ...   \n",
       "3   Sean O'Donnell   Consumer  United States  Fort Lauderdale  ...   \n",
       "4   Sean O'Donnell   Consumer  United States  Fort Lauderdale  ...   \n",
       "\n",
       "  Sub-Category                                       Product Name     Sales  \\\n",
       "0    Bookcases                  Bush Somerset Collection Bookcase  261.9600   \n",
       "1       Chairs  Hon Deluxe Fabric Upholstered Stacking Chairs,...  731.9400   \n",
       "2       Labels  Self-Adhesive Address Labels for Typewriters b...   14.6200   \n",
       "3       Tables      Bretford CR4500 Series Slim Rectangular Table  957.5775   \n",
       "4      Storage                     Eldon Fold 'N Roll Cart System   22.3680   \n",
       "\n",
       "  Quantity Discount    Profit      Country_y  Region_y     State_y  LocationID  \n",
       "0        2     0.00   41.9136  United States     South    Kentucky    LL000001  \n",
       "1        3     0.00  219.5820  United States     South    Kentucky    LL000001  \n",
       "2        2     0.00    6.8714  United States      West  California    LL000002  \n",
       "3        5     0.45 -383.0310  United States     South     Florida    LL000003  \n",
       "4        2     0.20    2.5164  United States     South     Florida    LL000003  \n",
       "\n",
       "[5 rows x 25 columns]"
      ]
     },
     "execution_count": 612,
     "metadata": {},
     "output_type": "execute_result"
    }
   ],
   "source": [
    "\n",
    "merged_df = pd.merge(vsstore, location_column, how='left', on=['City', 'Postal Code'])\n",
    "merged_df.head()\n"
   ]
  },
  {
   "cell_type": "markdown",
   "metadata": {},
   "source": [
    "\n",
    "# Merges 'unique_orders_table' with 'merged_df' based on 'OrderID'"
   ]
  },
  {
   "cell_type": "code",
   "execution_count": 620,
   "metadata": {},
   "outputs": [
    {
     "data": {
      "text/html": [
       "<div>\n",
       "<style scoped>\n",
       "    .dataframe tbody tr th:only-of-type {\n",
       "        vertical-align: middle;\n",
       "    }\n",
       "\n",
       "    .dataframe tbody tr th {\n",
       "        vertical-align: top;\n",
       "    }\n",
       "\n",
       "    .dataframe thead th {\n",
       "        text-align: right;\n",
       "    }\n",
       "</style>\n",
       "<table border=\"1\" class=\"dataframe\">\n",
       "  <thead>\n",
       "    <tr style=\"text-align: right;\">\n",
       "      <th></th>\n",
       "      <th>Order ID</th>\n",
       "      <th>Product</th>\n",
       "      <th>OrderDate</th>\n",
       "      <th>ShipDate</th>\n",
       "      <th>ShipMode</th>\n",
       "      <th>LocationID</th>\n",
       "    </tr>\n",
       "  </thead>\n",
       "  <tbody>\n",
       "    <tr>\n",
       "      <th>0</th>\n",
       "      <td>CA-2016-152156</td>\n",
       "      <td>FUR-BO-10001798</td>\n",
       "      <td>11/8/2016</td>\n",
       "      <td>11/11/2016</td>\n",
       "      <td>Second Class</td>\n",
       "      <td>LL000001</td>\n",
       "    </tr>\n",
       "    <tr>\n",
       "      <th>1</th>\n",
       "      <td>CA-2016-152156</td>\n",
       "      <td>FUR-BO-10001798</td>\n",
       "      <td>11/8/2016</td>\n",
       "      <td>11/11/2016</td>\n",
       "      <td>Second Class</td>\n",
       "      <td>LL000001</td>\n",
       "    </tr>\n",
       "    <tr>\n",
       "      <th>2</th>\n",
       "      <td>CA-2016-138688</td>\n",
       "      <td>OFF-LA-10000240</td>\n",
       "      <td>6/12/2016</td>\n",
       "      <td>6/16/2016</td>\n",
       "      <td>Second Class</td>\n",
       "      <td>LL000002</td>\n",
       "    </tr>\n",
       "    <tr>\n",
       "      <th>3</th>\n",
       "      <td>US-2015-108966</td>\n",
       "      <td>FUR-TA-10000577</td>\n",
       "      <td>10/11/2015</td>\n",
       "      <td>10/18/2015</td>\n",
       "      <td>Standard Class</td>\n",
       "      <td>LL000003</td>\n",
       "    </tr>\n",
       "    <tr>\n",
       "      <th>4</th>\n",
       "      <td>US-2015-108966</td>\n",
       "      <td>FUR-TA-10000577</td>\n",
       "      <td>10/11/2015</td>\n",
       "      <td>10/18/2015</td>\n",
       "      <td>Standard Class</td>\n",
       "      <td>LL000003</td>\n",
       "    </tr>\n",
       "    <tr>\n",
       "      <th>...</th>\n",
       "      <td>...</td>\n",
       "      <td>...</td>\n",
       "      <td>...</td>\n",
       "      <td>...</td>\n",
       "      <td>...</td>\n",
       "      <td>...</td>\n",
       "    </tr>\n",
       "    <tr>\n",
       "      <th>7605</th>\n",
       "      <td>CA-2014-110422</td>\n",
       "      <td>FUR-FU-10001889</td>\n",
       "      <td>1/21/2014</td>\n",
       "      <td>1/23/2014</td>\n",
       "      <td>Second Class</td>\n",
       "      <td>LL000124</td>\n",
       "    </tr>\n",
       "    <tr>\n",
       "      <th>7606</th>\n",
       "      <td>CA-2017-121258</td>\n",
       "      <td>FUR-FU-10000747</td>\n",
       "      <td>2/26/2017</td>\n",
       "      <td>3/3/2017</td>\n",
       "      <td>Standard Class</td>\n",
       "      <td>LL000147</td>\n",
       "    </tr>\n",
       "    <tr>\n",
       "      <th>7607</th>\n",
       "      <td>CA-2017-121258</td>\n",
       "      <td>FUR-FU-10000747</td>\n",
       "      <td>2/26/2017</td>\n",
       "      <td>3/3/2017</td>\n",
       "      <td>Standard Class</td>\n",
       "      <td>LL000147</td>\n",
       "    </tr>\n",
       "    <tr>\n",
       "      <th>7608</th>\n",
       "      <td>CA-2017-121258</td>\n",
       "      <td>FUR-FU-10000747</td>\n",
       "      <td>2/26/2017</td>\n",
       "      <td>3/3/2017</td>\n",
       "      <td>Standard Class</td>\n",
       "      <td>LL000147</td>\n",
       "    </tr>\n",
       "    <tr>\n",
       "      <th>7609</th>\n",
       "      <td>CA-2017-119914</td>\n",
       "      <td>OFF-AP-10002684</td>\n",
       "      <td>5/4/2017</td>\n",
       "      <td>5/9/2017</td>\n",
       "      <td>Second Class</td>\n",
       "      <td>LL000280</td>\n",
       "    </tr>\n",
       "  </tbody>\n",
       "</table>\n",
       "<p>7610 rows × 6 columns</p>\n",
       "</div>"
      ],
      "text/plain": [
       "            Order ID          Product   OrderDate    ShipDate        ShipMode  \\\n",
       "0     CA-2016-152156  FUR-BO-10001798   11/8/2016  11/11/2016    Second Class   \n",
       "1     CA-2016-152156  FUR-BO-10001798   11/8/2016  11/11/2016    Second Class   \n",
       "2     CA-2016-138688  OFF-LA-10000240   6/12/2016   6/16/2016    Second Class   \n",
       "3     US-2015-108966  FUR-TA-10000577  10/11/2015  10/18/2015  Standard Class   \n",
       "4     US-2015-108966  FUR-TA-10000577  10/11/2015  10/18/2015  Standard Class   \n",
       "...              ...              ...         ...         ...             ...   \n",
       "7605  CA-2014-110422  FUR-FU-10001889   1/21/2014   1/23/2014    Second Class   \n",
       "7606  CA-2017-121258  FUR-FU-10000747   2/26/2017    3/3/2017  Standard Class   \n",
       "7607  CA-2017-121258  FUR-FU-10000747   2/26/2017    3/3/2017  Standard Class   \n",
       "7608  CA-2017-121258  FUR-FU-10000747   2/26/2017    3/3/2017  Standard Class   \n",
       "7609  CA-2017-119914  OFF-AP-10002684    5/4/2017    5/9/2017    Second Class   \n",
       "\n",
       "     LocationID  \n",
       "0      LL000001  \n",
       "1      LL000001  \n",
       "2      LL000002  \n",
       "3      LL000003  \n",
       "4      LL000003  \n",
       "...         ...  \n",
       "7605   LL000124  \n",
       "7606   LL000147  \n",
       "7607   LL000147  \n",
       "7608   LL000147  \n",
       "7609   LL000280  \n",
       "\n",
       "[7610 rows x 6 columns]"
      ]
     },
     "execution_count": 620,
     "metadata": {},
     "output_type": "execute_result"
    }
   ],
   "source": [
    "\n",
    "orders_table = pd.merge(unique_orders_table, merged_df[['Order ID', 'LocationID']], on='Order ID')\n",
    "orders_table\n"
   ]
  },
  {
   "cell_type": "code",
   "execution_count": 626,
   "metadata": {},
   "outputs": [
    {
     "data": {
      "text/html": [
       "<div>\n",
       "<style scoped>\n",
       "    .dataframe tbody tr th:only-of-type {\n",
       "        vertical-align: middle;\n",
       "    }\n",
       "\n",
       "    .dataframe tbody tr th {\n",
       "        vertical-align: top;\n",
       "    }\n",
       "\n",
       "    .dataframe thead th {\n",
       "        text-align: right;\n",
       "    }\n",
       "</style>\n",
       "<table border=\"1\" class=\"dataframe\">\n",
       "  <thead>\n",
       "    <tr style=\"text-align: right;\">\n",
       "      <th></th>\n",
       "      <th>OrderID</th>\n",
       "      <th>Product</th>\n",
       "      <th>OrderDate</th>\n",
       "      <th>ShipDate</th>\n",
       "      <th>ShipMode</th>\n",
       "      <th>LocationID</th>\n",
       "    </tr>\n",
       "  </thead>\n",
       "  <tbody>\n",
       "    <tr>\n",
       "      <th>0</th>\n",
       "      <td>CA-2016-152156</td>\n",
       "      <td>FUR-BO-10001798</td>\n",
       "      <td>11/8/2016</td>\n",
       "      <td>11/11/2016</td>\n",
       "      <td>Second Class</td>\n",
       "      <td>LL000001</td>\n",
       "    </tr>\n",
       "    <tr>\n",
       "      <th>1</th>\n",
       "      <td>CA-2016-138688</td>\n",
       "      <td>OFF-LA-10000240</td>\n",
       "      <td>6/12/2016</td>\n",
       "      <td>6/16/2016</td>\n",
       "      <td>Second Class</td>\n",
       "      <td>LL000002</td>\n",
       "    </tr>\n",
       "    <tr>\n",
       "      <th>2</th>\n",
       "      <td>US-2015-108966</td>\n",
       "      <td>FUR-TA-10000577</td>\n",
       "      <td>10/11/2015</td>\n",
       "      <td>10/18/2015</td>\n",
       "      <td>Standard Class</td>\n",
       "      <td>LL000003</td>\n",
       "    </tr>\n",
       "    <tr>\n",
       "      <th>3</th>\n",
       "      <td>CA-2014-115812</td>\n",
       "      <td>FUR-FU-10001487</td>\n",
       "      <td>6/9/2014</td>\n",
       "      <td>6/14/2014</td>\n",
       "      <td>Standard Class</td>\n",
       "      <td>LL000004</td>\n",
       "    </tr>\n",
       "    <tr>\n",
       "      <th>4</th>\n",
       "      <td>CA-2017-114412</td>\n",
       "      <td>OFF-PA-10002365</td>\n",
       "      <td>4/15/2017</td>\n",
       "      <td>4/20/2017</td>\n",
       "      <td>Standard Class</td>\n",
       "      <td>LL000005</td>\n",
       "    </tr>\n",
       "    <tr>\n",
       "      <th>...</th>\n",
       "      <td>...</td>\n",
       "      <td>...</td>\n",
       "      <td>...</td>\n",
       "      <td>...</td>\n",
       "      <td>...</td>\n",
       "      <td>...</td>\n",
       "    </tr>\n",
       "    <tr>\n",
       "      <th>3806</th>\n",
       "      <td>CA-2017-163566</td>\n",
       "      <td>OFF-LA-10004484</td>\n",
       "      <td>8/3/2017</td>\n",
       "      <td>8/6/2017</td>\n",
       "      <td>First Class</td>\n",
       "      <td>LL000324</td>\n",
       "    </tr>\n",
       "    <tr>\n",
       "      <th>3807</th>\n",
       "      <td>CA-2015-100251</td>\n",
       "      <td>OFF-LA-10003766</td>\n",
       "      <td>5/17/2015</td>\n",
       "      <td>5/23/2015</td>\n",
       "      <td>Standard Class</td>\n",
       "      <td>LL000256</td>\n",
       "    </tr>\n",
       "    <tr>\n",
       "      <th>3808</th>\n",
       "      <td>CA-2014-110422</td>\n",
       "      <td>FUR-FU-10001889</td>\n",
       "      <td>1/21/2014</td>\n",
       "      <td>1/23/2014</td>\n",
       "      <td>Second Class</td>\n",
       "      <td>LL000124</td>\n",
       "    </tr>\n",
       "    <tr>\n",
       "      <th>3809</th>\n",
       "      <td>CA-2017-121258</td>\n",
       "      <td>FUR-FU-10000747</td>\n",
       "      <td>2/26/2017</td>\n",
       "      <td>3/3/2017</td>\n",
       "      <td>Standard Class</td>\n",
       "      <td>LL000147</td>\n",
       "    </tr>\n",
       "    <tr>\n",
       "      <th>3810</th>\n",
       "      <td>CA-2017-119914</td>\n",
       "      <td>OFF-AP-10002684</td>\n",
       "      <td>5/4/2017</td>\n",
       "      <td>5/9/2017</td>\n",
       "      <td>Second Class</td>\n",
       "      <td>LL000280</td>\n",
       "    </tr>\n",
       "  </tbody>\n",
       "</table>\n",
       "<p>3811 rows × 6 columns</p>\n",
       "</div>"
      ],
      "text/plain": [
       "             OrderID          Product   OrderDate    ShipDate        ShipMode  \\\n",
       "0     CA-2016-152156  FUR-BO-10001798   11/8/2016  11/11/2016    Second Class   \n",
       "1     CA-2016-138688  OFF-LA-10000240   6/12/2016   6/16/2016    Second Class   \n",
       "2     US-2015-108966  FUR-TA-10000577  10/11/2015  10/18/2015  Standard Class   \n",
       "3     CA-2014-115812  FUR-FU-10001487    6/9/2014   6/14/2014  Standard Class   \n",
       "4     CA-2017-114412  OFF-PA-10002365   4/15/2017   4/20/2017  Standard Class   \n",
       "...              ...              ...         ...         ...             ...   \n",
       "3806  CA-2017-163566  OFF-LA-10004484    8/3/2017    8/6/2017     First Class   \n",
       "3807  CA-2015-100251  OFF-LA-10003766   5/17/2015   5/23/2015  Standard Class   \n",
       "3808  CA-2014-110422  FUR-FU-10001889   1/21/2014   1/23/2014    Second Class   \n",
       "3809  CA-2017-121258  FUR-FU-10000747   2/26/2017    3/3/2017  Standard Class   \n",
       "3810  CA-2017-119914  OFF-AP-10002684    5/4/2017    5/9/2017    Second Class   \n",
       "\n",
       "     LocationID  \n",
       "0      LL000001  \n",
       "1      LL000002  \n",
       "2      LL000003  \n",
       "3      LL000004  \n",
       "4      LL000005  \n",
       "...         ...  \n",
       "3806   LL000324  \n",
       "3807   LL000256  \n",
       "3808   LL000124  \n",
       "3809   LL000147  \n",
       "3810   LL000280  \n",
       "\n",
       "[3811 rows x 6 columns]"
      ]
     },
     "execution_count": 626,
     "metadata": {},
     "output_type": "execute_result"
    }
   ],
   "source": [
    "orders_table1=orders_table.rename(columns={'Order ID' : 'OrderID'})\n",
    "orders_table1= orders_table.drop_duplicates(subset=[\"OrderID\", \"Product\"], ignore_index=True)\n",
    "orders_table1.drop_duplicates()\n",
    "orders_table1.reset_index(drop=True, inplace=True)\n",
    "orders_table1"
   ]
  },
  {
   "cell_type": "code",
   "execution_count": 625,
   "metadata": {},
   "outputs": [
    {
     "data": {
      "text/plain": [
       "False"
      ]
     },
     "execution_count": 625,
     "metadata": {},
     "output_type": "execute_result"
    }
   ],
   "source": [
    "orders_table.duplicated(['OrderID', 'Product']).any()#good!"
   ]
  },
  {
   "cell_type": "code",
   "execution_count": 605,
   "metadata": {},
   "outputs": [
    {
     "data": {
      "text/html": [
       "<div>\n",
       "<style scoped>\n",
       "    .dataframe tbody tr th:only-of-type {\n",
       "        vertical-align: middle;\n",
       "    }\n",
       "\n",
       "    .dataframe tbody tr th {\n",
       "        vertical-align: top;\n",
       "    }\n",
       "\n",
       "    .dataframe thead th {\n",
       "        text-align: right;\n",
       "    }\n",
       "</style>\n",
       "<table border=\"1\" class=\"dataframe\">\n",
       "  <thead>\n",
       "    <tr style=\"text-align: right;\">\n",
       "      <th></th>\n",
       "      <th>Sales</th>\n",
       "      <th>Quantity</th>\n",
       "      <th>Discount</th>\n",
       "      <th>Profit</th>\n",
       "      <th>OrderID</th>\n",
       "      <th>ProductID</th>\n",
       "    </tr>\n",
       "  </thead>\n",
       "  <tbody>\n",
       "    <tr>\n",
       "      <th>0</th>\n",
       "      <td>26195.0</td>\n",
       "      <td>2</td>\n",
       "      <td>0.00</td>\n",
       "      <td>4191.0</td>\n",
       "      <td>CA-2016-152156</td>\n",
       "      <td>FUR-BO-10001798</td>\n",
       "    </tr>\n",
       "    <tr>\n",
       "      <th>1</th>\n",
       "      <td>73194.0</td>\n",
       "      <td>3</td>\n",
       "      <td>0.00</td>\n",
       "      <td>21958.0</td>\n",
       "      <td>CA-2016-152156</td>\n",
       "      <td>FUR-CH-10000454</td>\n",
       "    </tr>\n",
       "    <tr>\n",
       "      <th>2</th>\n",
       "      <td>1462.0</td>\n",
       "      <td>2</td>\n",
       "      <td>0.00</td>\n",
       "      <td>687.0</td>\n",
       "      <td>CA-2016-138688</td>\n",
       "      <td>OFF-LA-10000240</td>\n",
       "    </tr>\n",
       "    <tr>\n",
       "      <th>3</th>\n",
       "      <td>95757.0</td>\n",
       "      <td>5</td>\n",
       "      <td>0.45</td>\n",
       "      <td>-38303.0</td>\n",
       "      <td>US-2015-108966</td>\n",
       "      <td>FUR-TA-10000577</td>\n",
       "    </tr>\n",
       "    <tr>\n",
       "      <th>4</th>\n",
       "      <td>2236.0</td>\n",
       "      <td>2</td>\n",
       "      <td>0.20</td>\n",
       "      <td>251.0</td>\n",
       "      <td>US-2015-108966</td>\n",
       "      <td>OFF-ST-10000760</td>\n",
       "    </tr>\n",
       "    <tr>\n",
       "      <th>...</th>\n",
       "      <td>...</td>\n",
       "      <td>...</td>\n",
       "      <td>...</td>\n",
       "      <td>...</td>\n",
       "      <td>...</td>\n",
       "      <td>...</td>\n",
       "    </tr>\n",
       "    <tr>\n",
       "      <th>7677</th>\n",
       "      <td>9798.0</td>\n",
       "      <td>2</td>\n",
       "      <td>0.00</td>\n",
       "      <td>2743.0</td>\n",
       "      <td>US-2016-157728</td>\n",
       "      <td>TEC-PH-10001305</td>\n",
       "    </tr>\n",
       "    <tr>\n",
       "      <th>7678</th>\n",
       "      <td>5560.0</td>\n",
       "      <td>4</td>\n",
       "      <td>0.00</td>\n",
       "      <td>1612.0</td>\n",
       "      <td>CA-2015-100251</td>\n",
       "      <td>OFF-SU-10000898</td>\n",
       "    </tr>\n",
       "    <tr>\n",
       "      <th>7679</th>\n",
       "      <td>2524.0</td>\n",
       "      <td>3</td>\n",
       "      <td>0.20</td>\n",
       "      <td>410.0</td>\n",
       "      <td>CA-2014-110422</td>\n",
       "      <td>FUR-FU-10001889</td>\n",
       "    </tr>\n",
       "    <tr>\n",
       "      <th>7680</th>\n",
       "      <td>2960.0</td>\n",
       "      <td>4</td>\n",
       "      <td>0.00</td>\n",
       "      <td>1332.0</td>\n",
       "      <td>CA-2017-121258</td>\n",
       "      <td>OFF-PA-10004041</td>\n",
       "    </tr>\n",
       "    <tr>\n",
       "      <th>7681</th>\n",
       "      <td>24316.0</td>\n",
       "      <td>2</td>\n",
       "      <td>0.00</td>\n",
       "      <td>7294.0</td>\n",
       "      <td>CA-2017-119914</td>\n",
       "      <td>OFF-AP-10002684</td>\n",
       "    </tr>\n",
       "  </tbody>\n",
       "</table>\n",
       "<p>7682 rows × 6 columns</p>\n",
       "</div>"
      ],
      "text/plain": [
       "        Sales  Quantity  Discount   Profit         OrderID        ProductID\n",
       "0     26195.0         2      0.00   4191.0  CA-2016-152156  FUR-BO-10001798\n",
       "1     73194.0         3      0.00  21958.0  CA-2016-152156  FUR-CH-10000454\n",
       "2      1462.0         2      0.00    687.0  CA-2016-138688  OFF-LA-10000240\n",
       "3     95757.0         5      0.45 -38303.0  US-2015-108966  FUR-TA-10000577\n",
       "4      2236.0         2      0.20    251.0  US-2015-108966  OFF-ST-10000760\n",
       "...       ...       ...       ...      ...             ...              ...\n",
       "7677   9798.0         2      0.00   2743.0  US-2016-157728  TEC-PH-10001305\n",
       "7678   5560.0         4      0.00   1612.0  CA-2015-100251  OFF-SU-10000898\n",
       "7679   2524.0         3      0.20    410.0  CA-2014-110422  FUR-FU-10001889\n",
       "7680   2960.0         4      0.00   1332.0  CA-2017-121258  OFF-PA-10004041\n",
       "7681  24316.0         2      0.00   7294.0  CA-2017-119914  OFF-AP-10002684\n",
       "\n",
       "[7682 rows x 6 columns]"
      ]
     },
     "execution_count": 605,
     "metadata": {},
     "output_type": "execute_result"
    }
   ],
   "source": [
    "numbers_table=unique_numbers_table2.rename(columns={'Order ID' : 'OrderID', 'Product ID' : 'ProductID'})\n",
    "numbers_table.drop_duplicates()\n",
    "numbers_table= numbers_table.drop_duplicates(subset=[\"OrderID\", \"ProductID\"], ignore_index=True)\n",
    "numbers_table.reset_index(drop=True, inplace=True)\n",
    "numbers_table"
   ]
  },
  {
   "cell_type": "code",
   "execution_count": 655,
   "metadata": {},
   "outputs": [],
   "source": [
    "\n",
    "list_of_tables = ['Products', 'Customers', 'Location', 'Orders', 'Numbers']\n",
    "dataframes = [product_table, customers_table, location_column, orders_table1, numbers_table]"
   ]
  },
  {
   "cell_type": "code",
   "execution_count": 685,
   "metadata": {},
   "outputs": [],
   "source": [
    "import numpy as np\n",
    "import  sqlite3"
   ]
  },
  {
   "cell_type": "markdown",
   "metadata": {},
   "source": [
    "# Populating the tables in SQLite"
   ]
  },
  {
   "cell_type": "code",
   "execution_count": 693,
   "metadata": {},
   "outputs": [],
   "source": [
    "db_conn = sqlite3.connect(\"C:\\\\Users\\\\dariy\\\\OneDrive\\\\Работен плот\\\\Code Academy\\\\SQL\\\\NewECommerce.db\")\n"
   ]
  },
  {
   "cell_type": "code",
   "execution_count": 694,
   "metadata": {},
   "outputs": [],
   "source": [
    "c = db_conn.cursor()"
   ]
  },
  {
   "cell_type": "code",
   "execution_count": 695,
   "metadata": {},
   "outputs": [],
   "source": [
    "df_loc = pd.read_csv(\"C:\\\\Users\\\\dariy\\\\OneDrive\\\\Работен плот\\\\Code Academy\\\\SQL\\\\Location.csv\")#populate Location table"
   ]
  },
  {
   "cell_type": "code",
   "execution_count": 696,
   "metadata": {},
   "outputs": [
    {
     "name": "stdout",
     "output_type": "stream",
     "text": [
      "<class 'pandas.core.frame.DataFrame'>\n",
      "RangeIndex: 632 entries, 0 to 631\n",
      "Data columns (total 6 columns):\n",
      " #   Column       Non-Null Count  Dtype \n",
      "---  ------       --------------  ----- \n",
      " 0   Country      632 non-null    object\n",
      " 1   City         632 non-null    object\n",
      " 2   Region       632 non-null    object\n",
      " 3   State        632 non-null    object\n",
      " 4   Postal Code  632 non-null    int64 \n",
      " 5   LocationID   632 non-null    object\n",
      "dtypes: int64(1), object(5)\n",
      "memory usage: 29.8+ KB\n"
     ]
    }
   ],
   "source": [
    "df_loc.info()"
   ]
  },
  {
   "cell_type": "code",
   "execution_count": 697,
   "metadata": {},
   "outputs": [],
   "source": [
    "df_loc = df_loc.rename(columns={'Postal Code': 'PostalCode'})"
   ]
  },
  {
   "cell_type": "code",
   "execution_count": 698,
   "metadata": {},
   "outputs": [
    {
     "name": "stdout",
     "output_type": "stream",
     "text": [
      "<class 'pandas.core.frame.DataFrame'>\n",
      "RangeIndex: 632 entries, 0 to 631\n",
      "Data columns (total 6 columns):\n",
      " #   Column      Non-Null Count  Dtype \n",
      "---  ------      --------------  ----- \n",
      " 0   Country     632 non-null    object\n",
      " 1   City        632 non-null    object\n",
      " 2   Region      632 non-null    object\n",
      " 3   State       632 non-null    object\n",
      " 4   PostalCode  632 non-null    int64 \n",
      " 5   LocationID  632 non-null    object\n",
      "dtypes: int64(1), object(5)\n",
      "memory usage: 29.8+ KB\n"
     ]
    }
   ],
   "source": [
    "df_loc.info()"
   ]
  },
  {
   "cell_type": "code",
   "execution_count": 699,
   "metadata": {},
   "outputs": [],
   "source": [
    "db_conn.commit()"
   ]
  },
  {
   "cell_type": "code",
   "execution_count": 700,
   "metadata": {},
   "outputs": [
    {
     "data": {
      "text/plain": [
       "<sqlite3.Connection at 0x23aa42f53f0>"
      ]
     },
     "execution_count": 700,
     "metadata": {},
     "output_type": "execute_result"
    }
   ],
   "source": [
    "db_conn"
   ]
  },
  {
   "cell_type": "code",
   "execution_count": 701,
   "metadata": {},
   "outputs": [],
   "source": [
    "connection = sqlite3.connect('cash.db', timeout=100)\n"
   ]
  },
  {
   "cell_type": "code",
   "execution_count": 702,
   "metadata": {},
   "outputs": [
    {
     "data": {
      "text/plain": [
       "632"
      ]
     },
     "execution_count": 702,
     "metadata": {},
     "output_type": "execute_result"
    }
   ],
   "source": [
    "df_loc.to_sql(\"Location\" ,db_conn, if_exists= \"append\" , index= False)"
   ]
  },
  {
   "cell_type": "code",
   "execution_count": 703,
   "metadata": {},
   "outputs": [],
   "source": [
    "df_loc1 = pd.read_csv(\"C:\\\\Users\\\\dariy\\\\OneDrive\\\\Работен плот\\\\Code Academy\\\\SQL\\\\Products.csv\") #populate Products table"
   ]
  },
  {
   "cell_type": "code",
   "execution_count": 704,
   "metadata": {},
   "outputs": [
    {
     "name": "stdout",
     "output_type": "stream",
     "text": [
      "<class 'pandas.core.frame.DataFrame'>\n",
      "RangeIndex: 1894 entries, 0 to 1893\n",
      "Data columns (total 4 columns):\n",
      " #   Column       Non-Null Count  Dtype \n",
      "---  ------       --------------  ----- \n",
      " 0   ProductID    1894 non-null   object\n",
      " 1   ProductName  1894 non-null   object\n",
      " 2   Category     1894 non-null   object\n",
      " 3   Subcategory  1894 non-null   object\n",
      "dtypes: object(4)\n",
      "memory usage: 59.3+ KB\n"
     ]
    }
   ],
   "source": [
    "df_loc1.info()"
   ]
  },
  {
   "cell_type": "code",
   "execution_count": 705,
   "metadata": {},
   "outputs": [],
   "source": [
    "db_conn.commit()"
   ]
  },
  {
   "cell_type": "code",
   "execution_count": 706,
   "metadata": {},
   "outputs": [
    {
     "data": {
      "text/plain": [
       "<sqlite3.Connection at 0x23aa42f53f0>"
      ]
     },
     "execution_count": 706,
     "metadata": {},
     "output_type": "execute_result"
    }
   ],
   "source": [
    "db_conn"
   ]
  },
  {
   "cell_type": "code",
   "execution_count": 707,
   "metadata": {},
   "outputs": [],
   "source": [
    "connection = sqlite3.connect('cash.db', timeout=100)"
   ]
  },
  {
   "cell_type": "code",
   "execution_count": 709,
   "metadata": {},
   "outputs": [
    {
     "data": {
      "text/plain": [
       "1894"
      ]
     },
     "execution_count": 709,
     "metadata": {},
     "output_type": "execute_result"
    }
   ],
   "source": [
    "df_loc1.to_sql(\"Products\" ,db_conn, if_exists= \"append\" , index= False)"
   ]
  },
  {
   "cell_type": "code",
   "execution_count": 711,
   "metadata": {},
   "outputs": [],
   "source": [
    "df_loc2 = pd.read_csv(\"C:\\\\Users\\\\dariy\\\\OneDrive\\\\Работен плот\\\\Code Academy\\\\SQL\\\\Orders.csv\")#populate Products"
   ]
  },
  {
   "cell_type": "code",
   "execution_count": 712,
   "metadata": {},
   "outputs": [
    {
     "name": "stdout",
     "output_type": "stream",
     "text": [
      "<class 'pandas.core.frame.DataFrame'>\n",
      "RangeIndex: 3811 entries, 0 to 3810\n",
      "Data columns (total 6 columns):\n",
      " #   Column      Non-Null Count  Dtype \n",
      "---  ------      --------------  ----- \n",
      " 0   OrderID     3811 non-null   object\n",
      " 1   Product     3811 non-null   object\n",
      " 2   OrderDate   3811 non-null   object\n",
      " 3   ShipDate    3811 non-null   object\n",
      " 4   ShipMode    3811 non-null   object\n",
      " 5   LocationID  3811 non-null   object\n",
      "dtypes: object(6)\n",
      "memory usage: 178.8+ KB\n"
     ]
    }
   ],
   "source": [
    "df_loc2.info()"
   ]
  },
  {
   "cell_type": "code",
   "execution_count": 713,
   "metadata": {},
   "outputs": [],
   "source": [
    "db_conn.commit()"
   ]
  },
  {
   "cell_type": "code",
   "execution_count": 714,
   "metadata": {},
   "outputs": [
    {
     "data": {
      "text/plain": [
       "<sqlite3.Connection at 0x23aa42f53f0>"
      ]
     },
     "execution_count": 714,
     "metadata": {},
     "output_type": "execute_result"
    }
   ],
   "source": [
    "db_conn"
   ]
  },
  {
   "cell_type": "code",
   "execution_count": 715,
   "metadata": {},
   "outputs": [],
   "source": [
    "connection = sqlite3.connect('cash.db', timeout=100)"
   ]
  },
  {
   "cell_type": "code",
   "execution_count": 716,
   "metadata": {},
   "outputs": [
    {
     "data": {
      "text/plain": [
       "3811"
      ]
     },
     "execution_count": 716,
     "metadata": {},
     "output_type": "execute_result"
    }
   ],
   "source": [
    "df_loc2.to_sql(\"Orders\" ,db_conn, if_exists= \"append\" , index= False)"
   ]
  },
  {
   "cell_type": "code",
   "execution_count": 717,
   "metadata": {},
   "outputs": [],
   "source": [
    "df_loc3 = pd.read_csv(\"C:\\\\Users\\\\dariy\\\\OneDrive\\\\Работен плот\\\\Code Academy\\\\SQL\\\\Numbers.csv\")#populate Numbers"
   ]
  },
  {
   "cell_type": "code",
   "execution_count": 718,
   "metadata": {},
   "outputs": [
    {
     "name": "stdout",
     "output_type": "stream",
     "text": [
      "<class 'pandas.core.frame.DataFrame'>\n",
      "RangeIndex: 7682 entries, 0 to 7681\n",
      "Data columns (total 6 columns):\n",
      " #   Column     Non-Null Count  Dtype  \n",
      "---  ------     --------------  -----  \n",
      " 0   Sales      7682 non-null   float64\n",
      " 1   Quantity   7682 non-null   int64  \n",
      " 2   Discount   7682 non-null   float64\n",
      " 3   Profit     7682 non-null   float64\n",
      " 4   OrderID    7682 non-null   object \n",
      " 5   ProductID  7682 non-null   object \n",
      "dtypes: float64(3), int64(1), object(2)\n",
      "memory usage: 360.2+ KB\n"
     ]
    }
   ],
   "source": [
    "df_loc3.info()"
   ]
  },
  {
   "cell_type": "code",
   "execution_count": 719,
   "metadata": {},
   "outputs": [],
   "source": [
    "db_conn.commit()"
   ]
  },
  {
   "cell_type": "code",
   "execution_count": 720,
   "metadata": {},
   "outputs": [],
   "source": [
    "connection = sqlite3.connect('cash.db', timeout=100)"
   ]
  },
  {
   "cell_type": "code",
   "execution_count": 721,
   "metadata": {},
   "outputs": [
    {
     "data": {
      "text/plain": [
       "7682"
      ]
     },
     "execution_count": 721,
     "metadata": {},
     "output_type": "execute_result"
    }
   ],
   "source": [
    "df_loc3.to_sql(\"Numbers\" ,db_conn, if_exists= \"append\" , index= False)"
   ]
  },
  {
   "cell_type": "code",
   "execution_count": 723,
   "metadata": {},
   "outputs": [],
   "source": [
    "df_loc4 = pd.read_csv(\"C:\\\\Users\\\\dariy\\\\OneDrive\\\\Работен плот\\\\Code Academy\\\\SQL\\\\Customers.csv\")#populate Customers"
   ]
  },
  {
   "cell_type": "code",
   "execution_count": 724,
   "metadata": {},
   "outputs": [
    {
     "name": "stdout",
     "output_type": "stream",
     "text": [
      "<class 'pandas.core.frame.DataFrame'>\n",
      "RangeIndex: 793 entries, 0 to 792\n",
      "Data columns (total 4 columns):\n",
      " #   Column        Non-Null Count  Dtype \n",
      "---  ------        --------------  ----- \n",
      " 0   CustomerID    793 non-null    object\n",
      " 1   CustomerName  793 non-null    object\n",
      " 2   Segment       793 non-null    object\n",
      " 3   OrderID       793 non-null    object\n",
      "dtypes: object(4)\n",
      "memory usage: 24.9+ KB\n"
     ]
    }
   ],
   "source": [
    "df_loc4.info()"
   ]
  },
  {
   "cell_type": "code",
   "execution_count": 725,
   "metadata": {},
   "outputs": [],
   "source": [
    "db_conn.commit()"
   ]
  },
  {
   "cell_type": "code",
   "execution_count": 726,
   "metadata": {},
   "outputs": [],
   "source": [
    "connection = sqlite3.connect('cash.db', timeout=100)"
   ]
  },
  {
   "cell_type": "code",
   "execution_count": 727,
   "metadata": {},
   "outputs": [
    {
     "data": {
      "text/plain": [
       "793"
      ]
     },
     "execution_count": 727,
     "metadata": {},
     "output_type": "execute_result"
    }
   ],
   "source": [
    "df_loc4.to_sql(\"Customers\" ,db_conn, if_exists= \"append\" , index= False)"
   ]
  },
  {
   "cell_type": "code",
   "execution_count": 756,
   "metadata": {},
   "outputs": [
    {
     "data": {
      "text/html": [
       "<div>\n",
       "<style scoped>\n",
       "    .dataframe tbody tr th:only-of-type {\n",
       "        vertical-align: middle;\n",
       "    }\n",
       "\n",
       "    .dataframe tbody tr th {\n",
       "        vertical-align: top;\n",
       "    }\n",
       "\n",
       "    .dataframe thead th {\n",
       "        text-align: right;\n",
       "    }\n",
       "</style>\n",
       "<table border=\"1\" class=\"dataframe\">\n",
       "  <thead>\n",
       "    <tr style=\"text-align: right;\">\n",
       "      <th></th>\n",
       "      <th>Row ID</th>\n",
       "      <th>Order ID</th>\n",
       "      <th>Order Date</th>\n",
       "      <th>Ship Date</th>\n",
       "      <th>Ship Mode</th>\n",
       "      <th>Customer ID</th>\n",
       "      <th>Customer Name</th>\n",
       "      <th>Segment</th>\n",
       "      <th>Country</th>\n",
       "      <th>City</th>\n",
       "      <th>...</th>\n",
       "      <th>Postal Code</th>\n",
       "      <th>Region</th>\n",
       "      <th>Product ID</th>\n",
       "      <th>Category</th>\n",
       "      <th>Sub-Category</th>\n",
       "      <th>Product Name</th>\n",
       "      <th>Sales</th>\n",
       "      <th>Quantity</th>\n",
       "      <th>Discount</th>\n",
       "      <th>Profit</th>\n",
       "    </tr>\n",
       "  </thead>\n",
       "  <tbody>\n",
       "    <tr>\n",
       "      <th>0</th>\n",
       "      <td>1</td>\n",
       "      <td>CA-2016-152156</td>\n",
       "      <td>11/8/2016</td>\n",
       "      <td>11/11/2016</td>\n",
       "      <td>Second Class</td>\n",
       "      <td>CG-12520</td>\n",
       "      <td>Claire Gute</td>\n",
       "      <td>Consumer</td>\n",
       "      <td>United States</td>\n",
       "      <td>Henderson</td>\n",
       "      <td>...</td>\n",
       "      <td>42420</td>\n",
       "      <td>South</td>\n",
       "      <td>FUR-BO-10001798</td>\n",
       "      <td>Furniture</td>\n",
       "      <td>Bookcases</td>\n",
       "      <td>Bush Somerset Collection Bookcase</td>\n",
       "      <td>261.9600</td>\n",
       "      <td>2</td>\n",
       "      <td>0.00</td>\n",
       "      <td>41.9136</td>\n",
       "    </tr>\n",
       "    <tr>\n",
       "      <th>1</th>\n",
       "      <td>2</td>\n",
       "      <td>CA-2016-152156</td>\n",
       "      <td>11/8/2016</td>\n",
       "      <td>11/11/2016</td>\n",
       "      <td>Second Class</td>\n",
       "      <td>CG-12520</td>\n",
       "      <td>Claire Gute</td>\n",
       "      <td>Consumer</td>\n",
       "      <td>United States</td>\n",
       "      <td>Henderson</td>\n",
       "      <td>...</td>\n",
       "      <td>42420</td>\n",
       "      <td>South</td>\n",
       "      <td>FUR-CH-10000454</td>\n",
       "      <td>Furniture</td>\n",
       "      <td>Chairs</td>\n",
       "      <td>Hon Deluxe Fabric Upholstered Stacking Chairs,...</td>\n",
       "      <td>731.9400</td>\n",
       "      <td>3</td>\n",
       "      <td>0.00</td>\n",
       "      <td>219.5820</td>\n",
       "    </tr>\n",
       "    <tr>\n",
       "      <th>2</th>\n",
       "      <td>3</td>\n",
       "      <td>CA-2016-138688</td>\n",
       "      <td>6/12/2016</td>\n",
       "      <td>6/16/2016</td>\n",
       "      <td>Second Class</td>\n",
       "      <td>DV-13045</td>\n",
       "      <td>Darrin Van Huff</td>\n",
       "      <td>Corporate</td>\n",
       "      <td>United States</td>\n",
       "      <td>Los Angeles</td>\n",
       "      <td>...</td>\n",
       "      <td>90036</td>\n",
       "      <td>West</td>\n",
       "      <td>OFF-LA-10000240</td>\n",
       "      <td>Office Supplies</td>\n",
       "      <td>Labels</td>\n",
       "      <td>Self-Adhesive Address Labels for Typewriters b...</td>\n",
       "      <td>14.6200</td>\n",
       "      <td>2</td>\n",
       "      <td>0.00</td>\n",
       "      <td>6.8714</td>\n",
       "    </tr>\n",
       "    <tr>\n",
       "      <th>3</th>\n",
       "      <td>4</td>\n",
       "      <td>US-2015-108966</td>\n",
       "      <td>10/11/2015</td>\n",
       "      <td>10/18/2015</td>\n",
       "      <td>Standard Class</td>\n",
       "      <td>SO-20335</td>\n",
       "      <td>Sean O'Donnell</td>\n",
       "      <td>Consumer</td>\n",
       "      <td>United States</td>\n",
       "      <td>Fort Lauderdale</td>\n",
       "      <td>...</td>\n",
       "      <td>33311</td>\n",
       "      <td>South</td>\n",
       "      <td>FUR-TA-10000577</td>\n",
       "      <td>Furniture</td>\n",
       "      <td>Tables</td>\n",
       "      <td>Bretford CR4500 Series Slim Rectangular Table</td>\n",
       "      <td>957.5775</td>\n",
       "      <td>5</td>\n",
       "      <td>0.45</td>\n",
       "      <td>-383.0310</td>\n",
       "    </tr>\n",
       "    <tr>\n",
       "      <th>4</th>\n",
       "      <td>5</td>\n",
       "      <td>US-2015-108966</td>\n",
       "      <td>10/11/2015</td>\n",
       "      <td>10/18/2015</td>\n",
       "      <td>Standard Class</td>\n",
       "      <td>SO-20335</td>\n",
       "      <td>Sean O'Donnell</td>\n",
       "      <td>Consumer</td>\n",
       "      <td>United States</td>\n",
       "      <td>Fort Lauderdale</td>\n",
       "      <td>...</td>\n",
       "      <td>33311</td>\n",
       "      <td>South</td>\n",
       "      <td>OFF-ST-10000760</td>\n",
       "      <td>Office Supplies</td>\n",
       "      <td>Storage</td>\n",
       "      <td>Eldon Fold 'N Roll Cart System</td>\n",
       "      <td>22.3680</td>\n",
       "      <td>2</td>\n",
       "      <td>0.20</td>\n",
       "      <td>2.5164</td>\n",
       "    </tr>\n",
       "  </tbody>\n",
       "</table>\n",
       "<p>5 rows × 21 columns</p>\n",
       "</div>"
      ],
      "text/plain": [
       "   Row ID        Order ID  Order Date   Ship Date       Ship Mode Customer ID  \\\n",
       "0       1  CA-2016-152156   11/8/2016  11/11/2016    Second Class    CG-12520   \n",
       "1       2  CA-2016-152156   11/8/2016  11/11/2016    Second Class    CG-12520   \n",
       "2       3  CA-2016-138688   6/12/2016   6/16/2016    Second Class    DV-13045   \n",
       "3       4  US-2015-108966  10/11/2015  10/18/2015  Standard Class    SO-20335   \n",
       "4       5  US-2015-108966  10/11/2015  10/18/2015  Standard Class    SO-20335   \n",
       "\n",
       "     Customer Name    Segment        Country             City  ...  \\\n",
       "0      Claire Gute   Consumer  United States        Henderson  ...   \n",
       "1      Claire Gute   Consumer  United States        Henderson  ...   \n",
       "2  Darrin Van Huff  Corporate  United States      Los Angeles  ...   \n",
       "3   Sean O'Donnell   Consumer  United States  Fort Lauderdale  ...   \n",
       "4   Sean O'Donnell   Consumer  United States  Fort Lauderdale  ...   \n",
       "\n",
       "  Postal Code  Region       Product ID         Category Sub-Category  \\\n",
       "0       42420   South  FUR-BO-10001798        Furniture    Bookcases   \n",
       "1       42420   South  FUR-CH-10000454        Furniture       Chairs   \n",
       "2       90036    West  OFF-LA-10000240  Office Supplies       Labels   \n",
       "3       33311   South  FUR-TA-10000577        Furniture       Tables   \n",
       "4       33311   South  OFF-ST-10000760  Office Supplies      Storage   \n",
       "\n",
       "                                        Product Name     Sales  Quantity  \\\n",
       "0                  Bush Somerset Collection Bookcase  261.9600         2   \n",
       "1  Hon Deluxe Fabric Upholstered Stacking Chairs,...  731.9400         3   \n",
       "2  Self-Adhesive Address Labels for Typewriters b...   14.6200         2   \n",
       "3      Bretford CR4500 Series Slim Rectangular Table  957.5775         5   \n",
       "4                     Eldon Fold 'N Roll Cart System   22.3680         2   \n",
       "\n",
       "   Discount    Profit  \n",
       "0      0.00   41.9136  \n",
       "1      0.00  219.5820  \n",
       "2      0.00    6.8714  \n",
       "3      0.45 -383.0310  \n",
       "4      0.20    2.5164  \n",
       "\n",
       "[5 rows x 21 columns]"
      ]
     },
     "execution_count": 756,
     "metadata": {},
     "output_type": "execute_result"
    }
   ],
   "source": [
    "\n",
    "vsstore.head()\n"
   ]
  },
  {
   "cell_type": "markdown",
   "metadata": {},
   "source": [
    "# Creates tables for Unsuperviesed ML (ML Clustering with K-means)"
   ]
  },
  {
   "cell_type": "markdown",
   "metadata": {},
   "source": [
    "# creates a new DataFrame by grouping the customers based on their ID and summing the Sales column"
   ]
  },
  {
   "cell_type": "code",
   "execution_count": 758,
   "metadata": {},
   "outputs": [
    {
     "data": {
      "text/html": [
       "<div>\n",
       "<style scoped>\n",
       "    .dataframe tbody tr th:only-of-type {\n",
       "        vertical-align: middle;\n",
       "    }\n",
       "\n",
       "    .dataframe tbody tr th {\n",
       "        vertical-align: top;\n",
       "    }\n",
       "\n",
       "    .dataframe thead th {\n",
       "        text-align: right;\n",
       "    }\n",
       "</style>\n",
       "<table border=\"1\" class=\"dataframe\">\n",
       "  <thead>\n",
       "    <tr style=\"text-align: right;\">\n",
       "      <th></th>\n",
       "      <th>Customer ID</th>\n",
       "      <th>Sales</th>\n",
       "    </tr>\n",
       "  </thead>\n",
       "  <tbody>\n",
       "    <tr>\n",
       "      <th>788</th>\n",
       "      <td>XP-21865</td>\n",
       "      <td>2374.658</td>\n",
       "    </tr>\n",
       "    <tr>\n",
       "      <th>789</th>\n",
       "      <td>YC-21895</td>\n",
       "      <td>5454.350</td>\n",
       "    </tr>\n",
       "    <tr>\n",
       "      <th>790</th>\n",
       "      <td>YS-21880</td>\n",
       "      <td>6720.444</td>\n",
       "    </tr>\n",
       "    <tr>\n",
       "      <th>791</th>\n",
       "      <td>ZC-21910</td>\n",
       "      <td>8025.707</td>\n",
       "    </tr>\n",
       "    <tr>\n",
       "      <th>792</th>\n",
       "      <td>ZD-21925</td>\n",
       "      <td>1493.944</td>\n",
       "    </tr>\n",
       "  </tbody>\n",
       "</table>\n",
       "</div>"
      ],
      "text/plain": [
       "    Customer ID     Sales\n",
       "788    XP-21865  2374.658\n",
       "789    YC-21895  5454.350\n",
       "790    YS-21880  6720.444\n",
       "791    ZC-21910  8025.707\n",
       "792    ZD-21925  1493.944"
      ]
     },
     "execution_count": 758,
     "metadata": {},
     "output_type": "execute_result"
    }
   ],
   "source": [
    "vsstore_monetary = vsstore.groupby('Customer ID', as_index=False)['Sales'].sum()\n",
    "vsstore_monetary"
   ]
  },
  {
   "cell_type": "markdown",
   "metadata": {},
   "source": [
    "# the same with Frequency (How many unique Order IDs are there per customer?)"
   ]
  },
  {
   "cell_type": "code",
   "execution_count": 782,
   "metadata": {},
   "outputs": [
    {
     "data": {
      "text/html": [
       "<div>\n",
       "<style scoped>\n",
       "    .dataframe tbody tr th:only-of-type {\n",
       "        vertical-align: middle;\n",
       "    }\n",
       "\n",
       "    .dataframe tbody tr th {\n",
       "        vertical-align: top;\n",
       "    }\n",
       "\n",
       "    .dataframe thead th {\n",
       "        text-align: right;\n",
       "    }\n",
       "</style>\n",
       "<table border=\"1\" class=\"dataframe\">\n",
       "  <thead>\n",
       "    <tr style=\"text-align: right;\">\n",
       "      <th></th>\n",
       "      <th>CustomerID</th>\n",
       "      <th>Order ID</th>\n",
       "    </tr>\n",
       "  </thead>\n",
       "  <tbody>\n",
       "    <tr>\n",
       "      <th>788</th>\n",
       "      <td>XP-21865</td>\n",
       "      <td>28</td>\n",
       "    </tr>\n",
       "    <tr>\n",
       "      <th>789</th>\n",
       "      <td>YC-21895</td>\n",
       "      <td>8</td>\n",
       "    </tr>\n",
       "    <tr>\n",
       "      <th>790</th>\n",
       "      <td>YS-21880</td>\n",
       "      <td>12</td>\n",
       "    </tr>\n",
       "    <tr>\n",
       "      <th>791</th>\n",
       "      <td>ZC-21910</td>\n",
       "      <td>31</td>\n",
       "    </tr>\n",
       "    <tr>\n",
       "      <th>792</th>\n",
       "      <td>ZD-21925</td>\n",
       "      <td>9</td>\n",
       "    </tr>\n",
       "  </tbody>\n",
       "</table>\n",
       "</div>"
      ],
      "text/plain": [
       "    CustomerID  Order ID\n",
       "788   XP-21865        28\n",
       "789   YC-21895         8\n",
       "790   YS-21880        12\n",
       "791   ZC-21910        31\n",
       "792   ZD-21925         9"
      ]
     },
     "execution_count": 782,
     "metadata": {},
     "output_type": "execute_result"
    }
   ],
   "source": [
    "\n",
    "df_fr = vsstore.groupby('Customer ID', as_index=False)['Order ID'].count()\n",
    "df_fr.tail()\n",
    "df_fr = df_fr.rename(columns={'Customer ID': 'CustomerID'})\n",
    "df_fr.tail()"
   ]
  },
  {
   "cell_type": "code",
   "execution_count": 767,
   "metadata": {},
   "outputs": [],
   "source": [
    "vsstore['OrderDate'] = pd.to_datetime(vsstore['Order Date'])\n"
   ]
  },
  {
   "cell_type": "code",
   "execution_count": 768,
   "metadata": {},
   "outputs": [
    {
     "name": "stdout",
     "output_type": "stream",
     "text": [
      "Order Date     0\n",
      "Customer ID    0\n",
      "dtype: int64\n"
     ]
    }
   ],
   "source": [
    "missing_values = vsstore[['Order Date', 'Customer ID']].isnull().sum()\n",
    "print(missing_values)\n"
   ]
  },
  {
   "cell_type": "markdown",
   "metadata": {},
   "source": [
    "# the Recency (Calculate it from the last order date in the dataset) "
   ]
  },
  {
   "cell_type": "code",
   "execution_count": 779,
   "metadata": {},
   "outputs": [
    {
     "data": {
      "text/html": [
       "<div>\n",
       "<style scoped>\n",
       "    .dataframe tbody tr th:only-of-type {\n",
       "        vertical-align: middle;\n",
       "    }\n",
       "\n",
       "    .dataframe tbody tr th {\n",
       "        vertical-align: top;\n",
       "    }\n",
       "\n",
       "    .dataframe thead th {\n",
       "        text-align: right;\n",
       "    }\n",
       "</style>\n",
       "<table border=\"1\" class=\"dataframe\">\n",
       "  <thead>\n",
       "    <tr style=\"text-align: right;\">\n",
       "      <th></th>\n",
       "      <th>Recency</th>\n",
       "    </tr>\n",
       "  </thead>\n",
       "  <tbody>\n",
       "    <tr>\n",
       "      <th>0</th>\n",
       "      <td>184</td>\n",
       "    </tr>\n",
       "    <tr>\n",
       "      <th>1</th>\n",
       "      <td>19</td>\n",
       "    </tr>\n",
       "    <tr>\n",
       "      <th>2</th>\n",
       "      <td>259</td>\n",
       "    </tr>\n",
       "    <tr>\n",
       "      <th>3</th>\n",
       "      <td>55</td>\n",
       "    </tr>\n",
       "    <tr>\n",
       "      <th>4</th>\n",
       "      <td>415</td>\n",
       "    </tr>\n",
       "  </tbody>\n",
       "</table>\n",
       "</div>"
      ],
      "text/plain": [
       "   Recency\n",
       "0      184\n",
       "1       19\n",
       "2      259\n",
       "3       55\n",
       "4      415"
      ]
     },
     "execution_count": 779,
     "metadata": {},
     "output_type": "execute_result"
    }
   ],
   "source": [
    "\n",
    "vsstore['Order Date'] = pd.to_datetime(vsstore['Order Date'])\n",
    "max_order_date_per_customer = vsstore.groupby('Customer ID')['Order Date'].max() # Finds the maximum order date for each customer\n",
    "last_date_in_vsstore = vsstore['Order Date'].max() # Uses the last date in the df as the reference date\n",
    "recency = (last_date_in_vsstore - max_order_date_per_customer).dt.days # Calculates the recency by subtracting the maximum order date from the last date in the DataFrame\n",
    "\n",
    "vsstore_recency = pd.DataFrame({ 'Recency': recency.values})\n",
    "vsstore_recency.head()\n",
    "\n"
   ]
  },
  {
   "cell_type": "markdown",
   "metadata": {},
   "source": [
    "# merges the three dfs"
   ]
  },
  {
   "cell_type": "code",
   "execution_count": 785,
   "metadata": {},
   "outputs": [
    {
     "data": {
      "text/html": [
       "<div>\n",
       "<style scoped>\n",
       "    .dataframe tbody tr th:only-of-type {\n",
       "        vertical-align: middle;\n",
       "    }\n",
       "\n",
       "    .dataframe tbody tr th {\n",
       "        vertical-align: top;\n",
       "    }\n",
       "\n",
       "    .dataframe thead th {\n",
       "        text-align: right;\n",
       "    }\n",
       "</style>\n",
       "<table border=\"1\" class=\"dataframe\">\n",
       "  <thead>\n",
       "    <tr style=\"text-align: right;\">\n",
       "      <th></th>\n",
       "      <th>Customer ID</th>\n",
       "      <th>Sales</th>\n",
       "      <th>Order ID</th>\n",
       "      <th>Recency</th>\n",
       "    </tr>\n",
       "  </thead>\n",
       "  <tbody>\n",
       "    <tr>\n",
       "      <th>0</th>\n",
       "      <td>AA-10315</td>\n",
       "      <td>5563.560</td>\n",
       "      <td>11</td>\n",
       "      <td>184</td>\n",
       "    </tr>\n",
       "    <tr>\n",
       "      <th>1</th>\n",
       "      <td>AA-10375</td>\n",
       "      <td>1056.390</td>\n",
       "      <td>15</td>\n",
       "      <td>19</td>\n",
       "    </tr>\n",
       "    <tr>\n",
       "      <th>2</th>\n",
       "      <td>AA-10480</td>\n",
       "      <td>1790.512</td>\n",
       "      <td>12</td>\n",
       "      <td>259</td>\n",
       "    </tr>\n",
       "    <tr>\n",
       "      <th>3</th>\n",
       "      <td>AA-10645</td>\n",
       "      <td>5086.935</td>\n",
       "      <td>18</td>\n",
       "      <td>55</td>\n",
       "    </tr>\n",
       "    <tr>\n",
       "      <th>4</th>\n",
       "      <td>AB-10015</td>\n",
       "      <td>886.156</td>\n",
       "      <td>6</td>\n",
       "      <td>415</td>\n",
       "    </tr>\n",
       "    <tr>\n",
       "      <th>...</th>\n",
       "      <td>...</td>\n",
       "      <td>...</td>\n",
       "      <td>...</td>\n",
       "      <td>...</td>\n",
       "    </tr>\n",
       "    <tr>\n",
       "      <th>788</th>\n",
       "      <td>XP-21865</td>\n",
       "      <td>2374.658</td>\n",
       "      <td>28</td>\n",
       "      <td>43</td>\n",
       "    </tr>\n",
       "    <tr>\n",
       "      <th>789</th>\n",
       "      <td>YC-21895</td>\n",
       "      <td>5454.350</td>\n",
       "      <td>8</td>\n",
       "      <td>4</td>\n",
       "    </tr>\n",
       "    <tr>\n",
       "      <th>790</th>\n",
       "      <td>YS-21880</td>\n",
       "      <td>6720.444</td>\n",
       "      <td>12</td>\n",
       "      <td>9</td>\n",
       "    </tr>\n",
       "    <tr>\n",
       "      <th>791</th>\n",
       "      <td>ZC-21910</td>\n",
       "      <td>8025.707</td>\n",
       "      <td>31</td>\n",
       "      <td>54</td>\n",
       "    </tr>\n",
       "    <tr>\n",
       "      <th>792</th>\n",
       "      <td>ZD-21925</td>\n",
       "      <td>1493.944</td>\n",
       "      <td>9</td>\n",
       "      <td>202</td>\n",
       "    </tr>\n",
       "  </tbody>\n",
       "</table>\n",
       "<p>793 rows × 4 columns</p>\n",
       "</div>"
      ],
      "text/plain": [
       "    Customer ID     Sales  Order ID  Recency\n",
       "0      AA-10315  5563.560        11      184\n",
       "1      AA-10375  1056.390        15       19\n",
       "2      AA-10480  1790.512        12      259\n",
       "3      AA-10645  5086.935        18       55\n",
       "4      AB-10015   886.156         6      415\n",
       "..          ...       ...       ...      ...\n",
       "788    XP-21865  2374.658        28       43\n",
       "789    YC-21895  5454.350         8        4\n",
       "790    YS-21880  6720.444        12        9\n",
       "791    ZC-21910  8025.707        31       54\n",
       "792    ZD-21925  1493.944         9      202\n",
       "\n",
       "[793 rows x 4 columns]"
      ]
     },
     "execution_count": 785,
     "metadata": {},
     "output_type": "execute_result"
    }
   ],
   "source": [
    "result = pd.concat([vsstore_monetary, df_fr, vsstore_recency], axis=1)\n",
    "result_new=result.drop(columns=\"CustomerID\")\n",
    "result_new"
   ]
  },
  {
   "cell_type": "markdown",
   "metadata": {},
   "source": [
    "# some EDA"
   ]
  },
  {
   "cell_type": "code",
   "execution_count": 793,
   "metadata": {},
   "outputs": [
    {
     "name": "stderr",
     "output_type": "stream",
     "text": [
      "c:\\Users\\dariy\\anaconda3\\Lib\\site-packages\\seaborn\\_oldcore.py:1498: FutureWarning: is_categorical_dtype is deprecated and will be removed in a future version. Use isinstance(dtype, CategoricalDtype) instead\n",
      "  if pd.api.types.is_categorical_dtype(vector):\n",
      "c:\\Users\\dariy\\anaconda3\\Lib\\site-packages\\seaborn\\_oldcore.py:1498: FutureWarning: is_categorical_dtype is deprecated and will be removed in a future version. Use isinstance(dtype, CategoricalDtype) instead\n",
      "  if pd.api.types.is_categorical_dtype(vector):\n",
      "c:\\Users\\dariy\\anaconda3\\Lib\\site-packages\\seaborn\\_oldcore.py:1498: FutureWarning: is_categorical_dtype is deprecated and will be removed in a future version. Use isinstance(dtype, CategoricalDtype) instead\n",
      "  if pd.api.types.is_categorical_dtype(vector):\n"
     ]
    },
    {
     "data": {
      "image/png": "[encoded data removed]",
      "text/plain": [
       "<Figure size 1500x800 with 1 Axes>"
      ]
     },
     "metadata": {},
     "output_type": "display_data"
    }
   ],
   "source": [
    "plt.figure(figsize=(15, 8))\n",
    "sns.boxplot(x='Order ID', y='Sales', data=result_new)\n",
    "plt.title('Box Plot of Sales by Freqency')\n",
    "plt.xlabel('Frequency')\n",
    "plt.ylabel('Sales')\n",
    "plt.xticks(rotation=45, ha='right')  # Rotate x-axis labels for better readability\n",
    "plt.show()"
   ]
  },
  {
   "cell_type": "code",
   "execution_count": 797,
   "metadata": {},
   "outputs": [
    {
     "name": "stderr",
     "output_type": "stream",
     "text": [
      "c:\\Users\\dariy\\anaconda3\\Lib\\site-packages\\seaborn\\_oldcore.py:1498: FutureWarning: is_categorical_dtype is deprecated and will be removed in a future version. Use isinstance(dtype, CategoricalDtype) instead\n",
      "  if pd.api.types.is_categorical_dtype(vector):\n",
      "c:\\Users\\dariy\\anaconda3\\Lib\\site-packages\\seaborn\\_oldcore.py:1498: FutureWarning: is_categorical_dtype is deprecated and will be removed in a future version. Use isinstance(dtype, CategoricalDtype) instead\n",
      "  if pd.api.types.is_categorical_dtype(vector):\n",
      "c:\\Users\\dariy\\anaconda3\\Lib\\site-packages\\seaborn\\_oldcore.py:1498: FutureWarning: is_categorical_dtype is deprecated and will be removed in a future version. Use isinstance(dtype, CategoricalDtype) instead\n",
      "  if pd.api.types.is_categorical_dtype(vector):\n"
     ]
    },
    {
     "data": {
      "image/png": "[encoded data removed]",
      "text/plain": [
       "<Figure size 1500x800 with 1 Axes>"
      ]
     },
     "metadata": {},
     "output_type": "display_data"
    }
   ],
   "source": [
    "plt.figure(figsize=(15, 8))\n",
    "sns.boxplot(x='Recency', y='Sales', data=result_new)\n",
    "plt.title('Box Plot of Sales by Recency')\n",
    "plt.xlabel('Recency')\n",
    "plt.ylabel('Sales')\n",
    "plt.xticks(rotation=45, ha='right')  # Rotate x-axis labels for better readability\n",
    "plt.show()"
   ]
  },
  {
   "cell_type": "markdown",
   "metadata": {},
   "source": [
    "# Converts relevant columns to numeric"
   ]
  },
  {
   "cell_type": "code",
   "execution_count": 806,
   "metadata": {},
   "outputs": [],
   "source": [
    "\n",
    "result_new['Sales'] = pd.to_numeric(result_new['Sales'], errors='coerce')\n",
    "result_new['Order ID'] = pd.to_numeric(result_new['Order ID'], errors='coerce')\n",
    "result_new['Recency'] = pd.to_numeric(result_new['Recency'], errors='coerce')\n",
    "# Drops rows with NaN values\n",
    "result_new = result_new.dropna()"
   ]
  },
  {
   "cell_type": "markdown",
   "metadata": {},
   "source": [
    "# Removes each feature's (statistical) outliers using the Interquartile Range (IQR is the difference between the upper quartile and the lower quartile)."
   ]
  },
  {
   "cell_type": "code",
   "execution_count": 808,
   "metadata": {},
   "outputs": [],
   "source": [
    "\n",
    "Q1 = result_new[['Sales', 'Order ID', 'Recency']].quantile(0.25)\n",
    "Q3 = result_new[['Sales', 'Order ID', 'Recency']].quantile(0.75)\n",
    "IQR = Q3 - Q1\n",
    "\n",
    "# filters outliers based on IQR\n",
    "def remove_outliers(row):\n",
    "    lower_bound = Q1 - 1.5 * IQR\n",
    "    upper_bound = Q3 + 1.5 * IQR\n",
    "    return (row >= lower_bound) & (row <= upper_bound)\n",
    "\n",
    "# filter outliers for each feature\n",
    "filtered_data = result_new[result_new[['Sales', 'Order ID', 'Recency']].apply(remove_outliers, axis=1).all(axis=1)]\n",
    "\n"
   ]
  },
  {
   "cell_type": "code",
   "execution_count": 812,
   "metadata": {},
   "outputs": [
    {
     "name": "stdout",
     "output_type": "stream",
     "text": [
      "Requirement already satisfied: scikit-learn in c:\\users\\dariy\\anaconda3\\lib\\site-packages (1.3.0)\n",
      "Requirement already satisfied: numpy>=1.17.3 in c:\\users\\dariy\\anaconda3\\lib\\site-packages (from scikit-learn) (1.24.3)\n",
      "Requirement already satisfied: scipy>=1.5.0 in c:\\users\\dariy\\anaconda3\\lib\\site-packages (from scikit-learn) (1.11.1)\n",
      "Requirement already satisfied: joblib>=1.1.1 in c:\\users\\dariy\\anaconda3\\lib\\site-packages (from scikit-learn) (1.2.0)\n",
      "Requirement already satisfied: threadpoolctl>=2.0.0 in c:\\users\\dariy\\anaconda3\\lib\\site-packages (from scikit-learn) (2.2.0)\n"
     ]
    }
   ],
   "source": [
    "!pip install scikit-learn"
   ]
  },
  {
   "cell_type": "code",
   "execution_count": 814,
   "metadata": {},
   "outputs": [],
   "source": [
    "from sklearn.preprocessing import StandardScaler"
   ]
  },
  {
   "cell_type": "markdown",
   "metadata": {},
   "source": [
    "# Feature scaling"
   ]
  },
  {
   "cell_type": "code",
   "execution_count": 815,
   "metadata": {},
   "outputs": [
    {
     "data": {
      "text/html": [
       "<div>\n",
       "<style scoped>\n",
       "    .dataframe tbody tr th:only-of-type {\n",
       "        vertical-align: middle;\n",
       "    }\n",
       "\n",
       "    .dataframe tbody tr th {\n",
       "        vertical-align: top;\n",
       "    }\n",
       "\n",
       "    .dataframe thead th {\n",
       "        text-align: right;\n",
       "    }\n",
       "</style>\n",
       "<table border=\"1\" class=\"dataframe\">\n",
       "  <thead>\n",
       "    <tr style=\"text-align: right;\">\n",
       "      <th></th>\n",
       "      <th>Sales</th>\n",
       "      <th>Order ID</th>\n",
       "      <th>Recency</th>\n",
       "    </tr>\n",
       "  </thead>\n",
       "  <tbody>\n",
       "    <tr>\n",
       "      <th>0</th>\n",
       "      <td>1.015112</td>\n",
       "      <td>-0.256912</td>\n",
       "      <td>0.199889</td>\n",
       "    </tr>\n",
       "    <tr>\n",
       "      <th>1</th>\n",
       "      <td>-0.700590</td>\n",
       "      <td>0.384256</td>\n",
       "      <td>-0.686762</td>\n",
       "    </tr>\n",
       "    <tr>\n",
       "      <th>2</th>\n",
       "      <td>-0.421139</td>\n",
       "      <td>-0.096620</td>\n",
       "      <td>0.602912</td>\n",
       "    </tr>\n",
       "    <tr>\n",
       "      <th>3</th>\n",
       "      <td>0.833680</td>\n",
       "      <td>0.865131</td>\n",
       "      <td>-0.493311</td>\n",
       "    </tr>\n",
       "    <tr>\n",
       "      <th>4</th>\n",
       "      <td>-0.765391</td>\n",
       "      <td>-1.058371</td>\n",
       "      <td>1.441199</td>\n",
       "    </tr>\n",
       "  </tbody>\n",
       "</table>\n",
       "</div>"
      ],
      "text/plain": [
       "      Sales  Order ID   Recency\n",
       "0  1.015112 -0.256912  0.199889\n",
       "1 -0.700590  0.384256 -0.686762\n",
       "2 -0.421139 -0.096620  0.602912\n",
       "3  0.833680  0.865131 -0.493311\n",
       "4 -0.765391 -1.058371  1.441199"
      ]
     },
     "execution_count": 815,
     "metadata": {},
     "output_type": "execute_result"
    }
   ],
   "source": [
    "\n",
    "rfm_df = result_new[['Sales', 'Order ID', 'Recency']]\n",
    "scaler = StandardScaler()\n",
    "\n",
    "rfm_df_scaled = scaler.fit_transform(rfm_df)\n",
    "rfm_df_scaled.shape\n",
    "\n",
    "rfm_df_scaled = pd.DataFrame(rfm_df_scaled)\n",
    "rfm_df_scaled.columns = ['Sales', 'Order ID', 'Recency']\n",
    "rfm_df_scaled.head()"
   ]
  },
  {
   "cell_type": "markdown",
   "metadata": {},
   "source": [
    "# Building the model"
   ]
  },
  {
   "cell_type": "code",
   "execution_count": 849,
   "metadata": {},
   "outputs": [
    {
     "name": "stderr",
     "output_type": "stream",
     "text": [
      "c:\\Users\\dariy\\anaconda3\\Lib\\site-packages\\sklearn\\cluster\\_kmeans.py:1412: FutureWarning: The default value of `n_init` will change from 10 to 'auto' in 1.4. Set the value of `n_init` explicitly to suppress the warning\n",
      "  super()._check_params_vs_input(X, default_n_init=10)\n",
      "c:\\Users\\dariy\\anaconda3\\Lib\\site-packages\\sklearn\\cluster\\_kmeans.py:1436: UserWarning: KMeans is known to have a memory leak on Windows with MKL, when there are less chunks than available threads. You can avoid it by setting the environment variable OMP_NUM_THREADS=4.\n",
      "  warnings.warn(\n"
     ]
    },
    {
     "name": "stdout",
     "output_type": "stream",
     "text": [
      "[(0, 277), (1, 105), (2, 63), (3, 348)]\n"
     ]
    }
   ],
   "source": [
    "from sklearn.cluster import KMeans\n",
    "from collections import Counter\n",
    "\n",
    "kmeans = KMeans(n_clusters=4, max_iter=50, random_state=42)\n",
    "kmeans.fit(rfm_df_scaled)\n",
    "labels = kmeans.labels_\n",
    "cluster_counts = Counter(labels)\n",
    "\n",
    "print(sorted(cluster_counts.items()))\n"
   ]
  },
  {
   "cell_type": "code",
   "execution_count": 853,
   "metadata": {},
   "outputs": [
    {
     "name": "stderr",
     "output_type": "stream",
     "text": [
      "c:\\Users\\dariy\\anaconda3\\Lib\\site-packages\\sklearn\\cluster\\_kmeans.py:1412: FutureWarning: The default value of `n_init` will change from 10 to 'auto' in 1.4. Set the value of `n_init` explicitly to suppress the warning\n",
      "  super()._check_params_vs_input(X, default_n_init=10)\n",
      "c:\\Users\\dariy\\anaconda3\\Lib\\site-packages\\sklearn\\cluster\\_kmeans.py:1436: UserWarning: KMeans is known to have a memory leak on Windows with MKL, when there are less chunks than available threads. You can avoid it by setting the environment variable OMP_NUM_THREADS=4.\n",
      "  warnings.warn(\n"
     ]
    },
    {
     "name": "stdout",
     "output_type": "stream",
     "text": [
      "For n_clusters=2, the silhouette score is 0.3464950700751231\n"
     ]
    },
    {
     "name": "stderr",
     "output_type": "stream",
     "text": [
      "c:\\Users\\dariy\\anaconda3\\Lib\\site-packages\\sklearn\\cluster\\_kmeans.py:1412: FutureWarning: The default value of `n_init` will change from 10 to 'auto' in 1.4. Set the value of `n_init` explicitly to suppress the warning\n",
      "  super()._check_params_vs_input(X, default_n_init=10)\n",
      "c:\\Users\\dariy\\anaconda3\\Lib\\site-packages\\sklearn\\cluster\\_kmeans.py:1436: UserWarning: KMeans is known to have a memory leak on Windows with MKL, when there are less chunks than available threads. You can avoid it by setting the environment variable OMP_NUM_THREADS=4.\n",
      "  warnings.warn(\n"
     ]
    },
    {
     "name": "stdout",
     "output_type": "stream",
     "text": [
      "For n_clusters=3, the silhouette score is 0.39485705030930995\n"
     ]
    }
   ],
   "source": [
    "# Silhouette analysis\n",
    "from sklearn.metrics import silhouette_score\n",
    "range_n_clusters = [2,3]\n",
    "\n",
    "for num_clusters in range_n_clusters:\n",
    "\n",
    "    kmeans = KMeans(n_clusters=num_clusters, max_iter=50)\n",
    "    kmeans.fit(rfm_df_scaled)\n",
    "\n",
    "    cluster_labels = kmeans.labels_\n",
    "\n",
    "    silhouette_avg = silhouette_score(rfm_df_scaled, cluster_labels)\n",
    "    print(\"For n_clusters={0}, the silhouette score is {1}\".format(num_clusters, silhouette_avg))"
   ]
  },
  {
   "cell_type": "code",
   "execution_count": 832,
   "metadata": {},
   "outputs": [
    {
     "name": "stderr",
     "output_type": "stream",
     "text": [
      "c:\\Users\\dariy\\anaconda3\\Lib\\site-packages\\sklearn\\cluster\\_kmeans.py:1412: FutureWarning: The default value of `n_init` will change from 10 to 'auto' in 1.4. Set the value of `n_init` explicitly to suppress the warning\n",
      "  super()._check_params_vs_input(X, default_n_init=10)\n",
      "c:\\Users\\dariy\\anaconda3\\Lib\\site-packages\\sklearn\\cluster\\_kmeans.py:1436: UserWarning: KMeans is known to have a memory leak on Windows with MKL, when there are less chunks than available threads. You can avoid it by setting the environment variable OMP_NUM_THREADS=4.\n",
      "  warnings.warn(\n",
      "c:\\Users\\dariy\\anaconda3\\Lib\\site-packages\\sklearn\\cluster\\_kmeans.py:1412: FutureWarning: The default value of `n_init` will change from 10 to 'auto' in 1.4. Set the value of `n_init` explicitly to suppress the warning\n",
      "  super()._check_params_vs_input(X, default_n_init=10)\n",
      "c:\\Users\\dariy\\anaconda3\\Lib\\site-packages\\sklearn\\cluster\\_kmeans.py:1436: UserWarning: KMeans is known to have a memory leak on Windows with MKL, when there are less chunks than available threads. You can avoid it by setting the environment variable OMP_NUM_THREADS=4.\n",
      "  warnings.warn(\n",
      "c:\\Users\\dariy\\anaconda3\\Lib\\site-packages\\sklearn\\cluster\\_kmeans.py:1412: FutureWarning: The default value of `n_init` will change from 10 to 'auto' in 1.4. Set the value of `n_init` explicitly to suppress the warning\n",
      "  super()._check_params_vs_input(X, default_n_init=10)\n",
      "c:\\Users\\dariy\\anaconda3\\Lib\\site-packages\\sklearn\\cluster\\_kmeans.py:1436: UserWarning: KMeans is known to have a memory leak on Windows with MKL, when there are less chunks than available threads. You can avoid it by setting the environment variable OMP_NUM_THREADS=4.\n",
      "  warnings.warn(\n",
      "c:\\Users\\dariy\\anaconda3\\Lib\\site-packages\\sklearn\\cluster\\_kmeans.py:1412: FutureWarning: The default value of `n_init` will change from 10 to 'auto' in 1.4. Set the value of `n_init` explicitly to suppress the warning\n",
      "  super()._check_params_vs_input(X, default_n_init=10)\n",
      "c:\\Users\\dariy\\anaconda3\\Lib\\site-packages\\sklearn\\cluster\\_kmeans.py:1436: UserWarning: KMeans is known to have a memory leak on Windows with MKL, when there are less chunks than available threads. You can avoid it by setting the environment variable OMP_NUM_THREADS=4.\n",
      "  warnings.warn(\n",
      "c:\\Users\\dariy\\anaconda3\\Lib\\site-packages\\sklearn\\cluster\\_kmeans.py:1412: FutureWarning: The default value of `n_init` will change from 10 to 'auto' in 1.4. Set the value of `n_init` explicitly to suppress the warning\n",
      "  super()._check_params_vs_input(X, default_n_init=10)\n",
      "c:\\Users\\dariy\\anaconda3\\Lib\\site-packages\\sklearn\\cluster\\_kmeans.py:1436: UserWarning: KMeans is known to have a memory leak on Windows with MKL, when there are less chunks than available threads. You can avoid it by setting the environment variable OMP_NUM_THREADS=4.\n",
      "  warnings.warn(\n",
      "c:\\Users\\dariy\\anaconda3\\Lib\\site-packages\\sklearn\\cluster\\_kmeans.py:1412: FutureWarning: The default value of `n_init` will change from 10 to 'auto' in 1.4. Set the value of `n_init` explicitly to suppress the warning\n",
      "  super()._check_params_vs_input(X, default_n_init=10)\n",
      "c:\\Users\\dariy\\anaconda3\\Lib\\site-packages\\sklearn\\cluster\\_kmeans.py:1436: UserWarning: KMeans is known to have a memory leak on Windows with MKL, when there are less chunks than available threads. You can avoid it by setting the environment variable OMP_NUM_THREADS=4.\n",
      "  warnings.warn(\n",
      "c:\\Users\\dariy\\anaconda3\\Lib\\site-packages\\sklearn\\cluster\\_kmeans.py:1412: FutureWarning: The default value of `n_init` will change from 10 to 'auto' in 1.4. Set the value of `n_init` explicitly to suppress the warning\n",
      "  super()._check_params_vs_input(X, default_n_init=10)\n",
      "c:\\Users\\dariy\\anaconda3\\Lib\\site-packages\\sklearn\\cluster\\_kmeans.py:1436: UserWarning: KMeans is known to have a memory leak on Windows with MKL, when there are less chunks than available threads. You can avoid it by setting the environment variable OMP_NUM_THREADS=4.\n",
      "  warnings.warn(\n"
     ]
    },
    {
     "data": {
      "text/plain": [
       "[<matplotlib.lines.Line2D at 0x23aabdce0d0>]"
      ]
     },
     "execution_count": 832,
     "metadata": {},
     "output_type": "execute_result"
    },
    {
     "data": {
      "image/png": "[encoded data removed]",
      "text/plain": [
       "<Figure size 640x480 with 1 Axes>"
      ]
     },
     "metadata": {},
     "output_type": "display_data"
    }
   ],
   "source": [
    "# Elbow-curve /SSD\n",
    "ssd = []\n",
    "range_n_clusters = [2, 3, 4]\n",
    "for num_clusters in range_n_clusters:\n",
    "    kmeans = KMeans(n_clusters=num_clusters, max_iter=50)\n",
    "    kmeans.fit(rfm_df_scaled)\n",
    "\n",
    "    ssd.append(kmeans.inertia_)\n",
    "\n",
    "plt.plot(ssd)"
   ]
  },
  {
   "cell_type": "code",
   "execution_count": 854,
   "metadata": {},
   "outputs": [
    {
     "name": "stdout",
     "output_type": "stream",
     "text": [
      "      Sales  Freqency  Recency  Cluster_Id\n",
      "0  5563.560        11      184           1\n",
      "1  1056.390        15       19           1\n",
      "2  1790.512        12      259           1\n",
      "3  5086.935        18       55           2\n",
      "4   886.156         6      415           0\n"
     ]
    }
   ],
   "source": [
    "rfm_df['Cluster_Id'] = kmeans.labels_\n",
    "\n",
    "rfm_df=rfm_df.rename(columns={'Order ID':\"Frequency\"})\n",
    "print(rfm_df.head())"
   ]
  },
  {
   "cell_type": "code",
   "execution_count": 855,
   "metadata": {},
   "outputs": [
    {
     "name": "stderr",
     "output_type": "stream",
     "text": [
      "c:\\Users\\dariy\\anaconda3\\Lib\\site-packages\\seaborn\\_oldcore.py:1498: FutureWarning: is_categorical_dtype is deprecated and will be removed in a future version. Use isinstance(dtype, CategoricalDtype) instead\n",
      "  if pd.api.types.is_categorical_dtype(vector):\n",
      "c:\\Users\\dariy\\anaconda3\\Lib\\site-packages\\seaborn\\_oldcore.py:1498: FutureWarning: is_categorical_dtype is deprecated and will be removed in a future version. Use isinstance(dtype, CategoricalDtype) instead\n",
      "  if pd.api.types.is_categorical_dtype(vector):\n",
      "c:\\Users\\dariy\\anaconda3\\Lib\\site-packages\\seaborn\\_oldcore.py:1498: FutureWarning: is_categorical_dtype is deprecated and will be removed in a future version. Use isinstance(dtype, CategoricalDtype) instead\n",
      "  if pd.api.types.is_categorical_dtype(vector):\n"
     ]
    },
    {
     "data": {
      "text/plain": [
       "<Axes: xlabel='Cluster_Id', ylabel='Sales'>"
      ]
     },
     "execution_count": 855,
     "metadata": {},
     "output_type": "execute_result"
    },
    {
     "data": {
      "image/png": "[encoded data removed]",
      "text/plain": [
       "<Figure size 640x480 with 1 Axes>"
      ]
     },
     "metadata": {},
     "output_type": "display_data"
    }
   ],
   "source": [
    "# Box plot to visualize Cluster Id vs Amount\n",
    "sns.boxplot(x='Cluster_Id', y='Sales', data=rfm_df)"
   ]
  },
  {
   "cell_type": "code",
   "execution_count": 856,
   "metadata": {},
   "outputs": [
    {
     "name": "stderr",
     "output_type": "stream",
     "text": [
      "c:\\Users\\dariy\\anaconda3\\Lib\\site-packages\\seaborn\\_oldcore.py:1498: FutureWarning: is_categorical_dtype is deprecated and will be removed in a future version. Use isinstance(dtype, CategoricalDtype) instead\n",
      "  if pd.api.types.is_categorical_dtype(vector):\n",
      "c:\\Users\\dariy\\anaconda3\\Lib\\site-packages\\seaborn\\_oldcore.py:1498: FutureWarning: is_categorical_dtype is deprecated and will be removed in a future version. Use isinstance(dtype, CategoricalDtype) instead\n",
      "  if pd.api.types.is_categorical_dtype(vector):\n",
      "c:\\Users\\dariy\\anaconda3\\Lib\\site-packages\\seaborn\\_oldcore.py:1498: FutureWarning: is_categorical_dtype is deprecated and will be removed in a future version. Use isinstance(dtype, CategoricalDtype) instead\n",
      "  if pd.api.types.is_categorical_dtype(vector):\n"
     ]
    },
    {
     "data": {
      "text/plain": [
       "<Axes: xlabel='Cluster_Id', ylabel='Freqency'>"
      ]
     },
     "execution_count": 856,
     "metadata": {},
     "output_type": "execute_result"
    },
    {
     "data": {
      "image/png": "[encoded data removed]",
      "text/plain": [
       "<Figure size 640x480 with 1 Axes>"
      ]
     },
     "metadata": {},
     "output_type": "display_data"
    }
   ],
   "source": [
    "# Box plot to visualize Cluster Id vs Frequency\n",
    "sns.boxplot(x='Cluster_Id', y='Freqency', data=rfm_df)\n"
   ]
  },
  {
   "cell_type": "code",
   "execution_count": 857,
   "metadata": {},
   "outputs": [
    {
     "name": "stderr",
     "output_type": "stream",
     "text": [
      "c:\\Users\\dariy\\anaconda3\\Lib\\site-packages\\seaborn\\_oldcore.py:1498: FutureWarning: is_categorical_dtype is deprecated and will be removed in a future version. Use isinstance(dtype, CategoricalDtype) instead\n",
      "  if pd.api.types.is_categorical_dtype(vector):\n",
      "c:\\Users\\dariy\\anaconda3\\Lib\\site-packages\\seaborn\\_oldcore.py:1498: FutureWarning: is_categorical_dtype is deprecated and will be removed in a future version. Use isinstance(dtype, CategoricalDtype) instead\n",
      "  if pd.api.types.is_categorical_dtype(vector):\n",
      "c:\\Users\\dariy\\anaconda3\\Lib\\site-packages\\seaborn\\_oldcore.py:1498: FutureWarning: is_categorical_dtype is deprecated and will be removed in a future version. Use isinstance(dtype, CategoricalDtype) instead\n",
      "  if pd.api.types.is_categorical_dtype(vector):\n"
     ]
    },
    {
     "data": {
      "text/plain": [
       "<Axes: xlabel='Cluster_Id', ylabel='Recency'>"
      ]
     },
     "execution_count": 857,
     "metadata": {},
     "output_type": "execute_result"
    },
    {
     "data": {
      "image/png": "[encoded data removed]",
      "text/plain": [
       "<Figure size 640x480 with 1 Axes>"
      ]
     },
     "metadata": {},
     "output_type": "display_data"
    }
   ],
   "source": [
    "# Box plot to visualize Cluster Id vs Recency\n",
    "sns.boxplot(x='Cluster_Id', y='Recency', data=rfm_df)"
   ]
  }
 ],
 "metadata": {
  "kernelspec": {
   "display_name": "base",
   "language": "python",
   "name": "python3"
  },
  "language_info": {
   "codemirror_mode": {
    "name": "ipython",
    "version": 3
   },
   "file_extension": ".py",
   "mimetype": "text/x-python",
   "name": "python",
   "nbconvert_exporter": "python",
   "pygments_lexer": "ipython3",
   "version": "3.11.5"
  }
 },
 "nbformat": 4,
 "nbformat_minor": 2
}
